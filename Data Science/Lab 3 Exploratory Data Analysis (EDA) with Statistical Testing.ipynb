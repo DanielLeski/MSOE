{
 "cells": [
  {
   "cell_type": "markdown",
   "metadata": {},
   "source": [
    "# Lab 3: Exploratory Data Analysis with Statistical Testing\n",
    "\n",
    "**Daniel Leskiewicz**"
   ]
  },
  {
   "cell_type": "code",
   "execution_count": 1,
   "metadata": {},
   "outputs": [],
   "source": [
    "import pandas as pd\n",
    "import numpy as np\n",
    "import seaborn as sns\n",
    "import matplotlib.pyplot as plt\n",
    "from scipy import stats"
   ]
  },
  {
   "cell_type": "markdown",
   "metadata": {},
   "source": [
    "## Problem Results\n",
    "\n",
    "You now decide to look at the survey results. You have 100 responses! 68 students said\n",
    "they play video games regularly, while 32 students said they did not. The 68 games\n",
    "have an average GPA of 3.4 with a standard deviation of 1.2, while the 32 non-gamers\n",
    "have an average GPA of 3.3 with a standard deviation of 1.1."
   ]
  },
  {
   "cell_type": "markdown",
   "metadata": {},
   "source": [
    "## Part 1: Review of Statistical Tests"
   ]
  },
  {
   "cell_type": "markdown",
   "metadata": {},
   "source": [
    "##### We use a t-test when we have one nominal variable and one measurement variable, and we want to compare the mean values of the measurement variable. The situtation of the problem meets the criteria because we have a nomial variable which is the Yes or No question asking Do you play video games regularly and the measurement variable is the GPA. "
   ]
  },
  {
   "cell_type": "markdown",
   "metadata": {},
   "source": [
    "##### The null hypothesis is that there is no difference between if the person plays games or not and their GPA. The alternate hypothesis is if there is a difference between a person playing and their GPA."
   ]
  },
  {
   "cell_type": "markdown",
   "metadata": {},
   "source": [
    "##### We would use the two smaple t test when we have determined if two population means are equal. This is typically used with numerical and or boolean values."
   ]
  },
  {
   "cell_type": "code",
   "execution_count": 2,
   "metadata": {},
   "outputs": [
    {
     "data": {
      "text/plain": [
       "Ttest_indResult(statistic=0.39893881176878243, pvalue=0.6908062583072547)"
      ]
     },
     "execution_count": 2,
     "metadata": {},
     "output_type": "execute_result"
    }
   ],
   "source": [
    "stats.ttest_ind_from_stats(mean1=3.4, std1=1.2, nobs1=68, mean2=3.3, std2=1.1, nobs2=32)"
   ]
  },
  {
   "cell_type": "markdown",
   "metadata": {},
   "source": [
    "##### From the results above, the pvalue is 0.69080 which is greater than 0.01 which then concludes that we are unable to reject the null hypothesis because the pvalue is greater than the threshold given. The difference is not significant between the groups as a result."
   ]
  },
  {
   "cell_type": "markdown",
   "metadata": {},
   "source": [
    "##### Well the evidence is that it is supported by the original null hypothesis that students that play videos games their GPA's are not affected negatively."
   ]
  },
  {
   "cell_type": "markdown",
   "metadata": {},
   "source": [
    "## Part 2: Exploring Additional Statistical Tests"
   ]
  },
  {
   "cell_type": "markdown",
   "metadata": {},
   "source": [
    "Using three different statistical tests and answering questions on these tests.\n",
    "\n",
    "a)  List the two types of variables for which test is appropiate.\n",
    "\n",
    "\n",
    "b)  Write down the general forms of the null and alternate hypotheses (one sentence per)\n",
    "\n",
    "\n",
    "c)  In your own words, write what it would mean if the test did and did not indicate statistical significance. \n"
   ]
  },
  {
   "cell_type": "markdown",
   "metadata": {},
   "source": [
    "### Correlation Based on Linear Regression"
   ]
  },
  {
   "cell_type": "markdown",
   "metadata": {},
   "source": [
    "a) Correlation Based on Linear Regression uses two numerical values\n",
    "\n",
    "b) \n",
    "\n",
    "Null Hypothesis: Is the slope of the best-fit line equal to zero\n",
    "   \n",
    "Alternative Hypothesis: Is the slope of the best-fit line not equal to zero\n",
    "\n",
    "c) So to start, if they are significant then they correlated otherwise they are not. "
   ]
  },
  {
   "cell_type": "markdown",
   "metadata": {},
   "source": [
    "## Kruskal-Wallis Test"
   ]
  },
  {
   "cell_type": "markdown",
   "metadata": {},
   "source": [
    "a) The Kruskal-Wallis test uses one nominal variables and one ranked variable. This tests shows whether the mean ranks are the same in all the groups.\n",
    "\n",
    "b) \n",
    "\n",
    "Null Hypothesis: The test is that the mean ranks of the groups are the same.\n",
    "\n",
    "Alternative Hypothesis: The tests is that the mean ranks of the groups are not the same.\n",
    "\n",
    "c) So to start, if the test indicated statistical significance then the two variables are associated together or wise they are not."
   ]
  },
  {
   "cell_type": "markdown",
   "metadata": {},
   "source": [
    "## Chi-Sqaured Test of Goodness of fit"
   ]
  },
  {
   "cell_type": "markdown",
   "metadata": {},
   "source": [
    "a) Chi-sqaured test of goodness is used with one nominal variable, you want to see whether the number of observations in each category fits a theoretical expectation, and the sample size if large.\n",
    "\n",
    "b) \n",
    "\n",
    "Null Hypothesis: The number of observations in each category that is equal to the predicted by a biological theory.\n",
    "\n",
    "Alternative Hypothesis: Is the observed numbers are different from the expected.\n",
    "\n",
    "c) \n",
    "\n",
    "To start, you take your calculated chi-sqaured value and compare it to a critical value from the chi-square table, if the chi-sqaure value is more than the critical value, then there is a significant difference."
   ]
  },
  {
   "cell_type": "markdown",
   "metadata": {},
   "source": [
    "## Part 3: Regression on Price"
   ]
  },
  {
   "cell_type": "markdown",
   "metadata": {},
   "source": [
    "#### a) Load the CSV file of the cleaned dataset "
   ]
  },
  {
   "cell_type": "code",
   "execution_count": 3,
   "metadata": {},
   "outputs": [],
   "source": [
    "data = pd.read_csv('UpdatedAndCleanedSacramentorealestatetransactions.csv', dtype={'city': 'category', 'zip': 'category', \\\n",
    "                      'state': 'category', 'beds': 'category', \\\n",
    "                      'baths': 'category', 'type': 'category', \\\n",
    "                      'street_type': 'category'})"
   ]
  },
  {
   "cell_type": "code",
   "execution_count": 4,
   "metadata": {
    "scrolled": true
   },
   "outputs": [
    {
     "data": {
      "text/html": [
       "<div>\n",
       "<style scoped>\n",
       "    .dataframe tbody tr th:only-of-type {\n",
       "        vertical-align: middle;\n",
       "    }\n",
       "\n",
       "    .dataframe tbody tr th {\n",
       "        vertical-align: top;\n",
       "    }\n",
       "\n",
       "    .dataframe thead th {\n",
       "        text-align: right;\n",
       "    }\n",
       "</style>\n",
       "<table border=\"1\" class=\"dataframe\">\n",
       "  <thead>\n",
       "    <tr style=\"text-align: right;\">\n",
       "      <th></th>\n",
       "      <th>street</th>\n",
       "      <th>city</th>\n",
       "      <th>zip</th>\n",
       "      <th>state</th>\n",
       "      <th>beds</th>\n",
       "      <th>baths</th>\n",
       "      <th>sq__ft</th>\n",
       "      <th>type</th>\n",
       "      <th>sale_date</th>\n",
       "      <th>price</th>\n",
       "      <th>latitude</th>\n",
       "      <th>longitude</th>\n",
       "      <th>empty_lot</th>\n",
       "      <th>street_type</th>\n",
       "    </tr>\n",
       "  </thead>\n",
       "  <tbody>\n",
       "    <tr>\n",
       "      <th>0</th>\n",
       "      <td>3526 HIGH ST</td>\n",
       "      <td>SACRAMENTO</td>\n",
       "      <td>95838</td>\n",
       "      <td>CA</td>\n",
       "      <td>2</td>\n",
       "      <td>1</td>\n",
       "      <td>836</td>\n",
       "      <td>Residential</td>\n",
       "      <td>Wed May 21 00:00:00 EDT 2008</td>\n",
       "      <td>59222</td>\n",
       "      <td>38.631913</td>\n",
       "      <td>-121.434879</td>\n",
       "      <td>False</td>\n",
       "      <td>ST</td>\n",
       "    </tr>\n",
       "    <tr>\n",
       "      <th>1</th>\n",
       "      <td>51 OMAHA CT</td>\n",
       "      <td>SACRAMENTO</td>\n",
       "      <td>95823</td>\n",
       "      <td>CA</td>\n",
       "      <td>3</td>\n",
       "      <td>1</td>\n",
       "      <td>1167</td>\n",
       "      <td>Residential</td>\n",
       "      <td>Wed May 21 00:00:00 EDT 2008</td>\n",
       "      <td>68212</td>\n",
       "      <td>38.478902</td>\n",
       "      <td>-121.431028</td>\n",
       "      <td>False</td>\n",
       "      <td>CT</td>\n",
       "    </tr>\n",
       "    <tr>\n",
       "      <th>2</th>\n",
       "      <td>2796 BRANCH ST</td>\n",
       "      <td>SACRAMENTO</td>\n",
       "      <td>95815</td>\n",
       "      <td>CA</td>\n",
       "      <td>2</td>\n",
       "      <td>1</td>\n",
       "      <td>796</td>\n",
       "      <td>Residential</td>\n",
       "      <td>Wed May 21 00:00:00 EDT 2008</td>\n",
       "      <td>68880</td>\n",
       "      <td>38.618305</td>\n",
       "      <td>-121.443839</td>\n",
       "      <td>False</td>\n",
       "      <td>ST</td>\n",
       "    </tr>\n",
       "    <tr>\n",
       "      <th>3</th>\n",
       "      <td>2805 JANETTE WAY</td>\n",
       "      <td>SACRAMENTO</td>\n",
       "      <td>95815</td>\n",
       "      <td>CA</td>\n",
       "      <td>2</td>\n",
       "      <td>1</td>\n",
       "      <td>852</td>\n",
       "      <td>Residential</td>\n",
       "      <td>Wed May 21 00:00:00 EDT 2008</td>\n",
       "      <td>69307</td>\n",
       "      <td>38.616835</td>\n",
       "      <td>-121.439146</td>\n",
       "      <td>False</td>\n",
       "      <td>WAY</td>\n",
       "    </tr>\n",
       "    <tr>\n",
       "      <th>4</th>\n",
       "      <td>6001 MCMAHON DR</td>\n",
       "      <td>SACRAMENTO</td>\n",
       "      <td>95824</td>\n",
       "      <td>CA</td>\n",
       "      <td>2</td>\n",
       "      <td>1</td>\n",
       "      <td>797</td>\n",
       "      <td>Residential</td>\n",
       "      <td>Wed May 21 00:00:00 EDT 2008</td>\n",
       "      <td>81900</td>\n",
       "      <td>38.519470</td>\n",
       "      <td>-121.435768</td>\n",
       "      <td>False</td>\n",
       "      <td>DR</td>\n",
       "    </tr>\n",
       "    <tr>\n",
       "      <th>5</th>\n",
       "      <td>5828 PEPPERMILL CT</td>\n",
       "      <td>SACRAMENTO</td>\n",
       "      <td>95841</td>\n",
       "      <td>CA</td>\n",
       "      <td>3</td>\n",
       "      <td>1</td>\n",
       "      <td>1122</td>\n",
       "      <td>Condo</td>\n",
       "      <td>Wed May 21 00:00:00 EDT 2008</td>\n",
       "      <td>89921</td>\n",
       "      <td>38.662595</td>\n",
       "      <td>-121.327813</td>\n",
       "      <td>False</td>\n",
       "      <td>CT</td>\n",
       "    </tr>\n",
       "    <tr>\n",
       "      <th>6</th>\n",
       "      <td>6048 OGDEN NASH WAY</td>\n",
       "      <td>SACRAMENTO</td>\n",
       "      <td>95842</td>\n",
       "      <td>CA</td>\n",
       "      <td>3</td>\n",
       "      <td>2</td>\n",
       "      <td>1104</td>\n",
       "      <td>Residential</td>\n",
       "      <td>Wed May 21 00:00:00 EDT 2008</td>\n",
       "      <td>90895</td>\n",
       "      <td>38.681659</td>\n",
       "      <td>-121.351705</td>\n",
       "      <td>False</td>\n",
       "      <td>WAY</td>\n",
       "    </tr>\n",
       "    <tr>\n",
       "      <th>7</th>\n",
       "      <td>2561 19TH AVE</td>\n",
       "      <td>SACRAMENTO</td>\n",
       "      <td>95820</td>\n",
       "      <td>CA</td>\n",
       "      <td>3</td>\n",
       "      <td>1</td>\n",
       "      <td>1177</td>\n",
       "      <td>Residential</td>\n",
       "      <td>Wed May 21 00:00:00 EDT 2008</td>\n",
       "      <td>91002</td>\n",
       "      <td>38.535092</td>\n",
       "      <td>-121.481367</td>\n",
       "      <td>False</td>\n",
       "      <td>AVE</td>\n",
       "    </tr>\n",
       "    <tr>\n",
       "      <th>8</th>\n",
       "      <td>11150 TRINITY RIVER DR Unit 114</td>\n",
       "      <td>RANCHO CORDOVA</td>\n",
       "      <td>95670</td>\n",
       "      <td>CA</td>\n",
       "      <td>2</td>\n",
       "      <td>2</td>\n",
       "      <td>941</td>\n",
       "      <td>Condo</td>\n",
       "      <td>Wed May 21 00:00:00 EDT 2008</td>\n",
       "      <td>94905</td>\n",
       "      <td>38.621188</td>\n",
       "      <td>-121.270555</td>\n",
       "      <td>False</td>\n",
       "      <td>Unit</td>\n",
       "    </tr>\n",
       "    <tr>\n",
       "      <th>9</th>\n",
       "      <td>7325 10TH ST</td>\n",
       "      <td>RIO LINDA</td>\n",
       "      <td>95673</td>\n",
       "      <td>CA</td>\n",
       "      <td>3</td>\n",
       "      <td>2</td>\n",
       "      <td>1146</td>\n",
       "      <td>Residential</td>\n",
       "      <td>Wed May 21 00:00:00 EDT 2008</td>\n",
       "      <td>98937</td>\n",
       "      <td>38.700909</td>\n",
       "      <td>-121.442979</td>\n",
       "      <td>False</td>\n",
       "      <td>ST</td>\n",
       "    </tr>\n",
       "  </tbody>\n",
       "</table>\n",
       "</div>"
      ],
      "text/plain": [
       "                            street            city    zip state beds baths  \\\n",
       "0                     3526 HIGH ST      SACRAMENTO  95838    CA    2     1   \n",
       "1                      51 OMAHA CT      SACRAMENTO  95823    CA    3     1   \n",
       "2                   2796 BRANCH ST      SACRAMENTO  95815    CA    2     1   \n",
       "3                 2805 JANETTE WAY      SACRAMENTO  95815    CA    2     1   \n",
       "4                  6001 MCMAHON DR      SACRAMENTO  95824    CA    2     1   \n",
       "5               5828 PEPPERMILL CT      SACRAMENTO  95841    CA    3     1   \n",
       "6              6048 OGDEN NASH WAY      SACRAMENTO  95842    CA    3     2   \n",
       "7                    2561 19TH AVE      SACRAMENTO  95820    CA    3     1   \n",
       "8  11150 TRINITY RIVER DR Unit 114  RANCHO CORDOVA  95670    CA    2     2   \n",
       "9                     7325 10TH ST       RIO LINDA  95673    CA    3     2   \n",
       "\n",
       "   sq__ft         type                     sale_date  price   latitude  \\\n",
       "0     836  Residential  Wed May 21 00:00:00 EDT 2008  59222  38.631913   \n",
       "1    1167  Residential  Wed May 21 00:00:00 EDT 2008  68212  38.478902   \n",
       "2     796  Residential  Wed May 21 00:00:00 EDT 2008  68880  38.618305   \n",
       "3     852  Residential  Wed May 21 00:00:00 EDT 2008  69307  38.616835   \n",
       "4     797  Residential  Wed May 21 00:00:00 EDT 2008  81900  38.519470   \n",
       "5    1122        Condo  Wed May 21 00:00:00 EDT 2008  89921  38.662595   \n",
       "6    1104  Residential  Wed May 21 00:00:00 EDT 2008  90895  38.681659   \n",
       "7    1177  Residential  Wed May 21 00:00:00 EDT 2008  91002  38.535092   \n",
       "8     941        Condo  Wed May 21 00:00:00 EDT 2008  94905  38.621188   \n",
       "9    1146  Residential  Wed May 21 00:00:00 EDT 2008  98937  38.700909   \n",
       "\n",
       "    longitude  empty_lot street_type  \n",
       "0 -121.434879      False          ST  \n",
       "1 -121.431028      False          CT  \n",
       "2 -121.443839      False          ST  \n",
       "3 -121.439146      False         WAY  \n",
       "4 -121.435768      False          DR  \n",
       "5 -121.327813      False          CT  \n",
       "6 -121.351705      False         WAY  \n",
       "7 -121.481367      False         AVE  \n",
       "8 -121.270555      False        Unit  \n",
       "9 -121.442979      False          ST  "
      ]
     },
     "execution_count": 4,
     "metadata": {},
     "output_type": "execute_result"
    }
   ],
   "source": [
    "data.head(10)"
   ]
  },
  {
   "cell_type": "code",
   "execution_count": 5,
   "metadata": {},
   "outputs": [
    {
     "name": "stdout",
     "output_type": "stream",
     "text": [
      "<class 'pandas.core.frame.DataFrame'>\n",
      "RangeIndex: 985 entries, 0 to 984\n",
      "Data columns (total 14 columns):\n",
      "street         985 non-null object\n",
      "city           985 non-null category\n",
      "zip            985 non-null category\n",
      "state          985 non-null category\n",
      "beds           985 non-null category\n",
      "baths          985 non-null category\n",
      "sq__ft         985 non-null int64\n",
      "type           985 non-null category\n",
      "sale_date      985 non-null object\n",
      "price          985 non-null int64\n",
      "latitude       985 non-null float64\n",
      "longitude      985 non-null float64\n",
      "empty_lot      985 non-null bool\n",
      "street_type    985 non-null category\n",
      "dtypes: bool(1), category(7), float64(2), int64(2), object(2)\n",
      "memory usage: 60.1+ KB\n"
     ]
    }
   ],
   "source": [
    "data.info()"
   ]
  },
  {
   "cell_type": "markdown",
   "metadata": {},
   "source": [
    "#### b) Fitting a simple linear regression model"
   ]
  },
  {
   "cell_type": "code",
   "execution_count": 6,
   "metadata": {},
   "outputs": [
    {
     "name": "stdout",
     "output_type": "stream",
     "text": [
      "Pvalue for Sq__ft:  4.433056844561304e-27\n",
      "Pvalue for latitude:  0.21464106576976388\n",
      "Pvalue for longitude:  8.552356644182237e-20\n"
     ]
    }
   ],
   "source": [
    "slope, intercept, r, sq__ft_pvalue, stderr = stats.linregress(data['price'], data['sq__ft'])\n",
    "slope, intercept, r, lat_pvalue, stderr = stats.linregress(data['price'], data['latitude'])\n",
    "slope, intercept, r, long_pvalue, stderr = stats.linregress(data['price'], data['longitude'])\n",
    "print(\"Pvalue for Sq__ft: \", sq__ft_pvalue)\n",
    "print(\"Pvalue for latitude: \", lat_pvalue)\n",
    "print(\"Pvalue for longitude: \", long_pvalue)"
   ]
  },
  {
   "cell_type": "markdown",
   "metadata": {},
   "source": [
    "| Variable | Pvalue | Significance at Threshold of 0.01\n",
    "| --- | --- | --- |\n",
    "| Sq Ft | 4.43305e-27 | Yes |\n",
    "| Latitude | .214641 | No |\n",
    "| Longitude | 8.55235e-20 | Yes |"
   ]
  },
  {
   "cell_type": "markdown",
   "metadata": {},
   "source": [
    "#### c) We can test for association between categorical and continuous variables using Kruskal-Wallis test"
   ]
  },
  {
   "cell_type": "code",
   "execution_count": 7,
   "metadata": {},
   "outputs": [
    {
     "name": "stdout",
     "output_type": "stream",
     "text": [
      "8.588143361577209e-49\n"
     ]
    }
   ],
   "source": [
    "city_samples = []\n",
    "for v in set(data['city']):\n",
    "    mask = data['city'] == v\n",
    "    city_samples.append(data['price'][mask])\n",
    "value, city_pvalue = stats.kruskal(*city_samples)\n",
    "print(city_pvalue)"
   ]
  },
  {
   "cell_type": "code",
   "execution_count": 9,
   "metadata": {},
   "outputs": [
    {
     "name": "stdout",
     "output_type": "stream",
     "text": [
      "2.2206936511400606e-65\n"
     ]
    }
   ],
   "source": [
    "samples_by_zip = []\n",
    "for v in set(data['zip']):\n",
    "    mask = data['zip'] == v\n",
    "    samples_by_zip.append(data['price'][mask])\n",
    "value2, zip_p = stats.kruskal(*samples_by_zip)\n",
    "print(zip_p)"
   ]
  },
  {
   "cell_type": "code",
   "execution_count": 10,
   "metadata": {},
   "outputs": [
    {
     "name": "stdout",
     "output_type": "stream",
     "text": [
      "9.323012566322206e-38\n"
     ]
    }
   ],
   "source": [
    "samples_by_beds = []\n",
    "for value in set(data['beds']):\n",
    "    mask = data['beds'] == value\n",
    "    samples_by_beds.append(data['price'][mask])\n",
    "value3, beds_p = stats.kruskal(*samples_by_beds)\n",
    "print(beds_p)"
   ]
  },
  {
   "cell_type": "code",
   "execution_count": 11,
   "metadata": {},
   "outputs": [
    {
     "name": "stdout",
     "output_type": "stream",
     "text": [
      "1.1109110373679834e-50\n"
     ]
    }
   ],
   "source": [
    "samples_by_baths = []\n",
    "for value in set(data['baths']):\n",
    "    mask = data['baths'] == value\n",
    "    samples_by_baths.append(data['price'][mask])\n",
    "value4, baths_p = stats.kruskal(*samples_by_baths)\n",
    "print(baths_p)"
   ]
  },
  {
   "cell_type": "code",
   "execution_count": 12,
   "metadata": {},
   "outputs": [
    {
     "name": "stdout",
     "output_type": "stream",
     "text": [
      "1.1531292565462277e-06\n"
     ]
    }
   ],
   "source": [
    "samples_by_type = []\n",
    "for value in set(data['type']):\n",
    "    mask = data['type'] == value\n",
    "    samples_by_type.append(data['price'][mask])\n",
    "value5, type_p = stats.kruskal(*samples_by_type)\n",
    "print(type_p)"
   ]
  },
  {
   "cell_type": "code",
   "execution_count": 13,
   "metadata": {},
   "outputs": [
    {
     "name": "stdout",
     "output_type": "stream",
     "text": [
      "0.03803941698702659\n"
     ]
    }
   ],
   "source": [
    "samples_by_empty_lot = []\n",
    "for value in set(data['empty_lot']):\n",
    "    mask = data['empty_lot'] == value\n",
    "    samples_by_empty_lot.append(data['price'][mask])\n",
    "value6, empty_lot_p = stats.kruskal(*samples_by_empty_lot)\n",
    "print(empty_lot_p)"
   ]
  },
  {
   "cell_type": "code",
   "execution_count": 14,
   "metadata": {},
   "outputs": [
    {
     "name": "stdout",
     "output_type": "stream",
     "text": [
      "4.552769035566837e-22\n"
     ]
    }
   ],
   "source": [
    "samples_by_street_type = []\n",
    "for value in set(data['street_type']):\n",
    "    mask = data['street_type'] == value\n",
    "    samples_by_street_type.append(data['price'][mask])\n",
    "value7, street_type_p = stats.kruskal(*samples_by_street_type)\n",
    "print(street_type_p)"
   ]
  },
  {
   "cell_type": "markdown",
   "metadata": {},
   "source": [
    "| Variable | p-value | Statistically Significant Relationship at Threshold = 0.01 |\n",
    "| --- | --- | --- |\n",
    "| City | 8.588143361571794e-49 | Yes |\n",
    "| Zip | 2.2206936511391717e-65 | Yes |\n",
    "| State | NA | No |\n",
    "| Beds | 9.323012566322206e-38 | Yes |\n",
    "| Baths | 1.1109110373679834e-50 | Yes |\n",
    "| Type | 1.1531292565464816e-06 | Yes |\n",
    "| Empty_Lot | 0.03803941698702659 | No |\n",
    "| Street_Type | 4.552769035566837e-22 | Yes |"
   ]
  },
  {
   "cell_type": "markdown",
   "metadata": {},
   "source": [
    "d) How do the results of the statistical tests compare with your analysis of the visualizations of variable pairs from Lab 2?\n",
    "- Well to start the results of the statistical tests are mostly up to par with the analysis I made from lab 2. I would say that the state could have more statisical significance if this data was across multiple states. But for the most part all of the significance are represeneted by the city, zip, amount of baths, amount of beds, but within lab 2 I had that street type was not a good predictor upon price meanwhile using the Kruskal test we see that it has some significance."
   ]
  },
  {
   "cell_type": "markdown",
   "metadata": {},
   "source": [
    "## Part 4: Classification on Property Type"
   ]
  },
  {
   "cell_type": "markdown",
   "metadata": {},
   "source": [
    "#### a) Running the Kruskal-Wallis Test for the continuous variables versus the property type"
   ]
  },
  {
   "cell_type": "code",
   "execution_count": 15,
   "metadata": {},
   "outputs": [
    {
     "name": "stdout",
     "output_type": "stream",
     "text": [
      "3.849635133463987e-12\n"
     ]
    }
   ],
   "source": [
    "samples_by_type = []\n",
    "for value in set(data['type']):\n",
    "    mask = data['type'] == value\n",
    "    samples_by_type.append(data['sq__ft'][mask])\n",
    "value8, sq_ft_p = stats.kruskal(*samples_by_type)\n",
    "print(sq_ft_p)"
   ]
  },
  {
   "cell_type": "code",
   "execution_count": 16,
   "metadata": {},
   "outputs": [
    {
     "name": "stdout",
     "output_type": "stream",
     "text": [
      "1.1531292565462277e-06\n"
     ]
    }
   ],
   "source": [
    "samples_by_type = []\n",
    "for value in set(data['type']):\n",
    "    mask = data['type'] == value\n",
    "    samples_by_type.append(data['price'][mask])\n",
    "value9, price_p = stats.kruskal(*samples_by_type)\n",
    "print(price_p)"
   ]
  },
  {
   "cell_type": "code",
   "execution_count": 17,
   "metadata": {},
   "outputs": [
    {
     "name": "stdout",
     "output_type": "stream",
     "text": [
      "0.4933696138791226\n"
     ]
    }
   ],
   "source": [
    "samples_by_type = []\n",
    "for value in set(data['type']):\n",
    "    mask = data['type'] == value\n",
    "    samples_by_type.append(data['latitude'][mask])\n",
    "value10, latitude_p = stats.kruskal(*samples_by_type)\n",
    "print(latitude_p)"
   ]
  },
  {
   "cell_type": "code",
   "execution_count": 18,
   "metadata": {},
   "outputs": [
    {
     "name": "stdout",
     "output_type": "stream",
     "text": [
      "0.3574295072205312\n"
     ]
    }
   ],
   "source": [
    "samples_by_type = []\n",
    "for value in set(data['type']):\n",
    "    mask = data['type'] == value\n",
    "    samples_by_type.append(data['longitude'][mask])\n",
    "value11, longitude_p = stats.kruskal(*samples_by_type)\n",
    "print(longitude_p)"
   ]
  },
  {
   "cell_type": "markdown",
   "metadata": {},
   "source": [
    "| Variable | p-value | Statistically Significant Relationship at Threshold = 0.01 |\n",
    "| --- | --- | --- |\n",
    "| Sq Ft | 3.849635133463987e-12 | Yes |\n",
    "| Price | 31.1531292565464816e-06 | Yes |\n",
    "| Latitude | 0.493369613879038 | No |\n",
    "| Longitude | 0.3574295072205312 | No |"
   ]
  },
  {
   "cell_type": "markdown",
   "metadata": {},
   "source": [
    "#### b) Testing two categorical variables for association using a Chi-squared test of independence."
   ]
  },
  {
   "cell_type": "code",
   "execution_count": 19,
   "metadata": {},
   "outputs": [
    {
     "name": "stdout",
     "output_type": "stream",
     "text": [
      "0.9999997357037187\n"
     ]
    }
   ],
   "source": [
    "combination_counts = data[['type', 'price']]\\\n",
    "                    .groupby(by=['type', 'price'])\\\n",
    "                    .size().unstack(level=0).fillna(0)\n",
    "chi2, price_pValue, _, _ = stats.chi2_contingency(combination_counts)\n",
    "print(price_pValue)"
   ]
  },
  {
   "cell_type": "code",
   "execution_count": 20,
   "metadata": {},
   "outputs": [
    {
     "name": "stdout",
     "output_type": "stream",
     "text": [
      "6.884142190454073e-149\n"
     ]
    }
   ],
   "source": [
    "combination_counts = data[['type', 'city']]\\\n",
    "                    .groupby(by=['type', 'city'])\\\n",
    "                    .size().unstack(level=0).fillna(0)\n",
    "chi2, city_pValue, _, _ = stats.chi2_contingency(combination_counts)\n",
    "print(city_pValue)"
   ]
  },
  {
   "cell_type": "code",
   "execution_count": 21,
   "metadata": {},
   "outputs": [
    {
     "name": "stdout",
     "output_type": "stream",
     "text": [
      "6.195871832483889e-06\n"
     ]
    }
   ],
   "source": [
    "combination_counts = data[['type', 'zip']]\\\n",
    "                    .groupby(by=['type', 'zip'])\\\n",
    "                    .size().unstack(level=0).fillna(0)\n",
    "chi2, zip_pValue, _, _ = stats.chi2_contingency(combination_counts)\n",
    "print(zip_pValue)"
   ]
  },
  {
   "cell_type": "code",
   "execution_count": 22,
   "metadata": {},
   "outputs": [
    {
     "name": "stdout",
     "output_type": "stream",
     "text": [
      "1.0\n"
     ]
    }
   ],
   "source": [
    "combination_counts = data[['type', 'state']]\\\n",
    "                    .groupby(by=['type', 'state'])\\\n",
    "                    .size().unstack(level=0).fillna(0)\n",
    "chi2, state_pValue, _, _ = stats.chi2_contingency(combination_counts)\n",
    "print(state_pValue)"
   ]
  },
  {
   "cell_type": "code",
   "execution_count": 23,
   "metadata": {},
   "outputs": [
    {
     "name": "stdout",
     "output_type": "stream",
     "text": [
      "1.6090894896930032e-64\n"
     ]
    }
   ],
   "source": [
    "combination_counts = data[['type', 'beds']]\\\n",
    "                    .groupby(by=['type', 'beds'])\\\n",
    "                    .size().unstack(level=0).fillna(0)\n",
    "chi2, beds_pValue, _, _ = stats.chi2_contingency(combination_counts)\n",
    "print(beds_pValue)"
   ]
  },
  {
   "cell_type": "code",
   "execution_count": 24,
   "metadata": {},
   "outputs": [
    {
     "name": "stdout",
     "output_type": "stream",
     "text": [
      "2.225837221388893e-41\n"
     ]
    }
   ],
   "source": [
    "combination_counts = data[['type', 'baths']]\\\n",
    "                    .groupby(by=['type', 'baths'])\\\n",
    "                    .size().unstack(level=0).fillna(0)\n",
    "chi2, baths_pValue, _, _ = stats.chi2_contingency(combination_counts)\n",
    "print(baths_pValue)"
   ]
  },
  {
   "cell_type": "code",
   "execution_count": 25,
   "metadata": {},
   "outputs": [
    {
     "name": "stdout",
     "output_type": "stream",
     "text": [
      "0.03857273017762252\n"
     ]
    }
   ],
   "source": [
    "combination_counts = data[['type', 'empty_lot']]\\\n",
    "                    .groupby(by=['type', 'empty_lot'])\\\n",
    "                    .size().unstack(level=0).fillna(0)\n",
    "chi2, empty_lot_pValue, _, _ = stats.chi2_contingency(combination_counts)\n",
    "print(empty_lot_pValue)"
   ]
  },
  {
   "cell_type": "code",
   "execution_count": 26,
   "metadata": {},
   "outputs": [
    {
     "name": "stdout",
     "output_type": "stream",
     "text": [
      "3.417489578166013e-79\n"
     ]
    }
   ],
   "source": [
    "combination_counts = data[['type', 'street_type']]\\\n",
    "                    .groupby(by=['type', 'street_type'])\\\n",
    "                    .size().unstack(level=0).fillna(0)\n",
    "chi2, street_type_pValue, _, _ = stats.chi2_contingency(combination_counts)\n",
    "print(street_type_pValue)"
   ]
  },
  {
   "cell_type": "markdown",
   "metadata": {},
   "source": [
    "| Variable | p-value | Statistically Significant Relationship at Threshold = 0.01 |\n",
    "| --- | --- | --- |\n",
    "| Price | 0.9999997357037187 | No |\n",
    "| City | 6.884142190454073e-149 | No |\n",
    "| Zip | 6.195871832483889e-06 | Yes |\n",
    "| State | 1.0 | No |\n",
    "| Beds | 1.6090894896930032e-64 | Yes |\n",
    "| Baths | 2.225837221388893e-41 | Yes |\n",
    "| Empty_Lot | 0.03857273017762252 | No |\n",
    "| Street_Type | 3.417489578166013e-79 | Yes |"
   ]
  },
  {
   "cell_type": "markdown",
   "metadata": {},
   "source": [
    "c) How do the results of the statistical result compare with your analysis of the visulations of variables pairs from Lab 2?\n",
    " - Overall, we can see that comparing to lab 2, we see that within lab 2 the significance was street type, price, baths, beds, sqft, city, and zip. Meanwhile using the Chi-Sqaured test we can see that the signifcant variables were street type, baths, beds, and zip. The difference here is that City is not included as of one significant variable when using the Chi-Sqaured test. The association from the heatmaps weren't that clear for me so I was incorrect on stating that it was significant at that time of peforming and analyzing lab 2."
   ]
  }
 ],
 "metadata": {
  "kernelspec": {
   "display_name": "Python 3",
   "language": "python",
   "name": "python3"
  },
  "language_info": {
   "codemirror_mode": {
    "name": "ipython",
    "version": 3
   },
   "file_extension": ".py",
   "mimetype": "text/x-python",
   "name": "python",
   "nbconvert_exporter": "python",
   "pygments_lexer": "ipython3",
   "version": "3.7.3"
  }
 },
 "nbformat": 4,
 "nbformat_minor": 5
}
