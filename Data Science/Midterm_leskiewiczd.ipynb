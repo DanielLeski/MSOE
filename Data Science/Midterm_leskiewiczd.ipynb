{
 "cells": [
  {
   "cell_type": "markdown",
   "metadata": {},
   "source": [
    "## Data Science Midterm 1\n",
    "**Daniel Leskiewicz**"
   ]
  },
  {
   "cell_type": "markdown",
   "metadata": {},
   "source": [
    "### Imports"
   ]
  },
  {
   "cell_type": "code",
   "execution_count": 1,
   "metadata": {},
   "outputs": [],
   "source": [
    "import pandas as pd\n",
    "import math\n",
    "from scipy import stats\n",
    "import matplotlib.pyplot as plt\n",
    "import seaborn as sns\n",
    "import numpy as np"
   ]
  },
  {
   "cell_type": "markdown",
   "metadata": {},
   "source": [
    "### Part 1: Introduction and Background"
   ]
  },
  {
   "cell_type": "markdown",
   "metadata": {},
   "source": [
    "Do we have to explain the adavantages and disadvantages of the population and estimatation methods\n",
    "\n",
    "To start, all of the three species(Bobcats, Coyotes, Gray Foxes) are found within the United States. A motivational reason to track these species is to get a good sense of where they are located, and within a location, ecologists can gather data on what they eat and etc. Furthermore, bobcats, coyotes, and gray foxes are at a level of least concerned by the IUNC. The gray fox has it a bit tougher than bobcats and coyotes because they are more prone to being attacked by these two other species because they all fight for the same type of food. They are not known for attacking humans or endangering humans and typically reside away from the human territory. They have some food security risks because of the competition between these two other species. Coyotes are potentially dangerous to pets and humans with some records of encountering with attacking humans and pets on the sidewalk or streets but don't seem to have any risk of food security. Lastly, bobcats are unlikely to attack humans because they are mostly timid and solitary animals that don't create conflict. They do not have any food security issues as well. \n",
    "\n",
    "The motivation behind using scat samples for estimating population sizes is because we can identify a particular species DNA amplification of the scat sample to allow ecologists to treat reoccurrences of a genotype and record this type of information to make then \"mark-recapture\" models to estimate population size based on the genotype. So overall, it is used to it is an accurate way of determining a particular region's population of a specific species. \n",
    "\n",
    "\n",
    "The hypothesis is: The difference in the biogeochemical and morphological traits of scat samples make it possible for ecologists to distinguish between scats of different species such as coyotes, bobcats, and gray foxes.  "
   ]
  },
  {
   "cell_type": "markdown",
   "metadata": {},
   "source": [
    "### Part 2: Analysis"
   ]
  },
  {
   "cell_type": "markdown",
   "metadata": {},
   "source": [
    "Reading in the dataset"
   ]
  },
  {
   "cell_type": "code",
   "execution_count": 2,
   "metadata": {},
   "outputs": [],
   "source": [
    "data = pd.read_csv(\"Dataset_BobcatsCoyotesFoxes.csv\")"
   ]
  },
  {
   "cell_type": "markdown",
   "metadata": {},
   "source": [
    "Display the dataset"
   ]
  },
  {
   "cell_type": "code",
   "execution_count": 3,
   "metadata": {},
   "outputs": [
    {
     "data": {
      "text/html": [
       "<div>\n",
       "<style scoped>\n",
       "    .dataframe tbody tr th:only-of-type {\n",
       "        vertical-align: middle;\n",
       "    }\n",
       "\n",
       "    .dataframe tbody tr th {\n",
       "        vertical-align: top;\n",
       "    }\n",
       "\n",
       "    .dataframe thead th {\n",
       "        text-align: right;\n",
       "    }\n",
       "</style>\n",
       "<table border=\"1\" class=\"dataframe\">\n",
       "  <thead>\n",
       "    <tr style=\"text-align: right;\">\n",
       "      <th></th>\n",
       "      <th>Species</th>\n",
       "      <th>Month</th>\n",
       "      <th>Year</th>\n",
       "      <th>Site</th>\n",
       "      <th>Location</th>\n",
       "      <th>Age</th>\n",
       "      <th>Number</th>\n",
       "      <th>Length</th>\n",
       "      <th>Diameter</th>\n",
       "      <th>Taper</th>\n",
       "      <th>TI</th>\n",
       "      <th>Mass</th>\n",
       "      <th>d13C</th>\n",
       "      <th>d15N</th>\n",
       "      <th>CN</th>\n",
       "      <th>Ropey</th>\n",
       "      <th>Segmented</th>\n",
       "      <th>Flat</th>\n",
       "      <th>Scrape</th>\n",
       "    </tr>\n",
       "  </thead>\n",
       "  <tbody>\n",
       "    <tr>\n",
       "      <th>0</th>\n",
       "      <td>Coyote</td>\n",
       "      <td>January</td>\n",
       "      <td>2012</td>\n",
       "      <td>YOLA</td>\n",
       "      <td>Edge</td>\n",
       "      <td>5</td>\n",
       "      <td>2</td>\n",
       "      <td>9.5</td>\n",
       "      <td>25.7</td>\n",
       "      <td>41.9</td>\n",
       "      <td>1.63</td>\n",
       "      <td>15.89</td>\n",
       "      <td>-26.85</td>\n",
       "      <td>6.94</td>\n",
       "      <td>8.5</td>\n",
       "      <td>0</td>\n",
       "      <td>0</td>\n",
       "      <td>0</td>\n",
       "      <td>0</td>\n",
       "    </tr>\n",
       "    <tr>\n",
       "      <th>1</th>\n",
       "      <td>Coyote</td>\n",
       "      <td>January</td>\n",
       "      <td>2012</td>\n",
       "      <td>YOLA</td>\n",
       "      <td>Edge</td>\n",
       "      <td>3</td>\n",
       "      <td>2</td>\n",
       "      <td>14.0</td>\n",
       "      <td>25.4</td>\n",
       "      <td>37.1</td>\n",
       "      <td>1.46</td>\n",
       "      <td>17.61</td>\n",
       "      <td>-29.62</td>\n",
       "      <td>9.87</td>\n",
       "      <td>11.3</td>\n",
       "      <td>0</td>\n",
       "      <td>0</td>\n",
       "      <td>0</td>\n",
       "      <td>0</td>\n",
       "    </tr>\n",
       "    <tr>\n",
       "      <th>2</th>\n",
       "      <td>Bobcat</td>\n",
       "      <td>January</td>\n",
       "      <td>2012</td>\n",
       "      <td>YOLA</td>\n",
       "      <td>Middle</td>\n",
       "      <td>3</td>\n",
       "      <td>2</td>\n",
       "      <td>9.0</td>\n",
       "      <td>18.8</td>\n",
       "      <td>16.5</td>\n",
       "      <td>0.88</td>\n",
       "      <td>8.40</td>\n",
       "      <td>-28.73</td>\n",
       "      <td>8.52</td>\n",
       "      <td>8.1</td>\n",
       "      <td>1</td>\n",
       "      <td>1</td>\n",
       "      <td>0</td>\n",
       "      <td>1</td>\n",
       "    </tr>\n",
       "    <tr>\n",
       "      <th>3</th>\n",
       "      <td>Coyote</td>\n",
       "      <td>January</td>\n",
       "      <td>2012</td>\n",
       "      <td>YOLA</td>\n",
       "      <td>Middle</td>\n",
       "      <td>5</td>\n",
       "      <td>2</td>\n",
       "      <td>8.5</td>\n",
       "      <td>18.1</td>\n",
       "      <td>24.7</td>\n",
       "      <td>1.36</td>\n",
       "      <td>7.40</td>\n",
       "      <td>-20.07</td>\n",
       "      <td>5.79</td>\n",
       "      <td>11.5</td>\n",
       "      <td>1</td>\n",
       "      <td>0</td>\n",
       "      <td>0</td>\n",
       "      <td>0</td>\n",
       "    </tr>\n",
       "    <tr>\n",
       "      <th>4</th>\n",
       "      <td>Coyote</td>\n",
       "      <td>January</td>\n",
       "      <td>2012</td>\n",
       "      <td>YOLA</td>\n",
       "      <td>Edge</td>\n",
       "      <td>5</td>\n",
       "      <td>4</td>\n",
       "      <td>8.0</td>\n",
       "      <td>20.7</td>\n",
       "      <td>20.1</td>\n",
       "      <td>0.97</td>\n",
       "      <td>25.45</td>\n",
       "      <td>-23.24</td>\n",
       "      <td>7.01</td>\n",
       "      <td>10.6</td>\n",
       "      <td>0</td>\n",
       "      <td>1</td>\n",
       "      <td>0</td>\n",
       "      <td>0</td>\n",
       "    </tr>\n",
       "  </tbody>\n",
       "</table>\n",
       "</div>"
      ],
      "text/plain": [
       "  Species    Month  Year  Site Location  Age  Number  Length  Diameter  Taper  \\\n",
       "0  Coyote  January  2012  YOLA     Edge    5       2     9.5      25.7   41.9   \n",
       "1  Coyote  January  2012  YOLA     Edge    3       2    14.0      25.4   37.1   \n",
       "2  Bobcat  January  2012  YOLA   Middle    3       2     9.0      18.8   16.5   \n",
       "3  Coyote  January  2012  YOLA   Middle    5       2     8.5      18.1   24.7   \n",
       "4  Coyote  January  2012  YOLA     Edge    5       4     8.0      20.7   20.1   \n",
       "\n",
       "     TI   Mass   d13C  d15N    CN  Ropey  Segmented  Flat  Scrape  \n",
       "0  1.63  15.89 -26.85  6.94   8.5      0          0     0       0  \n",
       "1  1.46  17.61 -29.62  9.87  11.3      0          0     0       0  \n",
       "2  0.88   8.40 -28.73  8.52   8.1      1          1     0       1  \n",
       "3  1.36   7.40 -20.07  5.79  11.5      1          0     0       0  \n",
       "4  0.97  25.45 -23.24  7.01  10.6      0          1     0       0  "
      ]
     },
     "execution_count": 3,
     "metadata": {},
     "output_type": "execute_result"
    }
   ],
   "source": [
    "data.head()"
   ]
  },
  {
   "cell_type": "markdown",
   "metadata": {},
   "source": [
    "Formatting the data and creating categories"
   ]
  },
  {
   "cell_type": "code",
   "execution_count": 4,
   "metadata": {},
   "outputs": [],
   "source": [
    "data = data.fillna(0)\n",
    "data['Ropey'] = data['Ropey'].map(lambda x: x==1)\n",
    "data[\"Segmented\"] = data[\"Segmented\"].map(lambda x: x==1)\n",
    "data[\"Flat\"] = data[\"Flat\"].map(lambda x: x==1)\n",
    "data[\"Scrape\"] = data[\"Scrape\"].map(lambda x: x==1)\n",
    "data['Species'] = data['Species'].astype(\"category\")\n",
    "data['Month'] = data['Month'].astype(\"category\")\n",
    "data['Year'] = data['Year'].astype(\"category\")\n",
    "data['Location'] = data['Location'].astype(\"category\")"
   ]
  },
  {
   "cell_type": "markdown",
   "metadata": {},
   "source": [
    "Displaying the Columns and the data types of the columns"
   ]
  },
  {
   "cell_type": "code",
   "execution_count": 5,
   "metadata": {},
   "outputs": [
    {
     "name": "stdout",
     "output_type": "stream",
     "text": [
      "<class 'pandas.core.frame.DataFrame'>\n",
      "RangeIndex: 110 entries, 0 to 109\n",
      "Data columns (total 19 columns):\n",
      "Species      110 non-null category\n",
      "Month        110 non-null category\n",
      "Year         110 non-null category\n",
      "Site         110 non-null object\n",
      "Location     110 non-null category\n",
      "Age          110 non-null int64\n",
      "Number       110 non-null int64\n",
      "Length       110 non-null float64\n",
      "Diameter     110 non-null float64\n",
      "Taper        110 non-null float64\n",
      "TI           110 non-null float64\n",
      "Mass         110 non-null float64\n",
      "d13C         110 non-null float64\n",
      "d15N         110 non-null float64\n",
      "CN           110 non-null float64\n",
      "Ropey        110 non-null bool\n",
      "Segmented    110 non-null bool\n",
      "Flat         110 non-null bool\n",
      "Scrape       110 non-null bool\n",
      "dtypes: bool(4), category(4), float64(8), int64(2), object(1)\n",
      "memory usage: 11.1+ KB\n"
     ]
    }
   ],
   "source": [
    "data.info()"
   ]
  },
  {
   "cell_type": "markdown",
   "metadata": {},
   "source": [
    "| Morphological | Biogeochemical | Contextual | Not a Trait |\n",
    "| ---- | ---- | ----- | ---- |\n",
    "|Length| d13c |Location|Species|\n",
    "|Diameter | d15n |Scrape|  |\n",
    "|Ropey | CN |Month|  |\n",
    "|Segmented| |Year|  |\n",
    "|Flat |  |  |\n",
    "|Taper|  |  |  |\n",
    "|Mass|  |  |  |\n",
    "|TI|  |  |   |\n",
    "|Number of Scat| |  |  |\n",
    "|Age|"
   ]
  },
  {
   "cell_type": "markdown",
   "metadata": {},
   "source": [
    "Creating a count variable so I can use it for statistical testing later in the notebook"
   ]
  },
  {
   "cell_type": "code",
   "execution_count": 6,
   "metadata": {},
   "outputs": [],
   "source": [
    "data['count'] = 1"
   ]
  },
  {
   "cell_type": "markdown",
   "metadata": {},
   "source": [
    "### Performing visualization and statistical testing to evaluate the relationship between the morphological and biogeochemical traits and species"
   ]
  },
  {
   "cell_type": "markdown",
   "metadata": {},
   "source": [
    "#### Doing Morphological Trait Visualization and Statistical Tests"
   ]
  },
  {
   "cell_type": "markdown",
   "metadata": {},
   "source": [
    "Length vs Species Boxplots and Kruskal-Wallis Test"
   ]
  },
  {
   "cell_type": "code",
   "execution_count": 7,
   "metadata": {},
   "outputs": [
    {
     "data": {
      "text/plain": [
       "<matplotlib.axes._subplots.AxesSubplot at 0x7f2580b7c278>"
      ]
     },
     "execution_count": 7,
     "metadata": {},
     "output_type": "execute_result"
    },
    {
     "data": {
      "image/png": "[encoded data removed]",
      "text/plain": [
       "<Figure size 432x288 with 1 Axes>"
      ]
     },
     "metadata": {
      "needs_background": "light"
     },
     "output_type": "display_data"
    }
   ],
   "source": [
    "sns.boxplot(x=data['Length'], y=data['Species'], data=data)"
   ]
  },
  {
   "cell_type": "code",
   "execution_count": 8,
   "metadata": {},
   "outputs": [
    {
     "name": "stdout",
     "output_type": "stream",
     "text": [
      "Length p-value: 0.9180671669942299\n"
     ]
    }
   ],
   "source": [
    "species_samples = []\n",
    "for value in set(data['Species']):\n",
    "    mask = data['Species'] == value\n",
    "    species_samples.append(data['Length'][mask])\n",
    "statistics, length_pvalue = stats.kruskal(*species_samples)\n",
    "print('Length p-value: ' + str(length_pvalue))"
   ]
  },
  {
   "cell_type": "markdown",
   "metadata": {},
   "source": [
    "Diameter vs Species Boxplots and Kruskal-Wallis Test"
   ]
  },
  {
   "cell_type": "code",
   "execution_count": 9,
   "metadata": {},
   "outputs": [
    {
     "data": {
      "text/plain": [
       "<matplotlib.axes._subplots.AxesSubplot at 0x7f255583ea58>"
      ]
     },
     "execution_count": 9,
     "metadata": {},
     "output_type": "execute_result"
    },
    {
     "data": {
      "image/png": "[encoded data removed]",
      "text/plain": [
       "<Figure size 432x288 with 1 Axes>"
      ]
     },
     "metadata": {
      "needs_background": "light"
     },
     "output_type": "display_data"
    }
   ],
   "source": [
    "sns.boxplot(x=data['Diameter'], y=data['Species'], data=data)"
   ]
  },
  {
   "cell_type": "code",
   "execution_count": 10,
   "metadata": {},
   "outputs": [
    {
     "name": "stdout",
     "output_type": "stream",
     "text": [
      "Diameter p-value: 7.716544828634403e-07\n"
     ]
    }
   ],
   "source": [
    "species_samples = []\n",
    "for value in set(data['Species']):\n",
    "    mask = data['Species'] == value\n",
    "    species_samples.append(data['Diameter'][mask])\n",
    "statistics, diameter_pvalue = stats.kruskal(*species_samples)\n",
    "print('Diameter p-value: ' + str(diameter_pvalue))"
   ]
  },
  {
   "cell_type": "markdown",
   "metadata": {},
   "source": [
    "Mass vs Species Boxplots and Kruskal-Wallis Test"
   ]
  },
  {
   "cell_type": "code",
   "execution_count": 11,
   "metadata": {},
   "outputs": [
    {
     "data": {
      "text/plain": [
       "<matplotlib.axes._subplots.AxesSubplot at 0x7f2555763978>"
      ]
     },
     "execution_count": 11,
     "metadata": {},
     "output_type": "execute_result"
    },
    {
     "data": {
      "image/png": "[encoded data removed]",
      "text/plain": [
       "<Figure size 432x288 with 1 Axes>"
      ]
     },
     "metadata": {
      "needs_background": "light"
     },
     "output_type": "display_data"
    }
   ],
   "source": [
    "sns.boxplot(x=data['Mass'], y=data['Species'], data=data)"
   ]
  },
  {
   "cell_type": "code",
   "execution_count": 12,
   "metadata": {},
   "outputs": [
    {
     "name": "stdout",
     "output_type": "stream",
     "text": [
      "Mass p-value: 7.493259614251413e-08\n"
     ]
    }
   ],
   "source": [
    "species_samples = []\n",
    "for value in set(data['Species']):\n",
    "    mask = data['Species'] == value\n",
    "    species_samples.append(data['Mass'][mask])\n",
    "statistics, mass_pvalue = stats.kruskal(*species_samples)\n",
    "print('Mass p-value: ' + str(mass_pvalue))"
   ]
  },
  {
   "cell_type": "markdown",
   "metadata": {},
   "source": [
    "TI vs Species Boxplots and Kruskal-Wallis Test"
   ]
  },
  {
   "cell_type": "code",
   "execution_count": 13,
   "metadata": {},
   "outputs": [
    {
     "data": {
      "text/plain": [
       "<matplotlib.axes._subplots.AxesSubplot at 0x7f25556e4160>"
      ]
     },
     "execution_count": 13,
     "metadata": {},
     "output_type": "execute_result"
    },
    {
     "data": {
      "image/png": "[encoded data removed]",
      "text/plain": [
       "<Figure size 432x288 with 1 Axes>"
      ]
     },
     "metadata": {
      "needs_background": "light"
     },
     "output_type": "display_data"
    }
   ],
   "source": [
    "sns.boxplot(x=data[\"TI\"], y=data[\"Species\"])"
   ]
  },
  {
   "cell_type": "code",
   "execution_count": 14,
   "metadata": {},
   "outputs": [
    {
     "name": "stdout",
     "output_type": "stream",
     "text": [
      "Mass p-value: 0.4160523041273989\n"
     ]
    }
   ],
   "source": [
    "species_samples = []\n",
    "for value in set(data['Species']):\n",
    "    mask = data['Species'] == value\n",
    "    species_samples.append(data['TI'][mask])\n",
    "statistics, mass_pvalue = stats.kruskal(*species_samples)\n",
    "print('Mass p-value: ' + str(mass_pvalue))"
   ]
  },
  {
   "cell_type": "markdown",
   "metadata": {},
   "source": [
    "Number vs Species Boxplots and Kruskal-Wallis Test"
   ]
  },
  {
   "cell_type": "code",
   "execution_count": 15,
   "metadata": {},
   "outputs": [
    {
     "data": {
      "text/plain": [
       "<matplotlib.axes._subplots.AxesSubplot at 0x7f255568c780>"
      ]
     },
     "execution_count": 15,
     "metadata": {},
     "output_type": "execute_result"
    },
    {
     "data": {
      "image/png": "[encoded data removed]",
      "text/plain": [
       "<Figure size 432x288 with 1 Axes>"
      ]
     },
     "metadata": {
      "needs_background": "light"
     },
     "output_type": "display_data"
    }
   ],
   "source": [
    "sns.boxplot(x=data['Number'], y=data[\"Species\"])"
   ]
  },
  {
   "cell_type": "code",
   "execution_count": 16,
   "metadata": {},
   "outputs": [
    {
     "name": "stdout",
     "output_type": "stream",
     "text": [
      "Number p-value: 0.018104366301782103\n"
     ]
    }
   ],
   "source": [
    "species_samples = []\n",
    "for value in set(data['Species']):\n",
    "    mask = data['Species'] == value\n",
    "    species_samples.append(data['Number'][mask])\n",
    "statistics, number_pvalue = stats.kruskal(*species_samples)\n",
    "print('Number p-value: ' + str(number_pvalue))"
   ]
  },
  {
   "cell_type": "markdown",
   "metadata": {},
   "source": [
    "Taper vs Species Boxplots and Kruskal-Wallis Test"
   ]
  },
  {
   "cell_type": "code",
   "execution_count": 17,
   "metadata": {},
   "outputs": [
    {
     "data": {
      "text/plain": [
       "<matplotlib.axes._subplots.AxesSubplot at 0x7f2555678550>"
      ]
     },
     "execution_count": 17,
     "metadata": {},
     "output_type": "execute_result"
    },
    {
     "data": {
      "image/png": "[encoded data removed]",
      "text/plain": [
       "<Figure size 432x288 with 1 Axes>"
      ]
     },
     "metadata": {
      "needs_background": "light"
     },
     "output_type": "display_data"
    }
   ],
   "source": [
    "sns.boxplot(x=data['Taper'], y=data['Species'])"
   ]
  },
  {
   "cell_type": "code",
   "execution_count": 18,
   "metadata": {},
   "outputs": [
    {
     "name": "stdout",
     "output_type": "stream",
     "text": [
      "Taper p-value: 0.4160523041273989\n"
     ]
    }
   ],
   "source": [
    "species_samples = []\n",
    "for value in set(data['Species']):\n",
    "    mask = data['Species'] == value\n",
    "    species_samples.append(data['Taper'][mask])\n",
    "statistics, Taper_pvalue = stats.kruskal(*species_samples)\n",
    "print('Taper p-value: ' + str(mass_pvalue))"
   ]
  },
  {
   "cell_type": "markdown",
   "metadata": {},
   "source": [
    "Species vs Age Heatmap and Chi-square Test"
   ]
  },
  {
   "cell_type": "code",
   "execution_count": 19,
   "metadata": {},
   "outputs": [
    {
     "data": {
      "text/plain": [
       "<matplotlib.axes._subplots.AxesSubplot at 0x7f25554f2710>"
      ]
     },
     "execution_count": 19,
     "metadata": {},
     "output_type": "execute_result"
    },
    {
     "data": {
      "image/png": "[encoded data removed]",
      "text/plain": [
       "<Figure size 432x288 with 2 Axes>"
      ]
     },
     "metadata": {
      "needs_background": "light"
     },
     "output_type": "display_data"
    }
   ],
   "source": [
    "data2 = data.groupby(['Species','Age']).count()\n",
    "table1 = pd.pivot_table(data2, 'count', 'Ropey', 'Species')\n",
    "sns.heatmap(table1, cmap='Greens')"
   ]
  },
  {
   "cell_type": "code",
   "execution_count": 20,
   "metadata": {},
   "outputs": [
    {
     "name": "stdout",
     "output_type": "stream",
     "text": [
      "Age p-value: 0.8706095622530621\n"
     ]
    }
   ],
   "source": [
    "combination_counts = data[['Species', 'Age']]\\\n",
    "                    .groupby(by=['Species', 'Age'])\\\n",
    "                    .size().unstack(level=0).fillna(0)\n",
    "chi2, age_pValue, _, _ = stats.chi2_contingency(combination_counts)\n",
    "print('Age p-value: ' + str(age_pValue))"
   ]
  },
  {
   "cell_type": "markdown",
   "metadata": {},
   "source": [
    "Species vs Ropey Heatmap and Chi-square Test"
   ]
  },
  {
   "cell_type": "code",
   "execution_count": 21,
   "metadata": {},
   "outputs": [
    {
     "data": {
      "text/plain": [
       "<matplotlib.axes._subplots.AxesSubplot at 0x7f25353b6550>"
      ]
     },
     "execution_count": 21,
     "metadata": {},
     "output_type": "execute_result"
    },
    {
     "data": {
      "image/png": "[encoded data removed]",
      "text/plain": [
       "<Figure size 432x288 with 2 Axes>"
      ]
     },
     "metadata": {
      "needs_background": "light"
     },
     "output_type": "display_data"
    }
   ],
   "source": [
    "data2 = data.groupby(['Species','Ropey']).count()\n",
    "table1 = pd.pivot_table(data2, 'count', 'Ropey', 'Species')\n",
    "sns.heatmap(table1, cmap='Greens')"
   ]
  },
  {
   "cell_type": "code",
   "execution_count": 22,
   "metadata": {},
   "outputs": [
    {
     "name": "stdout",
     "output_type": "stream",
     "text": [
      "Ropey p-value: 0.9303303236624929\n"
     ]
    }
   ],
   "source": [
    "combination_counts = data[['Species', 'Ropey']]\\\n",
    "                    .groupby(by=['Species', 'Ropey'])\\\n",
    "                    .size().unstack(level=0).fillna(0)\n",
    "chi2, ropey_pValue, _, _ = stats.chi2_contingency(combination_counts)\n",
    "print('Ropey p-value: ' + str(ropey_pValue))"
   ]
  },
  {
   "cell_type": "markdown",
   "metadata": {},
   "source": [
    "Species vs Segmented Heatmap and Chi-square Test"
   ]
  },
  {
   "cell_type": "code",
   "execution_count": 23,
   "metadata": {},
   "outputs": [
    {
     "data": {
      "text/plain": [
       "<matplotlib.axes._subplots.AxesSubplot at 0x7f25555cb630>"
      ]
     },
     "execution_count": 23,
     "metadata": {},
     "output_type": "execute_result"
    },
    {
     "data": {
      "image/png": "[encoded data removed]",
      "text/plain": [
       "<Figure size 432x288 with 2 Axes>"
      ]
     },
     "metadata": {
      "needs_background": "light"
     },
     "output_type": "display_data"
    }
   ],
   "source": [
    "data2 = data.groupby(['Species','Segmented']).count()\n",
    "table1 = pd.pivot_table(data2, 'count', 'Ropey', 'Species')\n",
    "sns.heatmap(table1, cmap='Greens')"
   ]
  },
  {
   "cell_type": "code",
   "execution_count": 24,
   "metadata": {},
   "outputs": [
    {
     "name": "stdout",
     "output_type": "stream",
     "text": [
      "Segmented p-value: 0.0001197504633050821\n"
     ]
    }
   ],
   "source": [
    "combination_counts = data[['Species', 'Segmented']]\\\n",
    "                    .groupby(by=['Species', 'Segmented'])\\\n",
    "                    .size().unstack(level=0).fillna(0)\n",
    "chi2, segmented_pValue, _, _ = stats.chi2_contingency(combination_counts)\n",
    "print('Segmented p-value: ' + str(segmented_pValue))"
   ]
  },
  {
   "cell_type": "markdown",
   "metadata": {},
   "source": [
    "Species vs Flat Heatmap and Chi-square Test"
   ]
  },
  {
   "cell_type": "code",
   "execution_count": 25,
   "metadata": {
    "scrolled": true
   },
   "outputs": [
    {
     "data": {
      "text/plain": [
       "<matplotlib.axes._subplots.AxesSubplot at 0x7f25352c8f60>"
      ]
     },
     "execution_count": 25,
     "metadata": {},
     "output_type": "execute_result"
    },
    {
     "data": {
      "image/png": "[encoded data removed]",
      "text/plain": [
       "<Figure size 432x288 with 2 Axes>"
      ]
     },
     "metadata": {
      "needs_background": "light"
     },
     "output_type": "display_data"
    }
   ],
   "source": [
    "data2 = data.groupby(['Species','Flat']).count()\n",
    "table1 = pd.pivot_table(data2, 'count', 'Flat', 'Species')\n",
    "sns.heatmap(table1, cmap='Greens')"
   ]
  },
  {
   "cell_type": "code",
   "execution_count": 26,
   "metadata": {},
   "outputs": [
    {
     "name": "stdout",
     "output_type": "stream",
     "text": [
      "flat p-value: 0.0010398235824743704\n"
     ]
    }
   ],
   "source": [
    "combination_counts = data[['Species', 'Flat']]\\\n",
    "                    .groupby(by=['Species', 'Flat'])\\\n",
    "                    .size().unstack(level=0).fillna(0)\n",
    "chi2, flat_pValue, _, _ = stats.chi2_contingency(combination_counts)\n",
    "print('flat p-value: ' + str(flat_pValue))"
   ]
  },
  {
   "cell_type": "markdown",
   "metadata": {},
   "source": [
    "### Biogeochemical Visualization and Statistical Testing "
   ]
  },
  {
   "cell_type": "markdown",
   "metadata": {},
   "source": [
    "d13C vs Species Boxplots and Kruskal-Wallis Test"
   ]
  },
  {
   "cell_type": "code",
   "execution_count": 27,
   "metadata": {},
   "outputs": [
    {
     "data": {
      "text/plain": [
       "<matplotlib.axes._subplots.AxesSubplot at 0x7f25351df7b8>"
      ]
     },
     "execution_count": 27,
     "metadata": {},
     "output_type": "execute_result"
    },
    {
     "data": {
      "image/png": "[encoded data removed]",
      "text/plain": [
       "<Figure size 432x288 with 1 Axes>"
      ]
     },
     "metadata": {
      "needs_background": "light"
     },
     "output_type": "display_data"
    }
   ],
   "source": [
    "sns.boxplot(x=data[\"d13C\"], y=data[\"Species\"])"
   ]
  },
  {
   "cell_type": "code",
   "execution_count": 28,
   "metadata": {},
   "outputs": [
    {
     "name": "stdout",
     "output_type": "stream",
     "text": [
      "d13C p-value: 0.00010494330754416943\n"
     ]
    }
   ],
   "source": [
    "species_samples = []\n",
    "for value in set(data['Species']):\n",
    "    mask = data['Species'] == value\n",
    "    species_samples.append(data['d13C'][mask])\n",
    "statistics, d13C_pvalue = stats.kruskal(*species_samples)\n",
    "print('d13C p-value: ' + str(d13C_pvalue))"
   ]
  },
  {
   "cell_type": "markdown",
   "metadata": {},
   "source": [
    "d15N vs Species Boxplots and Kruskal-Wallis Test"
   ]
  },
  {
   "cell_type": "code",
   "execution_count": 29,
   "metadata": {},
   "outputs": [
    {
     "data": {
      "text/plain": [
       "<matplotlib.axes._subplots.AxesSubplot at 0x7f2535162278>"
      ]
     },
     "execution_count": 29,
     "metadata": {},
     "output_type": "execute_result"
    },
    {
     "data": {
      "image/png": "[encoded data removed]",
      "text/plain": [
       "<Figure size 432x288 with 1 Axes>"
      ]
     },
     "metadata": {
      "needs_background": "light"
     },
     "output_type": "display_data"
    }
   ],
   "source": [
    "sns.boxplot(x=data[\"d15N\"], y=data[\"Species\"])"
   ]
  },
  {
   "cell_type": "code",
   "execution_count": 30,
   "metadata": {},
   "outputs": [
    {
     "name": "stdout",
     "output_type": "stream",
     "text": [
      "d15N p-value: 1.5507068994128883e-06\n"
     ]
    }
   ],
   "source": [
    "species_samples = []\n",
    "for value in set(data['Species']):\n",
    "    mask = data['Species'] == value\n",
    "    species_samples.append(data['d15N'][mask])\n",
    "statistics, d15N_pvalue = stats.kruskal(*species_samples)\n",
    "print('d15N p-value: ' + str(d15N_pvalue))"
   ]
  },
  {
   "cell_type": "markdown",
   "metadata": {},
   "source": [
    "C:N vs Species Boxplots and Kruskal-Wallis Test"
   ]
  },
  {
   "cell_type": "code",
   "execution_count": 31,
   "metadata": {
    "scrolled": true
   },
   "outputs": [
    {
     "data": {
      "text/plain": [
       "<matplotlib.axes._subplots.AxesSubplot at 0x7f25350f3128>"
      ]
     },
     "execution_count": 31,
     "metadata": {},
     "output_type": "execute_result"
    },
    {
     "data": {
      "image/png": "[encoded data removed]",
      "text/plain": [
       "<Figure size 432x288 with 1 Axes>"
      ]
     },
     "metadata": {
      "needs_background": "light"
     },
     "output_type": "display_data"
    }
   ],
   "source": [
    "sns.boxplot(x=data[\"CN\"], y=data[\"Species\"])"
   ]
  },
  {
   "cell_type": "code",
   "execution_count": 32,
   "metadata": {},
   "outputs": [
    {
     "name": "stdout",
     "output_type": "stream",
     "text": [
      "C:N p-value: 3.4513884918855206e-07\n"
     ]
    }
   ],
   "source": [
    "species_samples = []\n",
    "for value in set(data['Species']):\n",
    "    mask = data['Species'] == value\n",
    "    species_samples.append(data['CN'][mask])\n",
    "statistics, cn_pvalue = stats.kruskal(*species_samples)\n",
    "print('C:N p-value: ' + str(cn_pvalue))"
   ]
  },
  {
   "cell_type": "markdown",
   "metadata": {},
   "source": [
    "## Part 3: Discussion and Interpretation"
   ]
  },
  {
   "cell_type": "markdown",
   "metadata": {},
   "source": [
    "Getting data such as standard deviation, mean and mode for each species"
   ]
  },
  {
   "cell_type": "code",
   "execution_count": 33,
   "metadata": {},
   "outputs": [],
   "source": [
    "data_bobcat = data[data['Species'] == 'Bobcat']\n",
    "data_coyote = data[data['Species'] == 'Coyote']\n",
    "data_gf = data[data['Species'] == 'GrayFox']\n",
    "#print(data_bobcat.median())\n",
    "#print(data_gf.std())"
   ]
  },
  {
   "cell_type": "markdown",
   "metadata": {},
   "source": [
    "|Predictive Trait| P-Value| Gray Fox Mean ± standard deviation | Coyote Mean ± standard deviation | Bobcat Mean ± standard deviation|Gray Fox Median|Coyote Median|Bobcat Median| \n",
    "| ---- | ---- | ----- | ---- | ----- | ----- | ------ |-----|\n",
    "|C:N Ratio|3.4513884918856254e-07|11.6360 ± 6.0128|8.592857 ± 6.0128|6.588947 ± 1.408948|9.20|7.700|6.70 | | | | | | | | \n",
    "|Diameter|7.716544828634403e-07|11.9760 ± 6.747|19.542857 ± 6.747|19.008772 ± 2.947049|14.90|20.650|18.20| | | | | | | |\n",
    "|Mass|7.493259614251413e-08|5.4108 ± 3.4949 |18.2453 ± 3.495|12.482105 ± 6.534607|4.40|16.750|11.25| | | | | | | |\n",
    "|Segmented|0.0001197504633050821|0.2400 ± 0.436|0.500000 ± 0.4359|0.736842 ± 0.444262|||| | | | | | | |"
   ]
  },
  {
   "cell_type": "markdown",
   "metadata": {},
   "source": [
    "Explaining how these traits in the chart, show differences in traits and how they relate to the three species.\n",
    "\n",
    "To start, C: N is depended on the type of foods that the species eats. For example, bobcats have the lowest C: N ratio because they are hypercarnivores which means they solely depend on animal flesh for their nutrient requirement. Meanwhile, the gray foxes and coyotes add more plants and a variety of fruits into their diet. The C: N ratios seem higher as a result.\n",
    "\n",
    "The coyotes had the biggest diameter scat from the table, followed closely second by bobcats and then gray foxes for the diameter trait. By observing the mass of each animal's scat, we can see that gray foxes have the lowest value for their mass, followed by bobcats and then coyotes with the largest mass. This shows that the lower the value of the mass of the scat, the smaller the diameter it will be; meanwhile, coyotes and bobcats have more mass, resulting in a bigger diameter.\n",
    "\n",
    "For the Mass trait, this is similar to diameter, but coyotes are the largest, so they have the heaviest scat out of the other two species. The bobcat has the second heaviest species with the double heaviest scat, and the gray fox-like described in the diameter trait have the lightest scats.\n",
    "\n",
    "For the Segmented trait, from several readings, I can assume that the diet of the species is strongly correlated to the type of scat they will have. It seems like the animals with an omnivore diet are less likely to have segmented scat; meanwhile, carnivores species have more segmented scat. "
   ]
  },
  {
   "cell_type": "markdown",
   "metadata": {},
   "source": [
    "Explaining why you think that predictive morphological and biogeochemical might be more useful than contextual traits to ecologists.\n",
    "\n",
    "First, I think that the morphological and biogeochemical might be more beneficial because using traits such as location, scrape, month, and year doesn't give us any measurement or something to create a model from. The information would be too little or too weak to make accurate assumptions of the scat. Also, contextual traits are straightforward to have a different result because of weather conditions and other environmental factors. Meanwhile, with morphological and biogeochemical characteristics, we can statistically show the difference between the bobcat, coyote, and gray fox, and get enough information out of it to create a model and observe some correlation or differences between the species, all you would have to do is collect the scat and analyze it at a lab and record data. This is why morphological and biogeochemical are more critical and valuable for ecologists than using contextual traits."
   ]
  },
  {
   "cell_type": "markdown",
   "metadata": {},
   "source": [
    "### Part 4: Conclusion"
   ]
  },
  {
   "cell_type": "markdown",
   "metadata": {},
   "source": [
    "From the visualization and statistical testing that was done we can see that the morphological and biogeochemical traits of the three species are likely to be separated and classified by their scat decently. The traits that I thought that helped the most with distinguishing the species by their scat was the CN ratio, Diameter, Mass, and if the scat was segemented or not. To continue this work a person would go and create a un-supervised learning model with these traits to predict a specific specie by just their scat. This model would overall make the jobs of the ecologists easier like described in the previous part to classify between bobcats, coyotes and gray foxs which would save them time and money overall."
   ]
  },
  {
   "cell_type": "markdown",
   "metadata": {},
   "source": [
    "### Sources\n",
    "\n",
    "Scatology: https://egret.org/sites/default/files/scat.pdf\n",
    "\n",
    "\n",
    "Bryson, Scat Identification: https://www.thinktrees.org/wp-content/uploads/2019/03/Scat-Identification.pdf\n",
    "\n",
    "\n",
    "Rasmussen, How Biologists Estimate Populations of Animals: http://www.adfg.alaska.gov/index.cfm?adfg=wildlifenews.view_article&articles_id=814\n",
    "\n",
    "\n",
    "Widlife Management, Estimating Wildlife Populations: https://projects.ncsu.edu/cals/course/fw353/Estimate.htm\n",
    "\n",
    "\n",
    "Wikipedia, Coyotes: https://en.wikipedia.org/wiki/Coyote\n",
    "\n",
    "\n",
    "Wikipedia, Gray Foxes: https://en.wikipedia.org/wiki/Gray_fox\n",
    "\n",
    "\n",
    "Wikipedia, Bobcats: https://en.wikipedia.org/wiki/Bobcat\n",
    "\n",
    "\n",
    "\n"
   ]
  }
 ],
 "metadata": {
  "kernelspec": {
   "display_name": "Python 3",
   "language": "python",
   "name": "python3"
  },
  "language_info": {
   "codemirror_mode": {
    "name": "ipython",
    "version": 3
   },
   "file_extension": ".py",
   "mimetype": "text/x-python",
   "name": "python",
   "nbconvert_exporter": "python",
   "pygments_lexer": "ipython3",
   "version": "3.7.3"
  }
 },
 "nbformat": 4,
 "nbformat_minor": 5
}
