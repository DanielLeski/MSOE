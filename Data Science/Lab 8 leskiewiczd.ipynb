{
 "cells": [
  {
   "cell_type": "markdown",
   "metadata": {},
   "source": [
    "## Lab 8 Classification"
   ]
  },
  {
   "cell_type": "markdown",
   "metadata": {},
   "source": [
    "# Introduction\n",
    "**Daniel Leskiewicz**\n",
    " - Within this lab we apply and interpret appropiate visual and statistical methods to analyze distributions of individual variables and realtionships between the variables, also we learn to setup the dataset correctly and make  evaluations for classification to then use recall, percision, and accuracy to see how effective the model is. "
   ]
  },
  {
   "cell_type": "markdown",
   "metadata": {},
   "source": [
    "## Imports"
   ]
  },
  {
   "cell_type": "code",
   "execution_count": 1,
   "metadata": {},
   "outputs": [],
   "source": [
    "import numpy as np\n",
    "import pandas as pd\n",
    "import matplotlib.pyplot as plt\n",
    "import seaborn as sns\n",
    "from sklearn.linear_model import SGDClassifier\n",
    "from sklearn.metrics import accuracy_score\n",
    "from sklearn.metrics import confusion_matrix\n",
    "from sklearn.metrics import log_loss\n",
    "from sklearn.model_selection import train_test_split\n",
    "from sklearn.impute import SimpleImputer\n",
    "from sklearn.preprocessing import LabelEncoder\n",
    "from sklearn.preprocessing import StandardScaler\n",
    "from sklearn import preprocessing\n",
    "from sklearn.metrics import mean_squared_error\n",
    "%matplotlib inline\n",
    "from sklearn.metrics import roc_curve\n",
    "from sklearn.metrics import precision_score\n",
    "from sklearn.metrics import recall_score\n",
    "from scipy import stats"
   ]
  },
  {
   "cell_type": "markdown",
   "metadata": {},
   "source": [
    "## Part 1\n",
    "### Load, transform, and Clean the Data"
   ]
  },
  {
   "cell_type": "code",
   "execution_count": 2,
   "metadata": {},
   "outputs": [],
   "source": [
    "headerList = ['ID Number', 'Diagnosis', 'radius mean', 'radius std', 'radius worst', 'texture mean', 'texture std', 'texture worst', 'perimeter mean', 'perimeter std', 'perimeter worst', 'area mean', 'area std', 'area worst', 'smoothness mean', 'smoothness std', 'smoothness worst', 'compactness mean', 'compactness std', 'compactness worst', 'concavity mean', 'concavity std', 'concavity worst', 'concave points mean', 'concave points std', 'concave points worst', 'symmetry mean', 'symmetry std', 'symmetry worst', 'fractal dimension mean', 'fractal dimension std', 'fractal dimension worst']\n",
    "numerical = ['radius mean', 'radius std', 'radius worst', 'texture mean', 'texture std', 'texture worst', 'perimeter mean', 'perimeter std', 'perimeter worst', 'area mean', 'area std', 'area worst', 'smoothness mean', 'smoothness std', 'smoothness worst', 'compactness mean', 'compactness std', 'compactness worst', 'concavity mean', 'concavity std', 'concavity worst', 'concave points mean', 'concave points std', 'concave points worst', 'symmetry mean', 'symmetry std', 'symmetry worst', 'fractal dimension mean', 'fractal dimension std', 'fractal dimension worst']"
   ]
  },
  {
   "cell_type": "code",
   "execution_count": 3,
   "metadata": {},
   "outputs": [],
   "source": [
    "data = pd.read_csv(\"wdbc.data\")"
   ]
  },
  {
   "cell_type": "code",
   "execution_count": 4,
   "metadata": {},
   "outputs": [],
   "source": [
    "data.to_csv('wdbc.data', header=headerList, index=False)"
   ]
  },
  {
   "cell_type": "code",
   "execution_count": 5,
   "metadata": {},
   "outputs": [],
   "source": [
    "data = pd.read_csv(\"wdbc.data\")"
   ]
  },
  {
   "cell_type": "code",
   "execution_count": 6,
   "metadata": {},
   "outputs": [
    {
     "data": {
      "text/html": [
       "<div>\n",
       "<style scoped>\n",
       "    .dataframe tbody tr th:only-of-type {\n",
       "        vertical-align: middle;\n",
       "    }\n",
       "\n",
       "    .dataframe tbody tr th {\n",
       "        vertical-align: top;\n",
       "    }\n",
       "\n",
       "    .dataframe thead th {\n",
       "        text-align: right;\n",
       "    }\n",
       "</style>\n",
       "<table border=\"1\" class=\"dataframe\">\n",
       "  <thead>\n",
       "    <tr style=\"text-align: right;\">\n",
       "      <th></th>\n",
       "      <th>ID Number</th>\n",
       "      <th>Diagnosis</th>\n",
       "      <th>radius mean</th>\n",
       "      <th>radius std</th>\n",
       "      <th>radius worst</th>\n",
       "      <th>texture mean</th>\n",
       "      <th>texture std</th>\n",
       "      <th>texture worst</th>\n",
       "      <th>perimeter mean</th>\n",
       "      <th>perimeter std</th>\n",
       "      <th>...</th>\n",
       "      <th>concavity worst</th>\n",
       "      <th>concave points mean</th>\n",
       "      <th>concave points std</th>\n",
       "      <th>concave points worst</th>\n",
       "      <th>symmetry mean</th>\n",
       "      <th>symmetry std</th>\n",
       "      <th>symmetry worst</th>\n",
       "      <th>fractal dimension mean</th>\n",
       "      <th>fractal dimension std</th>\n",
       "      <th>fractal dimension worst</th>\n",
       "    </tr>\n",
       "  </thead>\n",
       "  <tbody>\n",
       "    <tr>\n",
       "      <th>0</th>\n",
       "      <td>842517</td>\n",
       "      <td>M</td>\n",
       "      <td>20.57</td>\n",
       "      <td>17.77</td>\n",
       "      <td>132.90</td>\n",
       "      <td>1326.0</td>\n",
       "      <td>0.08474</td>\n",
       "      <td>0.07864</td>\n",
       "      <td>0.0869</td>\n",
       "      <td>0.07017</td>\n",
       "      <td>...</td>\n",
       "      <td>24.99</td>\n",
       "      <td>23.41</td>\n",
       "      <td>158.80</td>\n",
       "      <td>1956.0</td>\n",
       "      <td>0.1238</td>\n",
       "      <td>0.1866</td>\n",
       "      <td>0.2416</td>\n",
       "      <td>0.1860</td>\n",
       "      <td>0.2750</td>\n",
       "      <td>0.08902</td>\n",
       "    </tr>\n",
       "    <tr>\n",
       "      <th>1</th>\n",
       "      <td>84300903</td>\n",
       "      <td>M</td>\n",
       "      <td>19.69</td>\n",
       "      <td>21.25</td>\n",
       "      <td>130.00</td>\n",
       "      <td>1203.0</td>\n",
       "      <td>0.10960</td>\n",
       "      <td>0.15990</td>\n",
       "      <td>0.1974</td>\n",
       "      <td>0.12790</td>\n",
       "      <td>...</td>\n",
       "      <td>23.57</td>\n",
       "      <td>25.53</td>\n",
       "      <td>152.50</td>\n",
       "      <td>1709.0</td>\n",
       "      <td>0.1444</td>\n",
       "      <td>0.4245</td>\n",
       "      <td>0.4504</td>\n",
       "      <td>0.2430</td>\n",
       "      <td>0.3613</td>\n",
       "      <td>0.08758</td>\n",
       "    </tr>\n",
       "    <tr>\n",
       "      <th>2</th>\n",
       "      <td>84348301</td>\n",
       "      <td>M</td>\n",
       "      <td>11.42</td>\n",
       "      <td>20.38</td>\n",
       "      <td>77.58</td>\n",
       "      <td>386.1</td>\n",
       "      <td>0.14250</td>\n",
       "      <td>0.28390</td>\n",
       "      <td>0.2414</td>\n",
       "      <td>0.10520</td>\n",
       "      <td>...</td>\n",
       "      <td>14.91</td>\n",
       "      <td>26.50</td>\n",
       "      <td>98.87</td>\n",
       "      <td>567.7</td>\n",
       "      <td>0.2098</td>\n",
       "      <td>0.8663</td>\n",
       "      <td>0.6869</td>\n",
       "      <td>0.2575</td>\n",
       "      <td>0.6638</td>\n",
       "      <td>0.17300</td>\n",
       "    </tr>\n",
       "    <tr>\n",
       "      <th>3</th>\n",
       "      <td>84358402</td>\n",
       "      <td>M</td>\n",
       "      <td>20.29</td>\n",
       "      <td>14.34</td>\n",
       "      <td>135.10</td>\n",
       "      <td>1297.0</td>\n",
       "      <td>0.10030</td>\n",
       "      <td>0.13280</td>\n",
       "      <td>0.1980</td>\n",
       "      <td>0.10430</td>\n",
       "      <td>...</td>\n",
       "      <td>22.54</td>\n",
       "      <td>16.67</td>\n",
       "      <td>152.20</td>\n",
       "      <td>1575.0</td>\n",
       "      <td>0.1374</td>\n",
       "      <td>0.2050</td>\n",
       "      <td>0.4000</td>\n",
       "      <td>0.1625</td>\n",
       "      <td>0.2364</td>\n",
       "      <td>0.07678</td>\n",
       "    </tr>\n",
       "    <tr>\n",
       "      <th>4</th>\n",
       "      <td>843786</td>\n",
       "      <td>M</td>\n",
       "      <td>12.45</td>\n",
       "      <td>15.70</td>\n",
       "      <td>82.57</td>\n",
       "      <td>477.1</td>\n",
       "      <td>0.12780</td>\n",
       "      <td>0.17000</td>\n",
       "      <td>0.1578</td>\n",
       "      <td>0.08089</td>\n",
       "      <td>...</td>\n",
       "      <td>15.47</td>\n",
       "      <td>23.75</td>\n",
       "      <td>103.40</td>\n",
       "      <td>741.6</td>\n",
       "      <td>0.1791</td>\n",
       "      <td>0.5249</td>\n",
       "      <td>0.5355</td>\n",
       "      <td>0.1741</td>\n",
       "      <td>0.3985</td>\n",
       "      <td>0.12440</td>\n",
       "    </tr>\n",
       "  </tbody>\n",
       "</table>\n",
       "<p>5 rows × 32 columns</p>\n",
       "</div>"
      ],
      "text/plain": [
       "   ID Number Diagnosis  radius mean  radius std  radius worst  texture mean  \\\n",
       "0     842517         M        20.57       17.77        132.90        1326.0   \n",
       "1   84300903         M        19.69       21.25        130.00        1203.0   \n",
       "2   84348301         M        11.42       20.38         77.58         386.1   \n",
       "3   84358402         M        20.29       14.34        135.10        1297.0   \n",
       "4     843786         M        12.45       15.70         82.57         477.1   \n",
       "\n",
       "   texture std  texture worst  perimeter mean  perimeter std  ...  \\\n",
       "0      0.08474        0.07864          0.0869        0.07017  ...   \n",
       "1      0.10960        0.15990          0.1974        0.12790  ...   \n",
       "2      0.14250        0.28390          0.2414        0.10520  ...   \n",
       "3      0.10030        0.13280          0.1980        0.10430  ...   \n",
       "4      0.12780        0.17000          0.1578        0.08089  ...   \n",
       "\n",
       "   concavity worst  concave points mean  concave points std  \\\n",
       "0            24.99                23.41              158.80   \n",
       "1            23.57                25.53              152.50   \n",
       "2            14.91                26.50               98.87   \n",
       "3            22.54                16.67              152.20   \n",
       "4            15.47                23.75              103.40   \n",
       "\n",
       "   concave points worst  symmetry mean  symmetry std  symmetry worst  \\\n",
       "0                1956.0         0.1238        0.1866          0.2416   \n",
       "1                1709.0         0.1444        0.4245          0.4504   \n",
       "2                 567.7         0.2098        0.8663          0.6869   \n",
       "3                1575.0         0.1374        0.2050          0.4000   \n",
       "4                 741.6         0.1791        0.5249          0.5355   \n",
       "\n",
       "   fractal dimension mean  fractal dimension std  fractal dimension worst  \n",
       "0                  0.1860                 0.2750                  0.08902  \n",
       "1                  0.2430                 0.3613                  0.08758  \n",
       "2                  0.2575                 0.6638                  0.17300  \n",
       "3                  0.1625                 0.2364                  0.07678  \n",
       "4                  0.1741                 0.3985                  0.12440  \n",
       "\n",
       "[5 rows x 32 columns]"
      ]
     },
     "execution_count": 6,
     "metadata": {},
     "output_type": "execute_result"
    }
   ],
   "source": [
    "data.head()"
   ]
  },
  {
   "cell_type": "code",
   "execution_count": 7,
   "metadata": {},
   "outputs": [
    {
     "name": "stdout",
     "output_type": "stream",
     "text": [
      "<class 'pandas.core.frame.DataFrame'>\n",
      "RangeIndex: 568 entries, 0 to 567\n",
      "Data columns (total 32 columns):\n",
      " #   Column                   Non-Null Count  Dtype  \n",
      "---  ------                   --------------  -----  \n",
      " 0   ID Number                568 non-null    int64  \n",
      " 1   Diagnosis                568 non-null    object \n",
      " 2   radius mean              568 non-null    float64\n",
      " 3   radius std               568 non-null    float64\n",
      " 4   radius worst             568 non-null    float64\n",
      " 5   texture mean             568 non-null    float64\n",
      " 6   texture std              568 non-null    float64\n",
      " 7   texture worst            568 non-null    float64\n",
      " 8   perimeter mean           568 non-null    float64\n",
      " 9   perimeter std            568 non-null    float64\n",
      " 10  perimeter worst          568 non-null    float64\n",
      " 11  area mean                568 non-null    float64\n",
      " 12  area std                 568 non-null    float64\n",
      " 13  area worst               568 non-null    float64\n",
      " 14  smoothness mean          568 non-null    float64\n",
      " 15  smoothness std           568 non-null    float64\n",
      " 16  smoothness worst         568 non-null    float64\n",
      " 17  compactness mean         568 non-null    float64\n",
      " 18  compactness std          568 non-null    float64\n",
      " 19  compactness worst        568 non-null    float64\n",
      " 20  concavity mean           568 non-null    float64\n",
      " 21  concavity std            568 non-null    float64\n",
      " 22  concavity worst          568 non-null    float64\n",
      " 23  concave points mean      568 non-null    float64\n",
      " 24  concave points std       568 non-null    float64\n",
      " 25  concave points worst     568 non-null    float64\n",
      " 26  symmetry mean            568 non-null    float64\n",
      " 27  symmetry std             568 non-null    float64\n",
      " 28  symmetry worst           568 non-null    float64\n",
      " 29  fractal dimension mean   568 non-null    float64\n",
      " 30  fractal dimension std    568 non-null    float64\n",
      " 31  fractal dimension worst  568 non-null    float64\n",
      "dtypes: float64(30), int64(1), object(1)\n",
      "memory usage: 142.1+ KB\n"
     ]
    }
   ],
   "source": [
    "data.info()"
   ]
  },
  {
   "cell_type": "markdown",
   "metadata": {},
   "source": [
    "### Part 2 - Characterize each variable. Plot each distribution and describe its range of values"
   ]
  },
  {
   "cell_type": "code",
   "execution_count": 8,
   "metadata": {},
   "outputs": [],
   "source": [
    "data['Diagnosis'] = data['Diagnosis'].astype(\"category\")"
   ]
  },
  {
   "cell_type": "markdown",
   "metadata": {},
   "source": [
    "#### Distribution of the outcomes"
   ]
  },
  {
   "cell_type": "code",
   "execution_count": 9,
   "metadata": {},
   "outputs": [
    {
     "name": "stdout",
     "output_type": "stream",
     "text": [
      "B    357\n",
      "M    211\n",
      "Name: Diagnosis, dtype: int64\n"
     ]
    },
    {
     "data": {
      "text/plain": [
       "Text(0, 0.5, 'Number of Diagnosis')"
      ]
     },
     "execution_count": 9,
     "metadata": {},
     "output_type": "execute_result"
    },
    {
     "data": {
      "image/png": "[encoded data removed]",
      "text/plain": [
       "<Figure size 432x288 with 1 Axes>"
      ]
     },
     "metadata": {
      "needs_background": "light"
     },
     "output_type": "display_data"
    }
   ],
   "source": [
    "diagnosis = data['Diagnosis'].value_counts()\n",
    "print(diagnosis)\n",
    "diagnosis.plot.bar()\n",
    "plt.ylabel(\"Number of Diagnosis\", fontsize = 16)"
   ]
  },
  {
   "cell_type": "markdown",
   "metadata": {},
   "source": [
    "#### Boxplot distributions for each variable and type of diagnosis of the tumor"
   ]
  },
  {
   "cell_type": "markdown",
   "metadata": {},
   "source": [
    "##### Boxplot distribution of Diagnosis and Radius"
   ]
  },
  {
   "cell_type": "code",
   "execution_count": 10,
   "metadata": {},
   "outputs": [
    {
     "data": {
      "text/plain": [
       "<AxesSubplot:title={'center':'radius mean'}, xlabel='[Diagnosis]'>"
      ]
     },
     "execution_count": 10,
     "metadata": {},
     "output_type": "execute_result"
    },
    {
     "data": {
      "image/png": "[encoded data removed]",
      "text/plain": [
       "<Figure size 432x288 with 1 Axes>"
      ]
     },
     "metadata": {
      "needs_background": "light"
     },
     "output_type": "display_data"
    }
   ],
   "source": [
    "data[['Diagnosis', 'radius mean']].boxplot(by=\"Diagnosis\")"
   ]
  },
  {
   "cell_type": "markdown",
   "metadata": {},
   "source": [
    "To start, the ranges for \"B\" from a value lower than 10 to a value between 15 and 20, meanwhile for \"M\" we see that we get values above 10 going beyond 25."
   ]
  },
  {
   "cell_type": "code",
   "execution_count": 11,
   "metadata": {},
   "outputs": [
    {
     "data": {
      "text/plain": [
       "<AxesSubplot:title={'center':'radius std'}, xlabel='[Diagnosis]'>"
      ]
     },
     "execution_count": 11,
     "metadata": {},
     "output_type": "execute_result"
    },
    {
     "data": {
      "image/png": "[encoded data removed]",
      "text/plain": [
       "<Figure size 432x288 with 1 Axes>"
      ]
     },
     "metadata": {
      "needs_background": "light"
     },
     "output_type": "display_data"
    }
   ],
   "source": [
    "data[['Diagnosis', 'radius std']].boxplot(by=\"Diagnosis\")"
   ]
  },
  {
   "cell_type": "markdown",
   "metadata": {},
   "source": [
    "To start, the ranges for \"B\" from a value lower than 10 to a value of 35, meanwhile for \"M\" we see that we get values above 10 going beyond 40."
   ]
  },
  {
   "cell_type": "code",
   "execution_count": 12,
   "metadata": {},
   "outputs": [
    {
     "data": {
      "text/plain": [
       "<AxesSubplot:title={'center':'radius worst'}, xlabel='[Diagnosis]'>"
      ]
     },
     "execution_count": 12,
     "metadata": {},
     "output_type": "execute_result"
    },
    {
     "data": {
      "image/png": "[encoded data removed]",
      "text/plain": [
       "<Figure size 432x288 with 1 Axes>"
      ]
     },
     "metadata": {
      "needs_background": "light"
     },
     "output_type": "display_data"
    }
   ],
   "source": [
    "data[['Diagnosis', 'radius worst']].boxplot(by=\"Diagnosis\")"
   ]
  },
  {
   "cell_type": "markdown",
   "metadata": {},
   "source": [
    "To start, the ranges for \"B\" from a value lower than 50 to a value of 120, meanwhile for \"M\" we see that we get values above 70 going beyond 180."
   ]
  },
  {
   "cell_type": "markdown",
   "metadata": {},
   "source": [
    "##### Boxplot distribution of Diagnosis and Texture"
   ]
  },
  {
   "cell_type": "code",
   "execution_count": 13,
   "metadata": {},
   "outputs": [
    {
     "data": {
      "text/plain": [
       "<AxesSubplot:title={'center':'texture mean'}, xlabel='[Diagnosis]'>"
      ]
     },
     "execution_count": 13,
     "metadata": {},
     "output_type": "execute_result"
    },
    {
     "data": {
      "image/png": "[encoded data removed]",
      "text/plain": [
       "<Figure size 432x288 with 1 Axes>"
      ]
     },
     "metadata": {
      "needs_background": "light"
     },
     "output_type": "display_data"
    }
   ],
   "source": [
    "data[['Diagnosis', 'texture mean']].boxplot(by=\"Diagnosis\")"
   ]
  },
  {
   "cell_type": "markdown",
   "metadata": {},
   "source": [
    "To start, the ranges for \"B\" from a value lower than 500 to a value of 1000, meanwhile for \"M\" we see that we get values below 500 going beyond 2500."
   ]
  },
  {
   "cell_type": "code",
   "execution_count": 14,
   "metadata": {},
   "outputs": [
    {
     "data": {
      "text/plain": [
       "<AxesSubplot:title={'center':'texture std'}, xlabel='[Diagnosis]'>"
      ]
     },
     "execution_count": 14,
     "metadata": {},
     "output_type": "execute_result"
    },
    {
     "data": {
      "image/png": "[encoded data removed]",
      "text/plain": [
       "<Figure size 432x288 with 1 Axes>"
      ]
     },
     "metadata": {
      "needs_background": "light"
     },
     "output_type": "display_data"
    }
   ],
   "source": [
    "data[['Diagnosis', 'texture std']].boxplot(by=\"Diagnosis\")"
   ]
  },
  {
   "cell_type": "markdown",
   "metadata": {},
   "source": [
    "To start, the ranges for \"B\" from a value lower than 0.06 to a value above 0.16, meanwhile for \"M\" we see that we get values above 0.06 to 0.15."
   ]
  },
  {
   "cell_type": "code",
   "execution_count": 15,
   "metadata": {},
   "outputs": [
    {
     "data": {
      "text/plain": [
       "<AxesSubplot:title={'center':'texture worst'}, xlabel='[Diagnosis]'>"
      ]
     },
     "execution_count": 15,
     "metadata": {},
     "output_type": "execute_result"
    },
    {
     "data": {
      "image/png": "[encoded data removed]",
      "text/plain": [
       "<Figure size 432x288 with 1 Axes>"
      ]
     },
     "metadata": {
      "needs_background": "light"
     },
     "output_type": "display_data"
    }
   ],
   "source": [
    "data[['Diagnosis', 'texture worst']].boxplot(by=\"Diagnosis\")"
   ]
  },
  {
   "cell_type": "markdown",
   "metadata": {},
   "source": [
    "To start, the ranges for \"B\" from a value lower than 0.05 to a value between 0.20 and 0.25, meanwhile for \"M\" we see that we get values below 0.05 going beyond 0.35."
   ]
  },
  {
   "cell_type": "markdown",
   "metadata": {},
   "source": [
    "##### Boxplot distribution of Diagnosis and Perimeter"
   ]
  },
  {
   "cell_type": "code",
   "execution_count": 16,
   "metadata": {},
   "outputs": [
    {
     "data": {
      "text/plain": [
       "<AxesSubplot:title={'center':'perimeter mean'}, xlabel='[Diagnosis]'>"
      ]
     },
     "execution_count": 16,
     "metadata": {},
     "output_type": "execute_result"
    },
    {
     "data": {
      "image/png": "[encoded data removed]",
      "text/plain": [
       "<Figure size 432x288 with 1 Axes>"
      ]
     },
     "metadata": {
      "needs_background": "light"
     },
     "output_type": "display_data"
    }
   ],
   "source": [
    "data[['Diagnosis', 'perimeter mean']].boxplot(by=\"Diagnosis\")"
   ]
  },
  {
   "cell_type": "markdown",
   "metadata": {},
   "source": [
    "To start, the ranges for \"B\" from a value if 0.0 to a value if 0.4, meanwhile for \"M\" we see that we get values above 0.0 going beyond 0.4."
   ]
  },
  {
   "cell_type": "code",
   "execution_count": 17,
   "metadata": {},
   "outputs": [
    {
     "data": {
      "text/plain": [
       "<AxesSubplot:title={'center':'perimeter std'}, xlabel='[Diagnosis]'>"
      ]
     },
     "execution_count": 17,
     "metadata": {},
     "output_type": "execute_result"
    },
    {
     "data": {
      "image/png": "[encoded data removed]",
      "text/plain": [
       "<Figure size 432x288 with 1 Axes>"
      ]
     },
     "metadata": {
      "needs_background": "light"
     },
     "output_type": "display_data"
    }
   ],
   "source": [
    "data[['Diagnosis', 'perimeter std']].boxplot(by=\"Diagnosis\")"
   ]
  },
  {
   "cell_type": "markdown",
   "metadata": {},
   "source": [
    "To start, the ranges for \"B\" from a value of 0.00000 to a value between 0.075 and .100, meanwhile for \"M\" we see that we get values above0.025 going beyond 0.175."
   ]
  },
  {
   "cell_type": "code",
   "execution_count": 18,
   "metadata": {},
   "outputs": [
    {
     "data": {
      "text/plain": [
       "<AxesSubplot:title={'center':'perimeter worst'}, xlabel='[Diagnosis]'>"
      ]
     },
     "execution_count": 18,
     "metadata": {},
     "output_type": "execute_result"
    },
    {
     "data": {
      "image/png": "[encoded data removed]",
      "text/plain": [
       "<Figure size 432x288 with 1 Axes>"
      ]
     },
     "metadata": {
      "needs_background": "light"
     },
     "output_type": "display_data"
    }
   ],
   "source": [
    "data[['Diagnosis', 'perimeter worst']].boxplot(by=\"Diagnosis\")"
   ]
  },
  {
   "cell_type": "markdown",
   "metadata": {},
   "source": [
    "To start, the ranges for \"B\" from a value lower than 0.125 to a value between .250 and .275, meanwhile for \"M\" we see that we get values above 0.125 going beyond 0.275."
   ]
  },
  {
   "cell_type": "markdown",
   "metadata": {},
   "source": [
    "##### Boxplot distribution of Diagnosis and Area"
   ]
  },
  {
   "cell_type": "code",
   "execution_count": 19,
   "metadata": {},
   "outputs": [
    {
     "data": {
      "text/plain": [
       "<AxesSubplot:title={'center':'area mean'}, xlabel='[Diagnosis]'>"
      ]
     },
     "execution_count": 19,
     "metadata": {},
     "output_type": "execute_result"
    },
    {
     "data": {
      "image/png": "[encoded data removed]",
      "text/plain": [
       "<Figure size 432x288 with 1 Axes>"
      ]
     },
     "metadata": {
      "needs_background": "light"
     },
     "output_type": "display_data"
    }
   ],
   "source": [
    "data[['Diagnosis', 'area mean']].boxplot(by=\"Diagnosis\")"
   ]
  },
  {
   "cell_type": "markdown",
   "metadata": {},
   "source": [
    "To start, the ranges for \"B\" from a value lower than 0.06 to a value above 0.09, meanwhile for \"M\" we see that we get values above 0.05 going beyond 0.09."
   ]
  },
  {
   "cell_type": "code",
   "execution_count": 20,
   "metadata": {},
   "outputs": [
    {
     "data": {
      "text/plain": [
       "<AxesSubplot:title={'center':'area std'}, xlabel='[Diagnosis]'>"
      ]
     },
     "execution_count": 20,
     "metadata": {},
     "output_type": "execute_result"
    },
    {
     "data": {
      "image/png": "[encoded data removed]",
      "text/plain": [
       "<Figure size 432x288 with 1 Axes>"
      ]
     },
     "metadata": {
      "needs_background": "light"
     },
     "output_type": "display_data"
    }
   ],
   "source": [
    "data[['Diagnosis', 'area std']].boxplot(by=\"Diagnosis\")"
   ]
  },
  {
   "cell_type": "markdown",
   "metadata": {},
   "source": [
    "To start, the ranges for \"B\" from a value above 0.00 to a value between 0.5 to 1.0, meanwhile for \"M\" we see that we get values above 0.0 going beyond 2.5."
   ]
  },
  {
   "cell_type": "code",
   "execution_count": 21,
   "metadata": {
    "scrolled": true
   },
   "outputs": [
    {
     "data": {
      "text/plain": [
       "<AxesSubplot:title={'center':'area worst'}, xlabel='[Diagnosis]'>"
      ]
     },
     "execution_count": 21,
     "metadata": {},
     "output_type": "execute_result"
    },
    {
     "data": {
      "image/png": "[encoded data removed]",
      "text/plain": [
       "<Figure size 432x288 with 1 Axes>"
      ]
     },
     "metadata": {
      "needs_background": "light"
     },
     "output_type": "display_data"
    }
   ],
   "source": [
    "data[['Diagnosis', 'area worst']].boxplot(by=\"Diagnosis\")"
   ]
  },
  {
   "cell_type": "markdown",
   "metadata": {},
   "source": [
    "To start, the ranges for \"B\" from a value lower than 1 to a value of 5, meanwhile for \"M\" we see that we get values above 0 going between 3 and 4."
   ]
  },
  {
   "cell_type": "markdown",
   "metadata": {},
   "source": [
    "##### Boxplot distribution of Diagnosis and smoothness"
   ]
  },
  {
   "cell_type": "code",
   "execution_count": 22,
   "metadata": {},
   "outputs": [
    {
     "data": {
      "text/plain": [
       "<AxesSubplot:title={'center':'smoothness mean'}, xlabel='[Diagnosis]'>"
      ]
     },
     "execution_count": 22,
     "metadata": {},
     "output_type": "execute_result"
    },
    {
     "data": {
      "image/png": "[encoded data removed]",
      "text/plain": [
       "<Figure size 432x288 with 1 Axes>"
      ]
     },
     "metadata": {
      "needs_background": "light"
     },
     "output_type": "display_data"
    }
   ],
   "source": [
    "data[['Diagnosis', 'smoothness mean']].boxplot(by=\"Diagnosis\")"
   ]
  },
  {
   "cell_type": "markdown",
   "metadata": {},
   "source": [
    "To start, the ranges for \"B\" from a value of 0 to a value of 5, meanwhile for \"M\" we see that we get values above 0  and going beyond 20."
   ]
  },
  {
   "cell_type": "code",
   "execution_count": 23,
   "metadata": {},
   "outputs": [
    {
     "data": {
      "text/plain": [
       "<AxesSubplot:title={'center':'smoothness std'}, xlabel='[Diagnosis]'>"
      ]
     },
     "execution_count": 23,
     "metadata": {},
     "output_type": "execute_result"
    },
    {
     "data": {
      "image/png": "[encoded data removed]",
      "text/plain": [
       "<Figure size 432x288 with 1 Axes>"
      ]
     },
     "metadata": {
      "needs_background": "light"
     },
     "output_type": "display_data"
    }
   ],
   "source": [
    "data[['Diagnosis', 'smoothness std']].boxplot(by=\"Diagnosis\")"
   ]
  },
  {
   "cell_type": "markdown",
   "metadata": {},
   "source": [
    "To start, the ranges for \"B\" from a value of 0 to a value between 0 and 100, meanwhile for \"M\" we see that we get values above 0 going beyond 500."
   ]
  },
  {
   "cell_type": "code",
   "execution_count": 24,
   "metadata": {},
   "outputs": [
    {
     "data": {
      "text/plain": [
       "<AxesSubplot:title={'center':'smoothness worst'}, xlabel='[Diagnosis]'>"
      ]
     },
     "execution_count": 24,
     "metadata": {},
     "output_type": "execute_result"
    },
    {
     "data": {
      "image/png": "[encoded data removed]",
      "text/plain": [
       "<Figure size 432x288 with 1 Axes>"
      ]
     },
     "metadata": {
      "needs_background": "light"
     },
     "output_type": "display_data"
    }
   ],
   "source": [
    "data[['Diagnosis', 'smoothness worst']].boxplot(by=\"Diagnosis\")"
   ]
  },
  {
   "cell_type": "markdown",
   "metadata": {},
   "source": [
    "To start, the ranges for \"B\" from a value lower than 0.005 to a value between 0.015 and 0.020, meanwhile for \"M\" we see that we get values below 0.005 going beyond 0.030."
   ]
  },
  {
   "cell_type": "markdown",
   "metadata": {},
   "source": [
    "##### Boxplot distribution of Diagnosis and compactness"
   ]
  },
  {
   "cell_type": "code",
   "execution_count": 25,
   "metadata": {},
   "outputs": [
    {
     "data": {
      "text/plain": [
       "<AxesSubplot:title={'center':'compactness mean'}, xlabel='[Diagnosis]'>"
      ]
     },
     "execution_count": 25,
     "metadata": {},
     "output_type": "execute_result"
    },
    {
     "data": {
      "image/png": "[encoded data removed]",
      "text/plain": [
       "<Figure size 432x288 with 1 Axes>"
      ]
     },
     "metadata": {
      "needs_background": "light"
     },
     "output_type": "display_data"
    }
   ],
   "source": [
    "data[['Diagnosis', 'compactness mean']].boxplot(by=\"Diagnosis\")"
   ]
  },
  {
   "cell_type": "markdown",
   "metadata": {},
   "source": [
    "To start, the ranges for \"B\" from a value aboe than 0.00 to a value between 0.06 and 0.12, meanwhile for \"M\" we see that we get values above 0 going beyond 0.12."
   ]
  },
  {
   "cell_type": "code",
   "execution_count": 26,
   "metadata": {},
   "outputs": [
    {
     "data": {
      "text/plain": [
       "<AxesSubplot:title={'center':'compactness std'}, xlabel='[Diagnosis]'>"
      ]
     },
     "execution_count": 26,
     "metadata": {},
     "output_type": "execute_result"
    },
    {
     "data": {
      "image/png": "[encoded data removed]",
      "text/plain": [
       "<Figure size 432x288 with 1 Axes>"
      ]
     },
     "metadata": {
      "needs_background": "light"
     },
     "output_type": "display_data"
    }
   ],
   "source": [
    "data[['Diagnosis', 'compactness std']].boxplot(by=\"Diagnosis\")"
   ]
  },
  {
   "cell_type": "markdown",
   "metadata": {},
   "source": [
    "To start, the ranges for \"B\" from a value of 0 to a value up to 0.40, meanwhile for \"M\" we see that we get values above 0 and between 0.05 and 0.15."
   ]
  },
  {
   "cell_type": "code",
   "execution_count": 27,
   "metadata": {},
   "outputs": [
    {
     "data": {
      "text/plain": [
       "<AxesSubplot:title={'center':'compactness worst'}, xlabel='[Diagnosis]'>"
      ]
     },
     "execution_count": 27,
     "metadata": {},
     "output_type": "execute_result"
    },
    {
     "data": {
      "image/png": "[encoded data removed]",
      "text/plain": [
       "<Figure size 432x288 with 1 Axes>"
      ]
     },
     "metadata": {
      "needs_background": "light"
     },
     "output_type": "display_data"
    }
   ],
   "source": [
    "data[['Diagnosis', 'compactness worst']].boxplot(by=\"Diagnosis\")"
   ]
  },
  {
   "cell_type": "markdown",
   "metadata": {},
   "source": [
    "To start, the ranges for \"B\" from a value of 0 to a value above 0.05, meanwhile for \"M\" we see that we get values above 0 going beyond 0.04."
   ]
  },
  {
   "cell_type": "markdown",
   "metadata": {},
   "source": [
    "##### Boxplot distribution of Diagnosis and concavity"
   ]
  },
  {
   "cell_type": "code",
   "execution_count": 28,
   "metadata": {},
   "outputs": [
    {
     "data": {
      "text/plain": [
       "<AxesSubplot:title={'center':'concavity mean'}, xlabel='[Diagnosis]'>"
      ]
     },
     "execution_count": 28,
     "metadata": {},
     "output_type": "execute_result"
    },
    {
     "data": {
      "image/png": "[encoded data removed]",
      "text/plain": [
       "<Figure size 432x288 with 1 Axes>"
      ]
     },
     "metadata": {
      "needs_background": "light"
     },
     "output_type": "display_data"
    }
   ],
   "source": [
    "data[['Diagnosis', 'concavity mean']].boxplot(by=\"Diagnosis\")"
   ]
  },
  {
   "cell_type": "markdown",
   "metadata": {},
   "source": [
    "To start, the ranges for \"B\" from a value above .010 to a value up to 0.06, meanwhile for \"M\" we see that we get values below 0.01 going upto 0.08. "
   ]
  },
  {
   "cell_type": "code",
   "execution_count": 29,
   "metadata": {},
   "outputs": [
    {
     "data": {
      "text/plain": [
       "<AxesSubplot:title={'center':'concavity std'}, xlabel='[Diagnosis]'>"
      ]
     },
     "execution_count": 29,
     "metadata": {},
     "output_type": "execute_result"
    },
    {
     "data": {
      "image/png": "[encoded data removed]",
      "text/plain": [
       "<Figure size 432x288 with 1 Axes>"
      ]
     },
     "metadata": {
      "needs_background": "light"
     },
     "output_type": "display_data"
    }
   ],
   "source": [
    "data[['Diagnosis', 'concavity std']].boxplot(by=\"Diagnosis\")"
   ]
  },
  {
   "cell_type": "markdown",
   "metadata": {},
   "source": [
    "To start, the ranges for \"B\" from a value lower than 0.005 to a value between 0.005 to 0.030, meanwhile for \"M\" we see that we get values above 0.000 going between 0.005 to 0.015."
   ]
  },
  {
   "cell_type": "code",
   "execution_count": 30,
   "metadata": {},
   "outputs": [
    {
     "data": {
      "text/plain": [
       "<AxesSubplot:title={'center':'concavity worst'}, xlabel='[Diagnosis]'>"
      ]
     },
     "execution_count": 30,
     "metadata": {},
     "output_type": "execute_result"
    },
    {
     "data": {
      "image/png": "[encoded data removed]",
      "text/plain": [
       "<Figure size 432x288 with 1 Axes>"
      ]
     },
     "metadata": {
      "needs_background": "light"
     },
     "output_type": "display_data"
    }
   ],
   "source": [
    "data[['Diagnosis', 'concavity worst']].boxplot(by=\"Diagnosis\")"
   ]
  },
  {
   "cell_type": "markdown",
   "metadata": {},
   "source": [
    "To start, the ranges for \"B\" from a value lower than 10 to a value upto 20, meanwhile for \"M\" we see that we get values above 10 going beyond 35."
   ]
  },
  {
   "cell_type": "markdown",
   "metadata": {},
   "source": [
    "##### Boxplot distribution of Diagnosis and concave points"
   ]
  },
  {
   "cell_type": "code",
   "execution_count": 31,
   "metadata": {},
   "outputs": [
    {
     "data": {
      "text/plain": [
       "<AxesSubplot:title={'center':'concave points mean'}, xlabel='[Diagnosis]'>"
      ]
     },
     "execution_count": 31,
     "metadata": {},
     "output_type": "execute_result"
    },
    {
     "data": {
      "image/png": "[encoded data removed]",
      "text/plain": [
       "<Figure size 432x288 with 1 Axes>"
      ]
     },
     "metadata": {
      "needs_background": "light"
     },
     "output_type": "display_data"
    }
   ],
   "source": [
    "data[['Diagnosis', 'concave points mean']].boxplot(by=\"Diagnosis\")"
   ]
  },
  {
   "cell_type": "markdown",
   "metadata": {},
   "source": [
    "To start, the ranges for \"B\" from a value lower than 10 to a value between 35 and 45, meanwhile for \"M\" we see that we get values above 15 going beyond 50."
   ]
  },
  {
   "cell_type": "code",
   "execution_count": 32,
   "metadata": {},
   "outputs": [
    {
     "data": {
      "text/plain": [
       "<AxesSubplot:title={'center':'concave points std'}, xlabel='[Diagnosis]'>"
      ]
     },
     "execution_count": 32,
     "metadata": {},
     "output_type": "execute_result"
    },
    {
     "data": {
      "image/png": "[encoded data removed]",
      "text/plain": [
       "<Figure size 432x288 with 1 Axes>"
      ]
     },
     "metadata": {
      "needs_background": "light"
     },
     "output_type": "display_data"
    }
   ],
   "source": [
    "data[['Diagnosis', 'concave points std']].boxplot(by=\"Diagnosis\")"
   ]
  },
  {
   "cell_type": "markdown",
   "metadata": {},
   "source": [
    "To start, the ranges for \"B\" from a value lower than 50 to a value upto 125, meanwhile for \"M\" we see that we get values above 75 going beyond 250."
   ]
  },
  {
   "cell_type": "code",
   "execution_count": 33,
   "metadata": {},
   "outputs": [
    {
     "data": {
      "text/plain": [
       "<AxesSubplot:title={'center':'concave points worst'}, xlabel='[Diagnosis]'>"
      ]
     },
     "execution_count": 33,
     "metadata": {},
     "output_type": "execute_result"
    },
    {
     "data": {
      "image/png": "[encoded data removed]",
      "text/plain": [
       "<Figure size 432x288 with 1 Axes>"
      ]
     },
     "metadata": {
      "needs_background": "light"
     },
     "output_type": "display_data"
    }
   ],
   "source": [
    "data[['Diagnosis', 'concave points worst']].boxplot(by=\"Diagnosis\")"
   ]
  },
  {
   "cell_type": "markdown",
   "metadata": {},
   "source": [
    "To start, the ranges for \"B\" from a value lower than 500 to a value between 500 and 1000, meanwhile for \"M\" we see that we get values of 500 going beyond 4000."
   ]
  },
  {
   "cell_type": "markdown",
   "metadata": {},
   "source": [
    "##### Boxplot distribution of Diagnosis and symmetry"
   ]
  },
  {
   "cell_type": "code",
   "execution_count": 34,
   "metadata": {},
   "outputs": [
    {
     "data": {
      "text/plain": [
       "<AxesSubplot:title={'center':'symmetry mean'}, xlabel='[Diagnosis]'>"
      ]
     },
     "execution_count": 34,
     "metadata": {},
     "output_type": "execute_result"
    },
    {
     "data": {
      "image/png": "[encoded data removed]",
      "text/plain": [
       "<Figure size 432x288 with 1 Axes>"
      ]
     },
     "metadata": {
      "needs_background": "light"
     },
     "output_type": "display_data"
    }
   ],
   "source": [
    "data[['Diagnosis', 'symmetry mean']].boxplot(by=\"Diagnosis\")"
   ]
  },
  {
   "cell_type": "markdown",
   "metadata": {},
   "source": [
    "To start, the ranges for \"B\" from a value lower than 0.08 to a value between 0.18 and .20, meanwhile for \"M\" we see that we get values above 0.08 going beyond 0.22."
   ]
  },
  {
   "cell_type": "code",
   "execution_count": 35,
   "metadata": {},
   "outputs": [
    {
     "data": {
      "text/plain": [
       "<AxesSubplot:title={'center':'symmetry std'}, xlabel='[Diagnosis]'>"
      ]
     },
     "execution_count": 35,
     "metadata": {},
     "output_type": "execute_result"
    },
    {
     "data": {
      "image/png": "[encoded data removed]",
      "text/plain": [
       "<Figure size 432x288 with 1 Axes>"
      ]
     },
     "metadata": {
      "needs_background": "light"
     },
     "output_type": "display_data"
    }
   ],
   "source": [
    "data[['Diagnosis', 'symmetry std']].boxplot(by=\"Diagnosis\")"
   ]
  },
  {
   "cell_type": "markdown",
   "metadata": {},
   "source": [
    "To start, the ranges for \"B\" from a value greater than 0 to a value upto 0.6, meanwhile for \"M\" we see that we get values above 0 going beyond 1.0."
   ]
  },
  {
   "cell_type": "code",
   "execution_count": 36,
   "metadata": {},
   "outputs": [
    {
     "data": {
      "text/plain": [
       "<AxesSubplot:title={'center':'symmetry worst'}, xlabel='[Diagnosis]'>"
      ]
     },
     "execution_count": 36,
     "metadata": {},
     "output_type": "execute_result"
    },
    {
     "data": {
      "image/png": "[encoded data removed]",
      "text/plain": [
       "<Figure size 432x288 with 1 Axes>"
      ]
     },
     "metadata": {
      "needs_background": "light"
     },
     "output_type": "display_data"
    }
   ],
   "source": [
    "data[['Diagnosis', 'symmetry worst']].boxplot(by=\"Diagnosis\")"
   ]
  },
  {
   "cell_type": "markdown",
   "metadata": {},
   "source": [
    "To start, the ranges for \"B\" from a value of 0 to a value above 1.2, meanwhile for \"M\" we see that we get values above 0 going beyond 1.2."
   ]
  },
  {
   "cell_type": "markdown",
   "metadata": {},
   "source": [
    "##### Boxplot distribution of Diagnosis and fractal dimension"
   ]
  },
  {
   "cell_type": "code",
   "execution_count": 37,
   "metadata": {},
   "outputs": [
    {
     "data": {
      "text/plain": [
       "<AxesSubplot:title={'center':'fractal dimension mean'}, xlabel='[Diagnosis]'>"
      ]
     },
     "execution_count": 37,
     "metadata": {},
     "output_type": "execute_result"
    },
    {
     "data": {
      "image/png": "[encoded data removed]",
      "text/plain": [
       "<Figure size 432x288 with 1 Axes>"
      ]
     },
     "metadata": {
      "needs_background": "light"
     },
     "output_type": "display_data"
    }
   ],
   "source": [
    "data[['Diagnosis', 'fractal dimension mean']].boxplot(by=\"Diagnosis\")"
   ]
  },
  {
   "cell_type": "markdown",
   "metadata": {},
   "source": [
    "To start, the ranges for \"B\" from a value lower than 0 to a value between 0.15 and 0.20, meanwhile for \"M\" we see that we get values above 0 going beyond 0.25."
   ]
  },
  {
   "cell_type": "code",
   "execution_count": 38,
   "metadata": {},
   "outputs": [
    {
     "data": {
      "text/plain": [
       "<AxesSubplot:title={'center':'fractal dimension std'}, xlabel='[Diagnosis]'>"
      ]
     },
     "execution_count": 38,
     "metadata": {},
     "output_type": "execute_result"
    },
    {
     "data": {
      "image/png": "[encoded data removed]",
      "text/plain": [
       "<Figure size 432x288 with 1 Axes>"
      ]
     },
     "metadata": {
      "needs_background": "light"
     },
     "output_type": "display_data"
    }
   ],
   "source": [
    "data[['Diagnosis', 'fractal dimension std']].boxplot(by=\"Diagnosis\")"
   ]
  },
  {
   "cell_type": "markdown",
   "metadata": {},
   "source": [
    "To start, the ranges for \"B\" from a value lower than 0.2 to a value upti 0.5, meanwhile for \"M\" we see that we get values below 0.2 going beyond 0.6."
   ]
  },
  {
   "cell_type": "code",
   "execution_count": 39,
   "metadata": {},
   "outputs": [
    {
     "data": {
      "text/plain": [
       "<AxesSubplot:title={'center':'fractal dimension worst'}, xlabel='[Diagnosis]'>"
      ]
     },
     "execution_count": 39,
     "metadata": {},
     "output_type": "execute_result"
    },
    {
     "data": {
      "image/png": "[encoded data removed]",
      "text/plain": [
       "<Figure size 432x288 with 1 Axes>"
      ]
     },
     "metadata": {
      "needs_background": "light"
     },
     "output_type": "display_data"
    }
   ],
   "source": [
    "data[['Diagnosis', 'fractal dimension worst']].boxplot(by=\"Diagnosis\")"
   ]
  },
  {
   "cell_type": "markdown",
   "metadata": {},
   "source": [
    "To start, the ranges for \"B\" from a value lower than 0.06 to a value between 0.06 and 0.14, meanwhile for \"M\" we see that we get values above 0 going beyond 0.20."
   ]
  },
  {
   "cell_type": "markdown",
   "metadata": {},
   "source": [
    "### Performing statistical tests "
   ]
  },
  {
   "cell_type": "markdown",
   "metadata": {},
   "source": [
    "#### Performing the Kruskal Wallis test"
   ]
  },
  {
   "cell_type": "code",
   "execution_count": 40,
   "metadata": {},
   "outputs": [
    {
     "name": "stdout",
     "output_type": "stream",
     "text": [
      "radius mean  P Values  0.03355504723259343\n",
      "radius std  P Values  0.2601005317517219\n",
      "radius worst  P Values  0.1652705119887749\n",
      "texture mean  P Values  0.31743274508766833\n",
      "texture std  P Values  0.627782872442487\n",
      "texture worst  P Values  0.4238616438402143\n",
      "perimeter mean  P Values  0.253547128660646\n",
      "perimeter std  P Values  0.27138551376225417\n",
      "perimeter worst  P Values  0.4072731142347956\n",
      "area mean  P Values  0.4984581787762441\n",
      "area std  P Values  0.29080327036951786\n",
      "area worst  P Values  0.534491222512779\n",
      "smoothness mean  P Values  0.23533165863388125\n",
      "smoothness std  P Values  0.22132089058175913\n",
      "smoothness worst  P Values  0.3706097840671606\n",
      "compactness mean  P Values  0.371240578253371\n",
      "compactness std  P Values  0.2554085821246654\n",
      "compactness worst  P Values  0.4295217361546782\n",
      "concavity mean  P Values  0.6201844921946954\n",
      "concavity std  P Values  0.4602974380019703\n",
      "concavity worst  P Values  0.005358203616578031\n",
      "concave points mean  P Values  0.4439058648955475\n",
      "concave points std  P Values  0.2500437574733715\n",
      "concave points worst  P Values  0.32595294669815894\n",
      "symmetry mean  P Values  0.25236231453251745\n",
      "symmetry std  P Values  0.27129131999074113\n",
      "symmetry worst  P Values  0.30238849327325085\n",
      "fractal dimension mean  P Values  0.04528637046478485\n",
      "fractal dimension std  P Values  0.43942395635544546\n",
      "fractal dimension worst  P Values  0.5292088942337989\n"
     ]
    }
   ],
   "source": [
    "for i in numerical:\n",
    "    samples = []\n",
    "    for v in set(data[i]):\n",
    "        mask = data[i] == v\n",
    "        samples.append(data['Diagnosis'][mask])\n",
    "    value, p_value = stats.kruskal(*samples)\n",
    "    print(i, \" P Values \", p_value)"
   ]
  },
  {
   "cell_type": "markdown",
   "metadata": {},
   "source": [
    "| Variable | p-value | Statistically Significant Relationship at Threshold = 0.05 |\n",
    "| --- | --- | --- |\n",
    "|radius mean| 0.03355504723259343|NO|\n",
    "|radius std| 0.2601005317517219|NO|\n",
    "|radius worst|0.1652705119887749|NO|\n",
    "|texture mean|0.31743274508766833|NO|\n",
    "|texture std| 0.627782872442487|NO|\n",
    "|texture worst| 0.4238616438402143|NO|\n",
    "|perimeter mean| 0.253547128660646|NO|\n",
    "|perimeter std | 0.27138551376225417|NO|\n",
    "|perimeter worst|0.4072731142347956|NO|\n",
    "|area mean|0.4984581787762441|NO|\n",
    "|area std| 0.29080327036951786|NO|\n",
    "|area worst|0.534491222512779|NO|\n",
    "|smoothness mean| 0.23533165863388125|NO|\n",
    "|smoothness std|0.22132089058175913|NO|\n",
    "|smoothness worst|0.3706097840671606|NO|\n",
    "|compactness mean|0.371240578253371|NO|\n",
    "|compactness std|0.2554085821246654|NO|\n",
    "|compactness worst|0.4295217361546782|NO|\n",
    "|concavity mean|  0.6201844921946954|NO|\n",
    "|concavity std| 0.4602974380019703|NO|\n",
    "|concavity worst|0.005358203616578031|YES|\n",
    "|concave points mean| 0.4439058648955475|NO|\n",
    "|concave points std|0.2500437574733715|NO|\n",
    "|concave points worst|0.32595294669815894|NO|\n",
    "|symmetry mean|0.2523623145325174|NO| \n",
    "|symmetry std| 0.27129131999074113|NO|\n",
    "|symmetry worst|0.30238849327325085|NO|\n",
    "|fractal dimension mean|0.04528637046478485|YES|\n",
    "|fractal dimension std|0.43942395635544546|NO| \n",
    "|fractal dimension worst|0.5292088942337989|NO|\n"
   ]
  },
  {
   "cell_type": "markdown",
   "metadata": {},
   "source": [
    "## Part 4"
   ]
  },
  {
   "cell_type": "code",
   "execution_count": 41,
   "metadata": {},
   "outputs": [],
   "source": [
    "categorical_columns = [\"Diagnosis\"]\n",
    "dummy_columns = {}\n",
    "for col_name in categorical_columns:\n",
    "    dummies = pd.get_dummies(data[col_name], prefix=col_name)\n",
    "    dummy_columns[col_name] = dummies.columns.values\n",
    "    data = data.merge(dummies, left_index=True, right_index=True)"
   ]
  },
  {
   "cell_type": "markdown",
   "metadata": {},
   "source": [
    "#### Experimental Setup"
   ]
  },
  {
   "cell_type": "code",
   "execution_count": 42,
   "metadata": {},
   "outputs": [],
   "source": [
    "data_train, data_test = train_test_split(data, stratify=data['Diagnosis'])"
   ]
  },
  {
   "cell_type": "markdown",
   "metadata": {},
   "source": [
    "#### Scaling the training and testing sets"
   ]
  },
  {
   "cell_type": "markdown",
   "metadata": {},
   "source": [
    "Using the labelEncoder to transform the Diagnosis from strings to integers and store an internal representation"
   ]
  },
  {
   "cell_type": "code",
   "execution_count": 43,
   "metadata": {},
   "outputs": [],
   "source": [
    "encoder = LabelEncoder()\n",
    "y_train = encoder.fit_transform(data_train[\"Diagnosis\"].astype(\"str\"))\n",
    "y_test = encoder.transform(data_test[\"Diagnosis\"].astype(\"str\"))"
   ]
  },
  {
   "cell_type": "markdown",
   "metadata": {},
   "source": [
    "### Base Line Model For Logistic Regression"
   ]
  },
  {
   "cell_type": "code",
   "execution_count": 44,
   "metadata": {},
   "outputs": [
    {
     "name": "stdout",
     "output_type": "stream",
     "text": [
      "Accuracy: 0.3732394366197183\n",
      "Loss: 0.7120523716643975\n",
      "Recall:  1.0\n",
      "Percision: 0.3732394366197183\n",
      "Labels: ['B' 'M']\n",
      "Confusion matrix:\n",
      "[[ 0 89]\n",
      " [ 0 53]]\n"
     ]
    }
   ],
   "source": [
    "zeros_train = np.zeros(data_train.shape)\n",
    "zeros_test = np.zeros(data_test.shape)\n",
    "\n",
    "baseline = SGDClassifier(max_iter=10000, loss=\"log\")\n",
    "baseline.fit(zeros_train, y_train)\n",
    "pred_null_labels = baseline.predict(zeros_test)\n",
    "pred_prob = baseline.predict_proba(zeros_test)\n",
    "\n",
    "baseline_accuracy = accuracy_score(y_test, pred_null_labels)\n",
    "null_loss = log_loss(y_test, pred_prob)\n",
    "cm = confusion_matrix(y_test, pred_null_labels)\n",
    "recall_baseline = recall_score(y_test, pred_null_labels)\n",
    "percision_baseline = precision_score(y_test, pred_null_labels)\n",
    "\n",
    "print(\"Accuracy:\", baseline_accuracy)\n",
    "print(\"Loss:\", null_loss)\n",
    "print(\"Recall: \", recall_baseline)\n",
    "print(\"Percision:\", percision_baseline)\n",
    "print(\"Labels:\", encoder.classes_)\n",
    "print(\"Confusion matrix:\")\n",
    "print(cm)"
   ]
  },
  {
   "cell_type": "code",
   "execution_count": 45,
   "metadata": {},
   "outputs": [
    {
     "name": "stdout",
     "output_type": "stream",
     "text": [
      "Accuracy: 0.8309859154929577\n",
      "Loss: 0.7120523716643975\n",
      "Labels: ['B' 'M']\n",
      "Confusion matrix:\n",
      "[[73 16]\n",
      " [ 8 45]]\n"
     ]
    }
   ],
   "source": [
    "X_train = data_train[[\"radius mean\"]].astype(\"float64\").values\n",
    "X_test = data_test[[\"radius mean\"]].astype(\"float64\").values\n",
    "\n",
    "imputer = SimpleImputer()\n",
    "X_train = imputer.fit_transform(X_train)\n",
    "X_test = imputer.transform(X_test)\n",
    "\n",
    "scaler = StandardScaler()\n",
    "X_train = scaler.fit_transform(X_train)\n",
    "X_test = scaler.transform(X_test)\n",
    "\n",
    "simple_lr = SGDClassifier(max_iter=10000, loss=\"log\")\n",
    "simple_lr.fit(X_train, y_train)\n",
    "pred_labels = simple_lr.predict(X_test)\n",
    "pred_prob = simple_lr.predict_proba(X_test)\n",
    "\n",
    "baseline_accuracy = accuracy_score(y_test, pred_labels)\n",
    "loss = log_loss(y_test, pred_prob)\n",
    "cm = confusion_matrix(y_test, pred_labels)\n",
    "\n",
    "print(\"Accuracy:\", baseline_accuracy)\n",
    "print(\"Loss:\", null_loss)\n",
    "print(\"Labels:\", encoder.classes_)\n",
    "print(\"Confusion matrix:\")\n",
    "print(cm)"
   ]
  },
  {
   "cell_type": "markdown",
   "metadata": {},
   "source": [
    "### Feature Selection with Greedy Algorithm"
   ]
  },
  {
   "cell_type": "code",
   "execution_count": 46,
   "metadata": {},
   "outputs": [],
   "source": [
    "numerical_columns = ['radius mean', 'radius std', 'radius worst', 'texture mean', 'texture std', 'texture worst', 'perimeter mean', 'perimeter std', 'perimeter worst', 'area mean', 'area std', 'area worst', 'smoothness mean', 'smoothness std', 'smoothness worst', 'compactness mean', 'compactness std', 'compactness worst', 'concavity mean', 'concavity std', 'concavity worst', 'concave points mean', 'concave points std', 'concave points worst', 'symmetry mean', 'symmetry std', 'symmetry worst', 'fractal dimension mean', 'fractal dimension std', 'fractal dimension worst']\n",
    "categorical_columns = ['Diagnosis']\n",
    "candidate_columns = numerical_columns"
   ]
  },
  {
   "cell_type": "code",
   "execution_count": 47,
   "metadata": {},
   "outputs": [],
   "source": [
    "def create_feature_matrices(df_train, df_test, selected_columns, dummy_columns):\n",
    "    \"\"\"\n",
    "    Creates feature matrices for the training and testing sets from the given dataframes.\n",
    "    The feature matrices are built from the columns given in selected columns.\n",
    "    \"\"\"\n",
    "    \n",
    "    # keep track of numerical features\n",
    "    numerical_trial_columns = []\n",
    "    \n",
    "    # keep track of dummy features for categorical variables\n",
    "    categorical_trial_columns = []\n",
    "    \n",
    "    # build feature lists\n",
    "    for col_name in selected_columns:\n",
    "        if col_name in dummy_columns:\n",
    "            categorical_trial_columns.extend(dummy_columns[col_name])\n",
    "        else:\n",
    "            numerical_trial_columns.append(col_name)\n",
    "\n",
    "    # transform numerical features\n",
    "    if len(numerical_trial_columns) > 0:\n",
    "        X_train_numerical = df_train[numerical_trial_columns].astype(\"float64\").values\n",
    "        X_test_numerical = df_test[numerical_trial_columns].astype(\"float64\").values\n",
    "    \n",
    "        imputer = SimpleImputer()\n",
    "        X_train_numerical = imputer.fit_transform(X_train_numerical)\n",
    "        X_test_numerical = imputer.transform(X_test_numerical)\n",
    "    \n",
    "        scaler = StandardScaler()\n",
    "        X_train_numerical = scaler.fit_transform(X_train_numerical)\n",
    "        X_test_numerical = scaler.transform(X_test_numerical)\n",
    "    \n",
    "    # select categorical features\n",
    "    if len(categorical_trial_columns) > 0:\n",
    "        X_train_categorical = df_train[categorical_trial_columns].astype(\"float64\").values\n",
    "        X_test_categorical = df_test[categorical_trial_columns].astype(\"float64\").values\n",
    "    \n",
    "    # concatenate feature matrices\n",
    "    if len(numerical_trial_columns) > 0 and len(categorical_trial_columns) > 0:\n",
    "        X_train = np.hstack([X_train_numerical, X_train_categorical])\n",
    "        X_test = np.hstack([X_test_numerical, X_test_categorical])\n",
    "    elif len(numerical_trial_columns) > 0:\n",
    "        X_train = X_train_numerical\n",
    "        X_test = X_test_numerical\n",
    "    else:\n",
    "        X_train = X_train_categorical\n",
    "        X_test = X_test_categorical\n",
    "        \n",
    "    return X_train, X_test"
   ]
  },
  {
   "cell_type": "code",
   "execution_count": 48,
   "metadata": {},
   "outputs": [
    {
     "name": "stdout",
     "output_type": "stream",
     "text": [
      "baseline Model Accuracy: 0.8309859154929577\n",
      "\n",
      "radius mean Accuracy: 0.8732394366197183\n",
      "radius mean Loss: 0.36017252141224115\n",
      "\n",
      "radius std Accuracy: 0.7183098591549296\n",
      "radius std Loss: 0.5513822775317127\n",
      "\n",
      "radius worst Accuracy: 0.8380281690140845\n",
      "radius worst Loss: 0.3406014952965509\n",
      "\n",
      "texture mean Accuracy: 0.8873239436619719\n",
      "texture mean Loss: 0.3546961097002055\n",
      "\n",
      "texture std Accuracy: 0.6971830985915493\n",
      "texture std Loss: 0.5943324282259611\n",
      "\n",
      "texture worst Accuracy: 0.7535211267605634\n",
      "texture worst Loss: 0.592243087555428\n",
      "\n",
      "perimeter mean Accuracy: 0.8802816901408451\n",
      "perimeter mean Loss: 0.37680353777392356\n",
      "\n",
      "perimeter std Accuracy: 0.9084507042253521\n",
      "perimeter std Loss: 0.21665912328072778\n",
      "\n",
      "perimeter worst Accuracy: 0.6830985915492958\n",
      "perimeter worst Loss: 0.7020119873267738\n",
      "\n",
      "area mean Accuracy: 0.6267605633802817\n",
      "area mean Loss: 0.6752628751078548\n",
      "\n",
      "area std Accuracy: 0.8098591549295775\n",
      "area std Loss: 0.4376781938978827\n",
      "\n",
      "area worst Accuracy: 0.4788732394366197\n",
      "area worst Loss: 0.7645828862896042\n",
      "\n",
      "smoothness mean Accuracy: 0.7746478873239436\n",
      "smoothness mean Loss: 0.5033215118468773\n",
      "\n",
      "smoothness std Accuracy: 0.8661971830985915\n",
      "smoothness std Loss: 0.35642824789431454\n",
      "\n",
      "smoothness worst Accuracy: 0.6267605633802817\n",
      "smoothness worst Loss: 0.7233164655643809\n",
      "\n",
      "compactness mean Accuracy: 0.647887323943662\n",
      "compactness mean Loss: 0.7903864314223611\n",
      "\n",
      "compactness std Accuracy: 0.6267605633802817\n",
      "compactness std Loss: 1.113153630261425\n",
      "\n",
      "compactness worst Accuracy: 0.6971830985915493\n",
      "compactness worst Loss: 0.6011310495903032\n",
      "\n",
      "concavity mean Accuracy: 0.6267605633802817\n",
      "concavity mean Loss: 0.6755371364001402\n",
      "\n",
      "concavity std Accuracy: 0.5633802816901409\n",
      "concavity std Loss: 0.742939032584523\n",
      "\n",
      "concavity worst Accuracy: 0.8943661971830986\n",
      "concavity worst Loss: 0.26524513972158\n",
      "\n",
      "concave points mean Accuracy: 0.704225352112676\n",
      "concave points mean Loss: 0.585874967090388\n",
      "\n",
      "concave points std Accuracy: 0.8943661971830986\n",
      "concave points std Loss: 0.27759160115833614\n",
      "\n",
      "concave points worst Accuracy: 0.8873239436619719\n",
      "concave points worst Loss: 0.265209788855349\n",
      "\n",
      "symmetry mean Accuracy: 0.7253521126760564\n",
      "symmetry mean Loss: 0.5421188085795812\n",
      "\n",
      "symmetry std Accuracy: 0.7394366197183099\n",
      "symmetry std Loss: 0.5930161382481274\n",
      "\n",
      "symmetry worst Accuracy: 0.8450704225352113\n",
      "symmetry worst Loss: 0.4811260705393233\n",
      "\n",
      "fractal dimension mean Accuracy: 0.8732394366197183\n",
      "fractal dimension mean Loss: 0.27080079746992014\n",
      "\n",
      "fractal dimension std Accuracy: 0.6549295774647887\n",
      "fractal dimension std Loss: 0.608352645256726\n",
      "\n",
      "fractal dimension worst Accuracy: 0.6549295774647887\n",
      "fractal dimension worst Loss: 0.6765250362119893\n",
      "\n",
      "Sorted columns:['perimeter std', 'concavity worst', 'concave points std', 'texture mean', 'concave points worst', 'perimeter mean', 'radius mean', 'fractal dimension mean', 'smoothness std', 'symmetry worst', 'radius worst', 'area std', 'smoothness mean', 'texture worst', 'symmetry std', 'symmetry mean', 'radius std', 'concave points mean', 'texture std', 'compactness worst', 'perimeter worst', 'fractal dimension std', 'fractal dimension worst', 'compactness mean', 'area mean', 'smoothness worst', 'compactness std', 'concavity mean', 'concavity std', 'area worst']\n"
     ]
    }
   ],
   "source": [
    "print(\"baseline Model Accuracy:\", baseline_accuracy)\n",
    "\n",
    "column_accuracies = []\n",
    "\n",
    "for col_name in candidate_columns:\n",
    "    X_train, X_test = create_feature_matrices(data_train,\n",
    "                                             data_test,\n",
    "                                             [col_name],\n",
    "                                             dummy_columns)\n",
    "    \n",
    "    simple_lr = SGDClassifier(max_iter=10000, loss=\"log\")\n",
    "    simple_lr.fit(X_train, y_train)\n",
    "    pred_labels = simple_lr.predict(X_test)\n",
    "    pred_probs = simple_lr.predict_proba(X_test)\n",
    "    simple_accuracy = accuracy_score(y_test, pred_labels)\n",
    "    simple_loss = log_loss(y_test, pred_probs)\n",
    "    print()\n",
    "    print(col_name + \" Accuracy:\", simple_accuracy)\n",
    "    print(col_name + \" Loss:\", simple_loss)\n",
    "    column_accuracies.append((simple_accuracy, col_name))\n",
    "    \n",
    "column_accuracies.sort(key=lambda p: p[0], reverse=True)\n",
    "sorted_columns = [col_name for _, col_name in column_accuracies]\n",
    "print()\n",
    "print(\"Sorted columns:\" + str(sorted_columns))"
   ]
  },
  {
   "cell_type": "code",
   "execution_count": 49,
   "metadata": {},
   "outputs": [
    {
     "name": "stdout",
     "output_type": "stream",
     "text": [
      "Base Model Accuracy: 0.8309859154929577\n",
      "Base Model Loss: 0.7120523716643975\n",
      "\n",
      "\n",
      "['perimeter std'] Model Accuracy: 0.9084507042253521\n",
      "['perimeter std'] Model Loss: 0.2345957465106409\n",
      "Updating base model\n",
      "\n",
      "Base Model Loss: 0.2345957465106409\n",
      "Base Model Accuracy: 0.9084507042253521\n",
      "\n",
      "\n",
      "['perimeter std', 'concavity worst'] Model Accuracy: 0.9154929577464789\n",
      "['perimeter std', 'concavity worst'] Model Loss: 0.2209864330115537\n",
      "Updating base model\n",
      "\n",
      "Base Model Loss: 0.2209864330115537\n",
      "Base Model Accuracy: 0.9154929577464789\n",
      "\n",
      "\n",
      "['perimeter std', 'concavity worst', 'concave points std'] Model Accuracy: 0.9154929577464789\n",
      "['perimeter std', 'concavity worst', 'concave points std'] Model Loss: 0.18380767047221785\n",
      "\n",
      "Base Model Loss: 0.2209864330115537\n",
      "Base Model Accuracy: 0.9154929577464789\n",
      "\n",
      "\n",
      "['perimeter std', 'concavity worst', 'texture mean'] Model Accuracy: 0.9366197183098591\n",
      "['perimeter std', 'concavity worst', 'texture mean'] Model Loss: 0.15140329980909456\n",
      "Updating base model\n",
      "\n",
      "Base Model Loss: 0.15140329980909456\n",
      "Base Model Accuracy: 0.9366197183098591\n",
      "\n",
      "\n",
      "['perimeter std', 'concavity worst', 'texture mean', 'concave points worst'] Model Accuracy: 0.9507042253521126\n",
      "['perimeter std', 'concavity worst', 'texture mean', 'concave points worst'] Model Loss: 0.12947130543644436\n",
      "Updating base model\n",
      "\n",
      "Base Model Loss: 0.12947130543644436\n",
      "Base Model Accuracy: 0.9507042253521126\n",
      "\n",
      "\n",
      "['perimeter std', 'concavity worst', 'texture mean', 'concave points worst', 'perimeter mean'] Model Accuracy: 0.9366197183098591\n",
      "['perimeter std', 'concavity worst', 'texture mean', 'concave points worst', 'perimeter mean'] Model Loss: 0.13994077118531428\n",
      "\n",
      "Base Model Loss: 0.12947130543644436\n",
      "Base Model Accuracy: 0.9507042253521126\n",
      "\n",
      "\n",
      "['perimeter std', 'concavity worst', 'texture mean', 'concave points worst', 'radius mean'] Model Accuracy: 0.9436619718309859\n",
      "['perimeter std', 'concavity worst', 'texture mean', 'concave points worst', 'radius mean'] Model Loss: 0.1247339701712074\n",
      "\n",
      "Base Model Loss: 0.12947130543644436\n",
      "Base Model Accuracy: 0.9507042253521126\n",
      "\n",
      "\n",
      "['perimeter std', 'concavity worst', 'texture mean', 'concave points worst', 'fractal dimension mean'] Model Accuracy: 0.9647887323943662\n",
      "['perimeter std', 'concavity worst', 'texture mean', 'concave points worst', 'fractal dimension mean'] Model Loss: 0.1358053650266992\n",
      "Updating base model\n",
      "\n",
      "Base Model Loss: 0.1358053650266992\n",
      "Base Model Accuracy: 0.9647887323943662\n",
      "\n",
      "\n",
      "['perimeter std', 'concavity worst', 'texture mean', 'concave points worst', 'fractal dimension mean', 'smoothness std'] Model Accuracy: 0.9295774647887324\n",
      "['perimeter std', 'concavity worst', 'texture mean', 'concave points worst', 'fractal dimension mean', 'smoothness std'] Model Loss: 0.15417645281465647\n",
      "\n",
      "Base Model Loss: 0.1358053650266992\n",
      "Base Model Accuracy: 0.9647887323943662\n",
      "\n",
      "\n",
      "['perimeter std', 'concavity worst', 'texture mean', 'concave points worst', 'fractal dimension mean', 'symmetry worst'] Model Accuracy: 0.9507042253521126\n",
      "['perimeter std', 'concavity worst', 'texture mean', 'concave points worst', 'fractal dimension mean', 'symmetry worst'] Model Loss: 0.143708519901344\n",
      "\n",
      "Base Model Loss: 0.1358053650266992\n",
      "Base Model Accuracy: 0.9647887323943662\n",
      "\n",
      "\n",
      "['perimeter std', 'concavity worst', 'texture mean', 'concave points worst', 'fractal dimension mean', 'radius worst'] Model Accuracy: 0.9507042253521126\n",
      "['perimeter std', 'concavity worst', 'texture mean', 'concave points worst', 'fractal dimension mean', 'radius worst'] Model Loss: 0.1400519430097521\n",
      "\n",
      "Base Model Loss: 0.1358053650266992\n",
      "Base Model Accuracy: 0.9647887323943662\n",
      "\n",
      "\n",
      "['perimeter std', 'concavity worst', 'texture mean', 'concave points worst', 'fractal dimension mean', 'area std'] Model Accuracy: 0.9366197183098591\n",
      "['perimeter std', 'concavity worst', 'texture mean', 'concave points worst', 'fractal dimension mean', 'area std'] Model Loss: 0.16760508600424082\n",
      "\n",
      "Base Model Loss: 0.1358053650266992\n",
      "Base Model Accuracy: 0.9647887323943662\n",
      "\n",
      "\n",
      "['perimeter std', 'concavity worst', 'texture mean', 'concave points worst', 'fractal dimension mean', 'smoothness mean'] Model Accuracy: 0.9507042253521126\n",
      "['perimeter std', 'concavity worst', 'texture mean', 'concave points worst', 'fractal dimension mean', 'smoothness mean'] Model Loss: 0.13479637930121732\n",
      "\n",
      "Base Model Loss: 0.1358053650266992\n",
      "Base Model Accuracy: 0.9647887323943662\n",
      "\n",
      "\n",
      "['perimeter std', 'concavity worst', 'texture mean', 'concave points worst', 'fractal dimension mean', 'texture worst'] Model Accuracy: 0.9577464788732394\n",
      "['perimeter std', 'concavity worst', 'texture mean', 'concave points worst', 'fractal dimension mean', 'texture worst'] Model Loss: 0.14021072187800174\n",
      "\n",
      "Base Model Loss: 0.1358053650266992\n",
      "Base Model Accuracy: 0.9647887323943662\n",
      "\n",
      "\n",
      "['perimeter std', 'concavity worst', 'texture mean', 'concave points worst', 'fractal dimension mean', 'symmetry std'] Model Accuracy: 0.9507042253521126\n",
      "['perimeter std', 'concavity worst', 'texture mean', 'concave points worst', 'fractal dimension mean', 'symmetry std'] Model Loss: 0.14144512681444366\n",
      "\n",
      "Base Model Loss: 0.1358053650266992\n",
      "Base Model Accuracy: 0.9647887323943662\n",
      "\n",
      "\n",
      "['perimeter std', 'concavity worst', 'texture mean', 'concave points worst', 'fractal dimension mean', 'symmetry mean'] Model Accuracy: 0.9507042253521126\n",
      "['perimeter std', 'concavity worst', 'texture mean', 'concave points worst', 'fractal dimension mean', 'symmetry mean'] Model Loss: 0.163836422743574\n",
      "\n",
      "Base Model Loss: 0.1358053650266992\n",
      "Base Model Accuracy: 0.9647887323943662\n",
      "\n",
      "\n",
      "['perimeter std', 'concavity worst', 'texture mean', 'concave points worst', 'fractal dimension mean', 'radius std'] Model Accuracy: 0.9577464788732394\n",
      "['perimeter std', 'concavity worst', 'texture mean', 'concave points worst', 'fractal dimension mean', 'radius std'] Model Loss: 0.13818601845819736\n",
      "\n",
      "Base Model Loss: 0.1358053650266992\n",
      "Base Model Accuracy: 0.9647887323943662\n",
      "\n",
      "\n",
      "['perimeter std', 'concavity worst', 'texture mean', 'concave points worst', 'fractal dimension mean', 'concave points mean'] Model Accuracy: 0.9295774647887324\n",
      "['perimeter std', 'concavity worst', 'texture mean', 'concave points worst', 'fractal dimension mean', 'concave points mean'] Model Loss: 0.174542369545965\n",
      "\n",
      "Base Model Loss: 0.1358053650266992\n",
      "Base Model Accuracy: 0.9647887323943662\n",
      "\n",
      "\n",
      "['perimeter std', 'concavity worst', 'texture mean', 'concave points worst', 'fractal dimension mean', 'texture std'] Model Accuracy: 0.9366197183098591\n",
      "['perimeter std', 'concavity worst', 'texture mean', 'concave points worst', 'fractal dimension mean', 'texture std'] Model Loss: 0.14805735381485002\n",
      "\n",
      "Base Model Loss: 0.1358053650266992\n",
      "Base Model Accuracy: 0.9647887323943662\n",
      "\n",
      "\n",
      "['perimeter std', 'concavity worst', 'texture mean', 'concave points worst', 'fractal dimension mean', 'compactness worst'] Model Accuracy: 0.9647887323943662\n",
      "['perimeter std', 'concavity worst', 'texture mean', 'concave points worst', 'fractal dimension mean', 'compactness worst'] Model Loss: 0.14966973189961638\n",
      "\n",
      "Base Model Loss: 0.1358053650266992\n",
      "Base Model Accuracy: 0.9647887323943662\n",
      "\n",
      "\n",
      "['perimeter std', 'concavity worst', 'texture mean', 'concave points worst', 'fractal dimension mean', 'perimeter worst'] Model Accuracy: 0.9225352112676056\n",
      "['perimeter std', 'concavity worst', 'texture mean', 'concave points worst', 'fractal dimension mean', 'perimeter worst'] Model Loss: 0.16414095231189588\n",
      "\n",
      "Base Model Loss: 0.1358053650266992\n",
      "Base Model Accuracy: 0.9647887323943662\n",
      "\n",
      "\n",
      "['perimeter std', 'concavity worst', 'texture mean', 'concave points worst', 'fractal dimension mean', 'fractal dimension std'] Model Accuracy: 0.9295774647887324\n",
      "['perimeter std', 'concavity worst', 'texture mean', 'concave points worst', 'fractal dimension mean', 'fractal dimension std'] Model Loss: 0.15765224991994828\n",
      "\n",
      "Base Model Loss: 0.1358053650266992\n",
      "Base Model Accuracy: 0.9647887323943662\n",
      "\n",
      "\n",
      "['perimeter std', 'concavity worst', 'texture mean', 'concave points worst', 'fractal dimension mean', 'fractal dimension worst'] Model Accuracy: 0.9507042253521126\n",
      "['perimeter std', 'concavity worst', 'texture mean', 'concave points worst', 'fractal dimension mean', 'fractal dimension worst'] Model Loss: 0.14046610577358642\n",
      "\n",
      "Base Model Loss: 0.1358053650266992\n",
      "Base Model Accuracy: 0.9647887323943662\n",
      "\n",
      "\n",
      "['perimeter std', 'concavity worst', 'texture mean', 'concave points worst', 'fractal dimension mean', 'compactness mean'] Model Accuracy: 0.9436619718309859\n",
      "['perimeter std', 'concavity worst', 'texture mean', 'concave points worst', 'fractal dimension mean', 'compactness mean'] Model Loss: 0.17111758305208144\n",
      "\n",
      "Base Model Loss: 0.1358053650266992\n",
      "Base Model Accuracy: 0.9647887323943662\n",
      "\n",
      "\n",
      "['perimeter std', 'concavity worst', 'texture mean', 'concave points worst', 'fractal dimension mean', 'area mean'] Model Accuracy: 0.9366197183098591\n",
      "['perimeter std', 'concavity worst', 'texture mean', 'concave points worst', 'fractal dimension mean', 'area mean'] Model Loss: 0.141741273524133\n",
      "\n",
      "Base Model Loss: 0.1358053650266992\n",
      "Base Model Accuracy: 0.9647887323943662\n",
      "\n",
      "\n",
      "['perimeter std', 'concavity worst', 'texture mean', 'concave points worst', 'fractal dimension mean', 'smoothness worst'] Model Accuracy: 0.9577464788732394\n",
      "['perimeter std', 'concavity worst', 'texture mean', 'concave points worst', 'fractal dimension mean', 'smoothness worst'] Model Loss: 0.13905367242141975\n",
      "\n",
      "Base Model Loss: 0.1358053650266992\n",
      "Base Model Accuracy: 0.9647887323943662\n",
      "\n",
      "\n",
      "['perimeter std', 'concavity worst', 'texture mean', 'concave points worst', 'fractal dimension mean', 'compactness std'] Model Accuracy: 0.9507042253521126\n",
      "['perimeter std', 'concavity worst', 'texture mean', 'concave points worst', 'fractal dimension mean', 'compactness std'] Model Loss: 0.20681819138699029\n",
      "\n",
      "Base Model Loss: 0.1358053650266992\n",
      "Base Model Accuracy: 0.9647887323943662\n",
      "\n",
      "\n",
      "['perimeter std', 'concavity worst', 'texture mean', 'concave points worst', 'fractal dimension mean', 'concavity mean'] Model Accuracy: 0.9647887323943662\n",
      "['perimeter std', 'concavity worst', 'texture mean', 'concave points worst', 'fractal dimension mean', 'concavity mean'] Model Loss: 0.12084789494212127\n",
      "\n",
      "Base Model Loss: 0.1358053650266992\n",
      "Base Model Accuracy: 0.9647887323943662\n",
      "\n",
      "\n",
      "['perimeter std', 'concavity worst', 'texture mean', 'concave points worst', 'fractal dimension mean', 'concavity std'] Model Accuracy: 0.9295774647887324\n",
      "['perimeter std', 'concavity worst', 'texture mean', 'concave points worst', 'fractal dimension mean', 'concavity std'] Model Loss: 0.17527401700622436\n",
      "\n",
      "Base Model Loss: 0.1358053650266992\n",
      "Base Model Accuracy: 0.9647887323943662\n",
      "\n",
      "\n",
      "['perimeter std', 'concavity worst', 'texture mean', 'concave points worst', 'fractal dimension mean', 'area worst'] Model Accuracy: 0.9507042253521126\n",
      "['perimeter std', 'concavity worst', 'texture mean', 'concave points worst', 'fractal dimension mean', 'area worst'] Model Loss: 0.10472425631199195\n",
      "\n",
      "Base Model Loss: 0.1358053650266992\n",
      "Base Model Accuracy: 0.9647887323943662\n",
      "\n",
      "Our chosen columns are: ['perimeter std', 'concavity worst', 'texture mean', 'concave points worst', 'fractal dimension mean']\n"
     ]
    }
   ],
   "source": [
    "base_model_columns = []\n",
    "base_loss = null_loss\n",
    "base_accuracy = baseline_accuracy\n",
    "\n",
    "print(\"Base Model Accuracy:\", base_accuracy)\n",
    "print(\"Base Model Loss:\", base_loss)\n",
    "print()\n",
    "\n",
    "for col_name in sorted_columns:\n",
    "    # track all column names\n",
    "    trial_columns = base_model_columns[:]\n",
    "    trial_columns.append(col_name)\n",
    "\n",
    "    X_train, X_test = create_feature_matrices(data_train,\n",
    "                                             data_test,\n",
    "                                             trial_columns,\n",
    "                                             dummy_columns)\n",
    "    \n",
    "    trial_lr = SGDClassifier(max_iter=50000, loss=\"log\", penalty=\"l2\")\n",
    "    trial_lr.fit(X_train, y_train)\n",
    "    pred_labels = trial_lr.predict(X_test)\n",
    "    pred_prob = trial_lr.predict_proba(X_test)\n",
    "    trial_accuracy = accuracy_score(y_test, pred_labels)\n",
    "    trial_loss = log_loss(y_test, pred_prob)\n",
    "    print()\n",
    "    print(str(trial_columns) + \" Model Accuracy:\", trial_accuracy)\n",
    "    print(str(trial_columns) + \" Model Loss:\", trial_loss)\n",
    "\n",
    "    if trial_accuracy > base_accuracy:\n",
    "        print(\"Updating base model\")\n",
    "        base_loss = trial_loss\n",
    "        base_model_columns = trial_columns\n",
    "        base_accuracy = trial_accuracy\n",
    "    print()\n",
    "    print(\"Base Model Loss:\", base_loss)\n",
    "    print(\"Base Model Accuracy:\", base_accuracy)\n",
    "    print()\n",
    "    \n",
    "print(\"Our chosen columns are: \" + str(base_model_columns))\n"
   ]
  },
  {
   "cell_type": "code",
   "execution_count": 50,
   "metadata": {},
   "outputs": [
    {
     "name": "stdout",
     "output_type": "stream",
     "text": [
      "\n",
      "Model MSE: 0.06338028169014084\n",
      "Model RMSE: 0.25175440748900674\n",
      "\n",
      "Model Accuracy: 0.9366197183098591\n",
      "Labels: ['B' 'M']\n",
      "Recall: 0.9245283018867925\n",
      "Percision: 0.9074074074074074\n",
      "\n",
      "Confusion matrix:\n",
      "[[84  5]\n",
      " [ 4 49]]\n"
     ]
    },
    {
     "data": {
      "image/png": "[encoded data removed]",
      "text/plain": [
       "<Figure size 432x288 with 1 Axes>"
      ]
     },
     "metadata": {
      "needs_background": "light"
     },
     "output_type": "display_data"
    }
   ],
   "source": [
    "X_train, X_test = create_feature_matrices(data_train,\n",
    "                                          data_test,\n",
    "                                          base_model_columns,\n",
    "                                          dummy_columns)\n",
    "    \n",
    "lr = SGDClassifier(max_iter=10000, loss=\"log\")\n",
    "lr.fit(X_train, y_train)\n",
    "pred_labels = lr.predict(X_test)\n",
    "pred_prob = lr.predict_proba(X_test)\n",
    "\n",
    "trial_accuracy = accuracy_score(y_test, pred_labels)\n",
    "cm = confusion_matrix(y_test, pred_labels)\n",
    "recall_greedy = recall_score(y_test, pred_labels)\n",
    "percision_greedy = precision_score(y_test, pred_labels)\n",
    "\n",
    "#ROC Curve for the best features \n",
    "pred_prob_1 = 1.0 - pred_prob[:, 0]\n",
    "y_test_1 = [0 if y == 0 else 1 for y in y_test]\n",
    "\n",
    "fpr, tpr, _ = roc_curve(y_test_1, pred_prob_1)\n",
    "\n",
    "plt.plot(fpr, tpr)\n",
    "plt.plot([0.0, 1.0], [0.0, 1.0])\n",
    "plt.xlabel(\"False Positive Rate\", fontsize=16)\n",
    "plt.ylabel(\"True Positive Rate\", fontsize=16)\n",
    "\n",
    "mse = mean_squared_error(y_test, pred_labels)\n",
    "rmse = np.sqrt(mse)\n",
    "print()\n",
    "print(\"Model MSE:\", mse)\n",
    "print(\"Model RMSE:\", rmse)\n",
    "print()\n",
    "print(\"Model Accuracy:\", trial_accuracy)\n",
    "print(\"Labels:\", encoder.classes_)\n",
    "print(\"Recall:\", recall_greedy)\n",
    "print(\"Percision:\", percision_greedy)\n",
    "print()\n",
    "print(\"Confusion matrix:\")\n",
    "print(cm)"
   ]
  },
  {
   "cell_type": "markdown",
   "metadata": {},
   "source": [
    "### All Variable Model"
   ]
  },
  {
   "cell_type": "code",
   "execution_count": 51,
   "metadata": {},
   "outputs": [
    {
     "name": "stdout",
     "output_type": "stream",
     "text": [
      "[[ 0.11462913 -1.26430589 -1.1876158  -1.04064118 -0.15246585]\n",
      " [-0.50584326 -0.27822047 -0.33807629 -0.33375429 -0.12187993]\n",
      " [ 0.38761615  0.05474344  0.01163021 -0.11187137 -0.02553429]\n",
      " ...\n",
      " [-0.81920526 -1.21521506 -1.09665679 -0.97549956 -0.61553664]\n",
      " [-0.22061351 -1.05086749 -0.96536967 -0.87605368 -0.22984822]\n",
      " [-0.57773678 -0.79687579 -0.76814463 -0.71511557 -0.41366958]]\n",
      "\n",
      "Model Accuracy: 0.9577464788732394\n",
      "Labels: ['B' 'M']\n",
      "Recall: 0.9622641509433962\n",
      "Percision: 0.9272727272727272\n",
      "Confusion matrix:\n",
      "[[85  4]\n",
      " [ 2 51]]\n"
     ]
    }
   ],
   "source": [
    "X_train_all, X_test_all = create_feature_matrices(data_train, data_test, numerical_columns, dummy_columns)\n",
    "print(X_train)\n",
    "\n",
    "all_variables_model = SGDClassifier(max_iter=5000, loss=\"log\")\n",
    "all_variables_model.fit(X_train_all, y_train)\n",
    "pred_mpg_values = all_variables_model.predict(X_test_all)\n",
    "pred_mpg_values_prob = all_variables_model.predict_proba(X_test_all)\n",
    "\n",
    "trial_accuracy = accuracy_score(y_test, pred_mpg_values)\n",
    "cm = confusion_matrix(y_test, pred_mpg_values)\n",
    "recall_all_variable = recall_score(y_test, pred_mpg_values)\n",
    "percision_all_variable = precision_score(y_test, pred_mpg_values)\n",
    "print()\n",
    "print(\"Model Accuracy:\", trial_accuracy)\n",
    "print(\"Labels:\", encoder.classes_)\n",
    "print(\"Recall:\", recall_all_variable)\n",
    "print(\"Percision:\", percision_all_variable)\n",
    "print(\"Confusion matrix:\")\n",
    "print(cm)"
   ]
  },
  {
   "cell_type": "markdown",
   "metadata": {},
   "source": [
    "## Evaluation of the Models"
   ]
  },
  {
   "cell_type": "code",
   "execution_count": 52,
   "metadata": {},
   "outputs": [
    {
     "data": {
      "text/plain": [
       "Text(0, 0.5, 'True Positive Rate')"
      ]
     },
     "execution_count": 52,
     "metadata": {},
     "output_type": "execute_result"
    },
    {
     "data": {
      "image/png": "[encoded data removed]",
      "text/plain": [
       "<Figure size 432x288 with 1 Axes>"
      ]
     },
     "metadata": {
      "needs_background": "light"
     },
     "output_type": "display_data"
    }
   ],
   "source": [
    "#baseline ROC\n",
    "# turn multiclass problem into binary problem\n",
    "pred_null_labels_1 = 1.0 - pred_prob[:, 0]\n",
    "y_test_1 = [0 if y == 0 else 1 for y in y_test]\n",
    "\n",
    "fpr, tpr, _ = roc_curve(y_test_1, pred_null_labels_1)\n",
    "\n",
    "plt.plot(fpr, tpr)\n",
    "plt.plot([0.0, 1.0], [0.0, 1.0])\n",
    "plt.xlabel(\"False Positive Rate\", fontsize=16)\n",
    "plt.ylabel(\"True Positive Rate\", fontsize=16)"
   ]
  },
  {
   "cell_type": "code",
   "execution_count": 53,
   "metadata": {},
   "outputs": [
    {
     "data": {
      "text/plain": [
       "Text(0, 0.5, 'True Positive Rate')"
      ]
     },
     "execution_count": 53,
     "metadata": {},
     "output_type": "execute_result"
    },
    {
     "data": {
      "image/png": "[encoded data removed]",
      "text/plain": [
       "<Figure size 432x288 with 1 Axes>"
      ]
     },
     "metadata": {
      "needs_background": "light"
     },
     "output_type": "display_data"
    }
   ],
   "source": [
    "#All Variable Model ROC \n",
    "pred_mpg_values_1 = 1.0 - pred_mpg_values_prob[:, 0]\n",
    "y_test_1 = [0 if y == 0 else 1 for y in y_test]\n",
    "\n",
    "fpr, tpr, _ = roc_curve(y_test_1, pred_mpg_values_1)\n",
    "\n",
    "plt.plot(fpr, tpr)\n",
    "plt.plot([0.0, 1.0], [0.0, 1.0])\n",
    "plt.xlabel(\"False Positive Rate\", fontsize=16)\n",
    "plt.ylabel(\"True Positive Rate\", fontsize=16)"
   ]
  },
  {
   "cell_type": "code",
   "execution_count": 54,
   "metadata": {},
   "outputs": [
    {
     "name": "stdout",
     "output_type": "stream",
     "text": [
      "\n",
      "Model MSE: 0.6267605633802817\n",
      "Model RMSE: 0.7916821100544598\n"
     ]
    }
   ],
   "source": [
    "#baseline RMSE and MSE Calculation\n",
    "mse = mean_squared_error(y_test, pred_null_labels)\n",
    "rmse = np.sqrt(mse)\n",
    "print()\n",
    "print(\"Model MSE:\", mse)\n",
    "print(\"Model RMSE:\", rmse)"
   ]
  },
  {
   "cell_type": "code",
   "execution_count": 55,
   "metadata": {},
   "outputs": [
    {
     "name": "stdout",
     "output_type": "stream",
     "text": [
      "\n",
      "Model MSE: 0.04225352112676056\n",
      "Model RMSE: 0.2055566129482595\n"
     ]
    }
   ],
   "source": [
    "#All Variable RMSE and MSE Calculation\n",
    "mse = mean_squared_error(y_test, pred_mpg_values)\n",
    "rmse = np.sqrt(mse)\n",
    "print()\n",
    "print(\"Model MSE:\", mse)\n",
    "print(\"Model RMSE:\", rmse)"
   ]
  },
  {
   "cell_type": "markdown",
   "metadata": {},
   "source": [
    "a) The model that had the loweset RMSE is the is the all variable model. The model that had the highest RMSE is the baseline model\n",
    "\n",
    "\n",
    "b) Well the baseline is prone to having issues with having False Negatives because of the way we are creating matrices of zeros and using those as apart of fitting and testing so I'm not surprised on the confusion matrix that it produced. Meanwhile, I expected the greedy and the all variable model to better, the greedy confusion matrix it got 3 False Negatives and 2 False Positives, meanwhile the all variables model got 1 False Negative and 3 False Positive which results in very similar model accuracies. These models are prone to making false positives and false negatives mistakes especially the baseline model. \n",
    "\n",
    "c) Assuming that we were creating a model to be used for diagnosing patients in a clinical setting, we would want false positives because depending on the disease we can give them the drugs for the disease while getting tested frequently to make sure that they do have the disease meanwhile if we use false negative then that would mean that they don't have the disease so we aren't treating the patient and they might be in greater risk because of it. "
   ]
  },
  {
   "cell_type": "markdown",
   "metadata": {},
   "source": [
    "## Conclusion\n",
    "\n",
    "- Within this lab, we use classifaction and we get practice with creating the baseline, greedy, and all variable models. With these models, we evaluate them by percision, accuracy, and recall and we also create ROC curves to see how many true positives to false positives occur for each model. We then calculate MSE and RMSE which shows the absolute fit of the model to the data, so how close the observed data points are to the model's predicted values"
   ]
  }
 ],
 "metadata": {
  "kernelspec": {
   "display_name": "Python 3",
   "language": "python",
   "name": "python3"
  },
  "language_info": {
   "codemirror_mode": {
    "name": "ipython",
    "version": 3
   },
   "file_extension": ".py",
   "mimetype": "text/x-python",
   "name": "python",
   "nbconvert_exporter": "python",
   "pygments_lexer": "ipython3",
   "version": "3.7.3"
  }
 },
 "nbformat": 4,
 "nbformat_minor": 5
}
