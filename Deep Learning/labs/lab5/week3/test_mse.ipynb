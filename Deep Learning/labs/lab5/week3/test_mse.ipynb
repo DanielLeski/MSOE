{
 "cells": [
  {
   "cell_type": "code",
   "execution_count": 1,
   "metadata": {},
   "outputs": [],
   "source": [
    "from unittest import TestCase\n",
    "import layers\n",
    "import numpy as np\n",
    "import torch\n",
    "import unittest\n",
    "from layers import *\n",
    "from network import * "
   ]
  },
  {
   "cell_type": "code",
   "execution_count": 2,
   "metadata": {},
   "outputs": [],
   "source": [
    "x1 = torch.tensor([23,420,21], dtype=torch.float64)\n",
    "x2 = torch.tensor([22,419,15], dtype=torch.float64)"
   ]
  },
  {
   "cell_type": "code",
   "execution_count": 3,
   "metadata": {},
   "outputs": [],
   "source": [
    "class TestMSE(TestCase):\n",
    "    def setUp(self):\n",
    "        self.x = Input(x1.shape, train=True)\n",
    "        self.x.set((x1))\n",
    "        self.xx = Input((x2.shape))\n",
    "        self.xx.set((x2))\n",
    "        self.m = MSELoss(self.x, self.xx)\n",
    "        \n",
    "    def test_forward(self):\n",
    "        self.m.forward()\n",
    "        print(\"Forward: \", self.m.output)\n",
    "        np.testing.assert_allclose(self.m.output, torch.tensor(12.666667, dtype=torch.float64))\n",
    "    \n",
    "    def test_backward(self):\n",
    "        self.m.forward()\n",
    "        self.m.accumulate_grad(torch.tensor(1))\n",
    "        self.m.backward()\n",
    "        print(\"Gradient: \", self.x.grad)\n",
    "        np.testing.assert_allclose(self.x.grad, torch.tensor([ 8.444444,  8.444444, 50.666667], dtype=torch.float64))\n",
    "    \n",
    "    def test_step(self):\n",
    "        self.m.forward()\n",
    "        self.m.accumulate_grad(torch.tensor(1))\n",
    "        self.m.backward()\n",
    "        self.x.step(0.1)\n",
    "        print(\"Self.x.output: \", self.x.output)\n",
    "        np.testing.assert_allclose(self.x.output, torch.tensor([ 22.155556, 419.155556,  15.933333], dtype=torch.float64))"
   ]
  },
  {
   "cell_type": "code",
   "execution_count": 4,
   "metadata": {},
   "outputs": [
    {
     "name": "stderr",
     "output_type": "stream",
     "text": [
      "..."
     ]
    },
    {
     "name": "stdout",
     "output_type": "stream",
     "text": [
      "Gradient:  tensor([ 8.4444,  8.4444, 50.6667], dtype=torch.float64)\n",
      "Forward:  tensor(12.6667, dtype=torch.float64)\n",
      "tensor([ 8.4444,  8.4444, 50.6667], dtype=torch.float64)\n",
      "Self.x.output:  tensor([ 22.1556, 419.1556,  15.9333], dtype=torch.float64)\n"
     ]
    },
    {
     "name": "stderr",
     "output_type": "stream",
     "text": [
      "\n",
      "----------------------------------------------------------------------\n",
      "Ran 3 tests in 0.010s\n",
      "\n",
      "OK\n"
     ]
    }
   ],
   "source": [
    "if __name__ == '__main__':\n",
    "    unittest.main(argv=[''], exit=False)"
   ]
  }
 ],
 "metadata": {
  "kernelspec": {
   "display_name": "Python 3",
   "language": "python",
   "name": "python3"
  },
  "language_info": {
   "codemirror_mode": {
    "name": "ipython",
    "version": 3
   },
   "file_extension": ".py",
   "mimetype": "text/x-python",
   "name": "python",
   "nbconvert_exporter": "python",
   "pygments_lexer": "ipython3",
   "version": "3.6.10"
  }
 },
 "nbformat": 4,
 "nbformat_minor": 4
}
