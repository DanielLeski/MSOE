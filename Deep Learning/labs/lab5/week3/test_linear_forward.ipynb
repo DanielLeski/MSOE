{
 "cells": [
  {
   "cell_type": "code",
   "execution_count": 1,
   "metadata": {},
   "outputs": [],
   "source": [
    "from unittest import TestCase\n",
    "import layers\n",
    "import numpy as np\n",
    "import torch\n",
    "import unittest\n",
    "from layers import *\n",
    "from network import * "
   ]
  },
  {
   "cell_type": "code",
   "execution_count": 2,
   "metadata": {},
   "outputs": [],
   "source": [
    "x = torch.tensor([98.6, 95, 0, 1], dtype=torch.float64)\n",
    "w1 = torch.tensor([0.03, 0.55, 0.88, 0.73], dtype=torch.float64)\n",
    "b = torch.tensor([2.9], dtype=torch.float64)"
   ]
  },
  {
   "cell_type": "code",
   "execution_count": 3,
   "metadata": {},
   "outputs": [],
   "source": [
    "class TestLinearForward(TestCase):\n",
    "    def setUp(self):\n",
    "        self.x = Input(x.shape)\n",
    "        self.x.set(x)\n",
    "        self.b = Input((b.shape))\n",
    "        self.b.set(b)\n",
    "        self.w = Input((w1.shape), train=True)\n",
    "        self.w.set((w1))\n",
    "        self.l = Linear(self.x, self.w, self.b)\n",
    "        \n",
    "    def test_forward(self):\n",
    "        self.l.forward()\n",
    "        #print(self.l.output)\n",
    "        np.testing.assert_allclose(self.l.output, torch.tensor([58.838], dtype=torch.float64))\n",
    "    \n",
    "    def test_backward(self):\n",
    "        self.l.forward()\n",
    "        self.l.accumulate_grad(torch.tensor([4,3,2,1], dtype=torch.float64))\n",
    "        self.l.backward()\n",
    "        #print(self.w.grad)\n",
    "        np.testing.assert_allclose(self.w.grad, torch.tensor(680.4000, dtype=torch.float64))\n",
    "    \n",
    "    def test_step(self):\n",
    "        self.l.forward()\n",
    "        self.l.accumulate_grad(torch.tensor([4,3,2,1], dtype=torch.float64))\n",
    "        self.l.backward()\n",
    "        #print(self.w.grad)\n",
    "        #print(self.w.output)\n",
    "        self.w.step(0.1)\n",
    "        np.testing.assert_allclose(self.w.output, torch.tensor([-68.0100, -67.4900, -67.1600, -67.3100], dtype=torch.float64))"
   ]
  },
  {
   "cell_type": "code",
   "execution_count": 4,
   "metadata": {},
   "outputs": [
    {
     "name": "stderr",
     "output_type": "stream",
     "text": [
      "..."
     ]
    },
    {
     "name": "stdout",
     "output_type": "stream",
     "text": [
      "tensor([4., 3., 2., 1.], dtype=torch.float64)\n",
      "tensor(680.4000, dtype=torch.float64)\n",
      "tensor([4., 3., 2., 1.], dtype=torch.float64)\n",
      "tensor(680.4000, dtype=torch.float64)\n",
      "torch.Size([])\n",
      "torch.Size([4])\n"
     ]
    },
    {
     "name": "stderr",
     "output_type": "stream",
     "text": [
      "\n",
      "----------------------------------------------------------------------\n",
      "Ran 3 tests in 0.010s\n",
      "\n",
      "OK\n"
     ]
    }
   ],
   "source": [
    "if __name__ == '__main__':\n",
    "    unittest.main(argv=[''], exit=False)"
   ]
  }
 ],
 "metadata": {
  "kernelspec": {
   "display_name": "Python 3",
   "language": "python",
   "name": "python3"
  },
  "language_info": {
   "codemirror_mode": {
    "name": "ipython",
    "version": 3
   },
   "file_extension": ".py",
   "mimetype": "text/x-python",
   "name": "python",
   "nbconvert_exporter": "python",
   "pygments_lexer": "ipython3",
   "version": "3.6.10"
  }
 },
 "nbformat": 4,
 "nbformat_minor": 4
}
