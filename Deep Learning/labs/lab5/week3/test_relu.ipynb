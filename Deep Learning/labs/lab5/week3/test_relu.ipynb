{
 "cells": [
  {
   "cell_type": "code",
   "execution_count": 1,
   "metadata": {},
   "outputs": [],
   "source": [
    "from unittest import TestCase\n",
    "import layers\n",
    "import numpy as np\n",
    "import torch\n",
    "import unittest\n",
    "from layers import *\n",
    "from network import * "
   ]
  },
  {
   "cell_type": "code",
   "execution_count": 2,
   "metadata": {},
   "outputs": [],
   "source": [
    "x = torch.tensor([98.6, 95, 0, 1])\n",
    "w1 = torch.tensor([0.03, 0.55, 0.88, 0.73])\n",
    "b = torch.tensor([2.9, 6.1, 3.3])"
   ]
  },
  {
   "cell_type": "code",
   "execution_count": 3,
   "metadata": {},
   "outputs": [],
   "source": [
    "class TestRelu(TestCase):\n",
    "    def setUp(self):\n",
    "        self.x = Input(x.shape, train=True)\n",
    "        self.x.set(x)\n",
    "        self.r = ReLU(self.x)\n",
    "    \n",
    "    def test_relu(self):\n",
    "        self.r.forward()\n",
    "        np.testing.assert_allclose(self.r.output, torch.tensor([98.6, 95, 0, 1]))\n",
    "    \n",
    "    def test_backward(self):\n",
    "        self.r.forward()\n",
    "        self.r.accumulate_grad(torch.ones(1,4))\n",
    "        self.r.backward()\n",
    "        print(self.x.grad)\n",
    "        np.testing.assert_allclose(self.x.grad, torch.tensor([1., 1., 0., 1.],dtype=torch.float64).reshape(1,4))\n",
    "    \n",
    "    def test_step(self):\n",
    "        self.r.forward()\n",
    "        self.r.accumulate_grad(torch.ones(4))\n",
    "        self.r.backward()\n",
    "        self.x.step(0.1)\n",
    "        np.testing.assert_allclose(self.x.output, torch.tensor([98.5000, 94.9000,  0.0000,  0.9000], dtype=torch.float64))"
   ]
  },
  {
   "cell_type": "code",
   "execution_count": 4,
   "metadata": {
    "scrolled": true
   },
   "outputs": [
    {
     "name": "stderr",
     "output_type": "stream",
     "text": [
      "..."
     ]
    },
    {
     "name": "stdout",
     "output_type": "stream",
     "text": [
      "tensor([[1., 1., 0., 1.]])\n",
      "torch.Size([4])\n",
      "torch.Size([4])\n"
     ]
    },
    {
     "name": "stderr",
     "output_type": "stream",
     "text": [
      "\n",
      "----------------------------------------------------------------------\n",
      "Ran 3 tests in 0.007s\n",
      "\n",
      "OK\n"
     ]
    }
   ],
   "source": [
    "if __name__ == '__main__':\n",
    "    unittest.main(argv=[''], exit=False)"
   ]
  }
 ],
 "metadata": {
  "kernelspec": {
   "display_name": "Python 3",
   "language": "python",
   "name": "python3"
  },
  "language_info": {
   "codemirror_mode": {
    "name": "ipython",
    "version": 3
   },
   "file_extension": ".py",
   "mimetype": "text/x-python",
   "name": "python",
   "nbconvert_exporter": "python",
   "pygments_lexer": "ipython3",
   "version": "3.6.10"
  }
 },
 "nbformat": 4,
 "nbformat_minor": 4
}
