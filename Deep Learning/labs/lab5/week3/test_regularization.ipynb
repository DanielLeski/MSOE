{
 "cells": [
  {
   "cell_type": "code",
   "execution_count": 1,
   "metadata": {},
   "outputs": [],
   "source": [
    "from unittest import TestCase\n",
    "import layers\n",
    "import numpy as np\n",
    "import torch\n",
    "import unittest\n",
    "from layers import *\n",
    "from network import * "
   ]
  },
  {
   "cell_type": "code",
   "execution_count": 2,
   "metadata": {},
   "outputs": [],
   "source": [
    "x = torch.tensor([98.6, 95, 0, 1], dtype=torch.float64)\n",
    "w1 = torch.tensor([1, 2, 3, 4], dtype=torch.float64)\n",
    "b = torch.tensor([5,3,7,8], dtype=torch.float64)"
   ]
  },
  {
   "cell_type": "code",
   "execution_count": 5,
   "metadata": {},
   "outputs": [],
   "source": [
    "class TestRegularization(TestCase):\n",
    "    def setUp(self):\n",
    "        self.input = Input(x.shape)\n",
    "        self.input.set(x)\n",
    "        self.w = Input(w1.shape, train=True)\n",
    "        self.w.set(w1)\n",
    "        self.bi = Input(b.shape)\n",
    "        self.bi.set(b)\n",
    "        self.l = Linear(self.input, self.w, self.bi)\n",
    "        self.l.forward()\n",
    "        self.r = Regularization(self.l, 0.01)\n",
    "    \n",
    "    def test_forward(self):\n",
    "        self.r.forward()\n",
    "        #print(\"Foward: \", self.r.output)\n",
    "        assert torch.allclose(self.r.output, torch.tensor(0.1500, dtype=torch.float64))\n",
    "    \n",
    "    def test_backward(self):\n",
    "        self.r.forward()\n",
    "        self.r.accumulate_grad(torch.tensor(5))\n",
    "        self.r.backward()\n",
    "        #print(\"Backward: \",self.w.grad)\n",
    "        assert torch.allclose(self.w.grad, torch.tensor([0.0100, 0.0200, 0.0300, 0.0400], dtype=torch.float64))\n",
    "        \n",
    "    def test_step(self):\n",
    "        self.r.forward()\n",
    "        self.r.accumulate_grad(torch.tensor(5))\n",
    "        self.r.backward()\n",
    "        self.w.step(0.01)\n",
    "        #print(self.w.output)\n",
    "        assert torch.allclose(self.w.output, torch.tensor([0.9999, 1.9998, 2.9997, 3.9996], dtype=torch.float64))"
   ]
  },
  {
   "cell_type": "code",
   "execution_count": 4,
   "metadata": {},
   "outputs": [
    {
     "name": "stderr",
     "output_type": "stream",
     "text": [
      "..."
     ]
    },
    {
     "name": "stdout",
     "output_type": "stream",
     "text": [
      "Foward:  tensor(0.1500, dtype=torch.float64)\n"
     ]
    },
    {
     "name": "stderr",
     "output_type": "stream",
     "text": [
      "\n",
      "----------------------------------------------------------------------\n",
      "Ran 3 tests in 0.008s\n",
      "\n",
      "OK\n"
     ]
    }
   ],
   "source": [
    "if __name__ == '__main__':\n",
    "    unittest.main(argv=[''], exit=False)"
   ]
  },
  {
   "cell_type": "code",
   "execution_count": null,
   "metadata": {},
   "outputs": [],
   "source": []
  }
 ],
 "metadata": {
  "kernelspec": {
   "display_name": "Python 3",
   "language": "python",
   "name": "python3"
  },
  "language_info": {
   "codemirror_mode": {
    "name": "ipython",
    "version": 3
   },
   "file_extension": ".py",
   "mimetype": "text/x-python",
   "name": "python",
   "nbconvert_exporter": "python",
   "pygments_lexer": "ipython3",
   "version": "3.6.10"
  }
 },
 "nbformat": 4,
 "nbformat_minor": 4
}
