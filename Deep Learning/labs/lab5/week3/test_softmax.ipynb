{
 "cells": [
  {
   "cell_type": "code",
   "execution_count": 1,
   "metadata": {},
   "outputs": [],
   "source": [
    "from unittest import TestCase\n",
    "import layers\n",
    "import numpy as np\n",
    "import torch\n",
    "import unittest\n",
    "from layers import *\n",
    "from network import * "
   ]
  },
  {
   "cell_type": "code",
   "execution_count": 2,
   "metadata": {},
   "outputs": [],
   "source": [
    "x = torch.tensor([5,4,3], dtype=torch.float64).reshape(-1,1)\n",
    "y_true = torch.tensor([3,2,1], dtype=torch.float64).reshape(-1,1)"
   ]
  },
  {
   "cell_type": "code",
   "execution_count": 3,
   "metadata": {},
   "outputs": [],
   "source": [
    "class Test_Softmax(TestCase):\n",
    "    def setUp(self):\n",
    "        self.xx = Input(x.shape, train=True)\n",
    "        self.xx.set(x)\n",
    "        self.y_t = Input(y_true.shape)\n",
    "        self.y_t.set(y_true)\n",
    "        self.s = Softmax(self.xx, self.y_t, 0)\n",
    "        #self.softmax = Softmax(self.x.output, self.y_t)\n",
    "    \n",
    "    def test_softmax(self):\n",
    "        self.s.forward()\n",
    "        #print(self.s.output)\n",
    "        #verifed by hand, all test verified by hand\n",
    "        np.testing.assert_allclose(self.s.output, torch.tensor([2.148545], dtype=torch.float64))\n",
    "        \n",
    "    def test_backward(self):\n",
    "        self.s.forward()\n",
    "        self.s.accumulate_grad(torch.tensor(5))\n",
    "        self.s.backward()\n",
    "        print(self.xx.grad)\n",
    "        assert torch.allclose(self.xx.grad, torch.tensor([2,2,2], dtype=torch.float64))\n",
    "        \n",
    "    def test_step(self):\n",
    "        self.s.forward()\n",
    "        self.s.accumulate_grad(torch.tensor(5))\n",
    "        self.s.backward()\n",
    "        self.xx.step(step_size=0.1)\n",
    "        print((self.xx.output))\n",
    "        np.testing.assert_allclose(self.xx.output, torch.tensor([[4.8,3.8,2.8]], dtype=torch.float64).reshape(3,1))"
   ]
  },
  {
   "cell_type": "code",
   "execution_count": 4,
   "metadata": {
    "scrolled": true
   },
   "outputs": [
    {
     "name": "stderr",
     "output_type": "stream",
     "text": [
      "..."
     ]
    },
    {
     "name": "stdout",
     "output_type": "stream",
     "text": [
      "tensor([[2.],\n",
      "        [2.],\n",
      "        [2.]], dtype=torch.float64)\n",
      "tensor([[4.8000],\n",
      "        [3.8000],\n",
      "        [2.8000]], dtype=torch.float64)\n"
     ]
    },
    {
     "name": "stderr",
     "output_type": "stream",
     "text": [
      "\n",
      "----------------------------------------------------------------------\n",
      "Ran 3 tests in 0.009s\n",
      "\n",
      "OK\n"
     ]
    }
   ],
   "source": [
    "if __name__ == '__main__':\n",
    "    unittest.main(argv=[''], exit=False)"
   ]
  }
 ],
 "metadata": {
  "kernelspec": {
   "display_name": "Python 3",
   "language": "python",
   "name": "python3"
  },
  "language_info": {
   "codemirror_mode": {
    "name": "ipython",
    "version": 3
   },
   "file_extension": ".py",
   "mimetype": "text/x-python",
   "name": "python",
   "nbconvert_exporter": "python",
   "pygments_lexer": "ipython3",
   "version": "3.6.10"
  }
 },
 "nbformat": 4,
 "nbformat_minor": 4
}
