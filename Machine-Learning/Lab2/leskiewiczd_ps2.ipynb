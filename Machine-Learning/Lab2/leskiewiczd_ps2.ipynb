{
 "cells": [
  {
   "cell_type": "markdown",
   "metadata": {},
   "source": [
    "## Machine Learning Problem Set 2"
   ]
  },
  {
   "cell_type": "code",
   "execution_count": 3,
   "metadata": {},
   "outputs": [],
   "source": [
    "import numpy as np\n",
    "import matplotlib.pyplot as plt\n",
    "import random\n",
    "import seaborn as sns\n",
    "from sklearn.metrics import confusion_matrix\n",
    "from mpl_toolkits.mplot3d import Axes3D"
   ]
  },
  {
   "cell_type": "markdown",
   "metadata": {},
   "source": [
    "## Question # 1"
   ]
  },
  {
   "cell_type": "markdown",
   "metadata": {},
   "source": [
    "### Part a)"
   ]
  },
  {
   "cell_type": "code",
   "execution_count": 4,
   "metadata": {},
   "outputs": [],
   "source": [
    "#Creating two linspace arrays\n",
    "x1 = np.linspace(0,10,20)\n",
    "x2 = np.linspace(0,10,20)\n",
    "\n",
    "#Using the meshgrid\n",
    "x_1, y_1 = np.meshgrid(x1,x2)\n",
    "#can use reshape or flatten to make a dimesional reduction to make a vector\n",
    "feature_matrix = np.stack((x_1,y_1),axis=-1).reshape(400,2)"
   ]
  },
  {
   "cell_type": "markdown",
   "metadata": {},
   "source": [
    "### Part b)"
   ]
  },
  {
   "cell_type": "code",
   "execution_count": 5,
   "metadata": {
    "scrolled": true
   },
   "outputs": [
    {
     "data": {
      "text/plain": [
       "<matplotlib.collections.PathCollection at 0x7f1fdf195a90>"
      ]
     },
     "execution_count": 5,
     "metadata": {},
     "output_type": "execute_result"
    },
    {
     "data": {
      "image/png": "[encoded data removed]",
      "text/plain": [
       "<Figure size 432x288 with 1 Axes>"
      ]
     },
     "metadata": {
      "needs_background": "light"
     },
     "output_type": "display_data"
    }
   ],
   "source": [
    "plt.scatter(feature_matrix[:,0],feature_matrix[:,1])"
   ]
  },
  {
   "cell_type": "markdown",
   "metadata": {},
   "source": [
    "### Part c)  \n",
    "\n",
    "### Equation: $$f(x) = ~X ~wT + \u000b",
    "a$$"
   ]
  },
  {
   "cell_type": "code",
   "execution_count": 6,
   "metadata": {},
   "outputs": [],
   "source": [
    "def model(feature_matrix, vector, a):\n",
    "     return np.add(np.matmul(feature_matrix,vector.T),a)\n",
    "        \n",
    "#creating the function to evaluate the model\n",
    "def model_evaluation(feature_matrix, vector, a):\n",
    "    values = np.array([])\n",
    "    for i in feature_matrix: \n",
    "        values = np.append(values, model(i, vector,a))\n",
    "    return np.array(values)"
   ]
  },
  {
   "cell_type": "code",
   "execution_count": 7,
   "metadata": {},
   "outputs": [],
   "source": [
    "w_hat = np.array([5,3])\n",
    "a = -10\n",
    "predicted_values = model_evaluation(feature_matrix, w_hat, a).reshape(20,20)"
   ]
  },
  {
   "cell_type": "markdown",
   "metadata": {},
   "source": [
    "### Part d) "
   ]
  },
  {
   "cell_type": "code",
   "execution_count": 6,
   "metadata": {},
   "outputs": [
    {
     "data": {
      "image/png": "[encoded data removed]",
      "text/plain": [
       "<Figure size 432x288 with 2 Axes>"
      ]
     },
     "metadata": {
      "needs_background": "light"
     },
     "output_type": "display_data"
    }
   ],
   "source": [
    "ax = sns.heatmap(predicted_values)"
   ]
  },
  {
   "cell_type": "code",
   "execution_count": 7,
   "metadata": {},
   "outputs": [
    {
     "data": {
      "text/plain": [
       "array([[-10.        ,  -7.36842105,  -4.73684211,  -2.10526316,\n",
       "          0.52631579,   3.15789474,   5.78947368,   8.42105263,\n",
       "         11.05263158,  13.68421053,  16.31578947,  18.94736842,\n",
       "         21.57894737,  24.21052632,  26.84210526,  29.47368421,\n",
       "         32.10526316,  34.73684211,  37.36842105,  40.        ],\n",
       "       [ -8.42105263,  -5.78947368,  -3.15789474,  -0.52631579,\n",
       "          2.10526316,   4.73684211,   7.36842105,  10.        ,\n",
       "         12.63157895,  15.26315789,  17.89473684,  20.52631579,\n",
       "         23.15789474,  25.78947368,  28.42105263,  31.05263158,\n",
       "         33.68421053,  36.31578947,  38.94736842,  41.57894737],\n",
       "       [ -6.84210526,  -4.21052632,  -1.57894737,   1.05263158,\n",
       "          3.68421053,   6.31578947,   8.94736842,  11.57894737,\n",
       "         14.21052632,  16.84210526,  19.47368421,  22.10526316,\n",
       "         24.73684211,  27.36842105,  30.        ,  32.63157895,\n",
       "         35.26315789,  37.89473684,  40.52631579,  43.15789474],\n",
       "       [ -5.26315789,  -2.63157895,   0.        ,   2.63157895,\n",
       "          5.26315789,   7.89473684,  10.52631579,  13.15789474,\n",
       "         15.78947368,  18.42105263,  21.05263158,  23.68421053,\n",
       "         26.31578947,  28.94736842,  31.57894737,  34.21052632,\n",
       "         36.84210526,  39.47368421,  42.10526316,  44.73684211],\n",
       "       [ -3.68421053,  -1.05263158,   1.57894737,   4.21052632,\n",
       "          6.84210526,   9.47368421,  12.10526316,  14.73684211,\n",
       "         17.36842105,  20.        ,  22.63157895,  25.26315789,\n",
       "         27.89473684,  30.52631579,  33.15789474,  35.78947368,\n",
       "         38.42105263,  41.05263158,  43.68421053,  46.31578947],\n",
       "       [ -2.10526316,   0.52631579,   3.15789474,   5.78947368,\n",
       "          8.42105263,  11.05263158,  13.68421053,  16.31578947,\n",
       "         18.94736842,  21.57894737,  24.21052632,  26.84210526,\n",
       "         29.47368421,  32.10526316,  34.73684211,  37.36842105,\n",
       "         40.        ,  42.63157895,  45.26315789,  47.89473684],\n",
       "       [ -0.52631579,   2.10526316,   4.73684211,   7.36842105,\n",
       "         10.        ,  12.63157895,  15.26315789,  17.89473684,\n",
       "         20.52631579,  23.15789474,  25.78947368,  28.42105263,\n",
       "         31.05263158,  33.68421053,  36.31578947,  38.94736842,\n",
       "         41.57894737,  44.21052632,  46.84210526,  49.47368421],\n",
       "       [  1.05263158,   3.68421053,   6.31578947,   8.94736842,\n",
       "         11.57894737,  14.21052632,  16.84210526,  19.47368421,\n",
       "         22.10526316,  24.73684211,  27.36842105,  30.        ,\n",
       "         32.63157895,  35.26315789,  37.89473684,  40.52631579,\n",
       "         43.15789474,  45.78947368,  48.42105263,  51.05263158],\n",
       "       [  2.63157895,   5.26315789,   7.89473684,  10.52631579,\n",
       "         13.15789474,  15.78947368,  18.42105263,  21.05263158,\n",
       "         23.68421053,  26.31578947,  28.94736842,  31.57894737,\n",
       "         34.21052632,  36.84210526,  39.47368421,  42.10526316,\n",
       "         44.73684211,  47.36842105,  50.        ,  52.63157895],\n",
       "       [  4.21052632,   6.84210526,   9.47368421,  12.10526316,\n",
       "         14.73684211,  17.36842105,  20.        ,  22.63157895,\n",
       "         25.26315789,  27.89473684,  30.52631579,  33.15789474,\n",
       "         35.78947368,  38.42105263,  41.05263158,  43.68421053,\n",
       "         46.31578947,  48.94736842,  51.57894737,  54.21052632],\n",
       "       [  5.78947368,   8.42105263,  11.05263158,  13.68421053,\n",
       "         16.31578947,  18.94736842,  21.57894737,  24.21052632,\n",
       "         26.84210526,  29.47368421,  32.10526316,  34.73684211,\n",
       "         37.36842105,  40.        ,  42.63157895,  45.26315789,\n",
       "         47.89473684,  50.52631579,  53.15789474,  55.78947368],\n",
       "       [  7.36842105,  10.        ,  12.63157895,  15.26315789,\n",
       "         17.89473684,  20.52631579,  23.15789474,  25.78947368,\n",
       "         28.42105263,  31.05263158,  33.68421053,  36.31578947,\n",
       "         38.94736842,  41.57894737,  44.21052632,  46.84210526,\n",
       "         49.47368421,  52.10526316,  54.73684211,  57.36842105],\n",
       "       [  8.94736842,  11.57894737,  14.21052632,  16.84210526,\n",
       "         19.47368421,  22.10526316,  24.73684211,  27.36842105,\n",
       "         30.        ,  32.63157895,  35.26315789,  37.89473684,\n",
       "         40.52631579,  43.15789474,  45.78947368,  48.42105263,\n",
       "         51.05263158,  53.68421053,  56.31578947,  58.94736842],\n",
       "       [ 10.52631579,  13.15789474,  15.78947368,  18.42105263,\n",
       "         21.05263158,  23.68421053,  26.31578947,  28.94736842,\n",
       "         31.57894737,  34.21052632,  36.84210526,  39.47368421,\n",
       "         42.10526316,  44.73684211,  47.36842105,  50.        ,\n",
       "         52.63157895,  55.26315789,  57.89473684,  60.52631579],\n",
       "       [ 12.10526316,  14.73684211,  17.36842105,  20.        ,\n",
       "         22.63157895,  25.26315789,  27.89473684,  30.52631579,\n",
       "         33.15789474,  35.78947368,  38.42105263,  41.05263158,\n",
       "         43.68421053,  46.31578947,  48.94736842,  51.57894737,\n",
       "         54.21052632,  56.84210526,  59.47368421,  62.10526316],\n",
       "       [ 13.68421053,  16.31578947,  18.94736842,  21.57894737,\n",
       "         24.21052632,  26.84210526,  29.47368421,  32.10526316,\n",
       "         34.73684211,  37.36842105,  40.        ,  42.63157895,\n",
       "         45.26315789,  47.89473684,  50.52631579,  53.15789474,\n",
       "         55.78947368,  58.42105263,  61.05263158,  63.68421053],\n",
       "       [ 15.26315789,  17.89473684,  20.52631579,  23.15789474,\n",
       "         25.78947368,  28.42105263,  31.05263158,  33.68421053,\n",
       "         36.31578947,  38.94736842,  41.57894737,  44.21052632,\n",
       "         46.84210526,  49.47368421,  52.10526316,  54.73684211,\n",
       "         57.36842105,  60.        ,  62.63157895,  65.26315789],\n",
       "       [ 16.84210526,  19.47368421,  22.10526316,  24.73684211,\n",
       "         27.36842105,  30.        ,  32.63157895,  35.26315789,\n",
       "         37.89473684,  40.52631579,  43.15789474,  45.78947368,\n",
       "         48.42105263,  51.05263158,  53.68421053,  56.31578947,\n",
       "         58.94736842,  61.57894737,  64.21052632,  66.84210526],\n",
       "       [ 18.42105263,  21.05263158,  23.68421053,  26.31578947,\n",
       "         28.94736842,  31.57894737,  34.21052632,  36.84210526,\n",
       "         39.47368421,  42.10526316,  44.73684211,  47.36842105,\n",
       "         50.        ,  52.63157895,  55.26315789,  57.89473684,\n",
       "         60.52631579,  63.15789474,  65.78947368,  68.42105263],\n",
       "       [ 20.        ,  22.63157895,  25.26315789,  27.89473684,\n",
       "         30.52631579,  33.15789474,  35.78947368,  38.42105263,\n",
       "         41.05263158,  43.68421053,  46.31578947,  48.94736842,\n",
       "         51.57894737,  54.21052632,  56.84210526,  59.47368421,\n",
       "         62.10526316,  64.73684211,  67.36842105,  70.        ]])"
      ]
     },
     "execution_count": 7,
     "metadata": {},
     "output_type": "execute_result"
    }
   ],
   "source": [
    "predicted_values"
   ]
  },
  {
   "cell_type": "markdown",
   "metadata": {},
   "source": [
    "### Part e)"
   ]
  },
  {
   "cell_type": "code",
   "execution_count": 8,
   "metadata": {},
   "outputs": [
    {
     "data": {
      "text/plain": [
       "array([[0., 0., 0., 0., 1., 1., 1., 1., 1., 1., 1., 1., 1., 1., 1., 1.,\n",
       "        1., 1., 1., 1.],\n",
       "       [0., 0., 0., 0., 1., 1., 1., 1., 1., 1., 1., 1., 1., 1., 1., 1.,\n",
       "        1., 1., 1., 1.],\n",
       "       [0., 0., 0., 1., 1., 1., 1., 1., 1., 1., 1., 1., 1., 1., 1., 1.,\n",
       "        1., 1., 1., 1.],\n",
       "       [0., 0., 0., 1., 1., 1., 1., 1., 1., 1., 1., 1., 1., 1., 1., 1.,\n",
       "        1., 1., 1., 1.],\n",
       "       [0., 0., 1., 1., 1., 1., 1., 1., 1., 1., 1., 1., 1., 1., 1., 1.,\n",
       "        1., 1., 1., 1.],\n",
       "       [0., 1., 1., 1., 1., 1., 1., 1., 1., 1., 1., 1., 1., 1., 1., 1.,\n",
       "        1., 1., 1., 1.],\n",
       "       [0., 1., 1., 1., 1., 1., 1., 1., 1., 1., 1., 1., 1., 1., 1., 1.,\n",
       "        1., 1., 1., 1.],\n",
       "       [1., 1., 1., 1., 1., 1., 1., 1., 1., 1., 1., 1., 1., 1., 1., 1.,\n",
       "        1., 1., 1., 1.],\n",
       "       [1., 1., 1., 1., 1., 1., 1., 1., 1., 1., 1., 1., 1., 1., 1., 1.,\n",
       "        1., 1., 1., 1.],\n",
       "       [1., 1., 1., 1., 1., 1., 1., 1., 1., 1., 1., 1., 1., 1., 1., 1.,\n",
       "        1., 1., 1., 1.],\n",
       "       [1., 1., 1., 1., 1., 1., 1., 1., 1., 1., 1., 1., 1., 1., 1., 1.,\n",
       "        1., 1., 1., 1.],\n",
       "       [1., 1., 1., 1., 1., 1., 1., 1., 1., 1., 1., 1., 1., 1., 1., 1.,\n",
       "        1., 1., 1., 1.],\n",
       "       [1., 1., 1., 1., 1., 1., 1., 1., 1., 1., 1., 1., 1., 1., 1., 1.,\n",
       "        1., 1., 1., 1.],\n",
       "       [1., 1., 1., 1., 1., 1., 1., 1., 1., 1., 1., 1., 1., 1., 1., 1.,\n",
       "        1., 1., 1., 1.],\n",
       "       [1., 1., 1., 1., 1., 1., 1., 1., 1., 1., 1., 1., 1., 1., 1., 1.,\n",
       "        1., 1., 1., 1.],\n",
       "       [1., 1., 1., 1., 1., 1., 1., 1., 1., 1., 1., 1., 1., 1., 1., 1.,\n",
       "        1., 1., 1., 1.],\n",
       "       [1., 1., 1., 1., 1., 1., 1., 1., 1., 1., 1., 1., 1., 1., 1., 1.,\n",
       "        1., 1., 1., 1.],\n",
       "       [1., 1., 1., 1., 1., 1., 1., 1., 1., 1., 1., 1., 1., 1., 1., 1.,\n",
       "        1., 1., 1., 1.],\n",
       "       [1., 1., 1., 1., 1., 1., 1., 1., 1., 1., 1., 1., 1., 1., 1., 1.,\n",
       "        1., 1., 1., 1.],\n",
       "       [1., 1., 1., 1., 1., 1., 1., 1., 1., 1., 1., 1., 1., 1., 1., 1.,\n",
       "        1., 1., 1., 1.]])"
      ]
     },
     "execution_count": 8,
     "metadata": {},
     "output_type": "execute_result"
    }
   ],
   "source": [
    "#F_MASK = np.ones(F.shape)\n",
    "#F_MASK[F<=0] = 0\n",
    "#F_MASK.shape\n",
    "\n",
    "predicted_vector = (predicted_values > 0)\n",
    "values_0_1 = np.array([])\n",
    "for i in predicted_vector:\n",
    "    for j in i:\n",
    "        if j:\n",
    "            values_0_1 = np.append(values_0_1,1)\n",
    "        else:\n",
    "            values_0_1 = np.append(values_0_1,0)\n",
    "g = values_0_1.reshape(20,20)\n",
    "g"
   ]
  },
  {
   "cell_type": "markdown",
   "metadata": {},
   "source": [
    "### Part f)"
   ]
  },
  {
   "cell_type": "code",
   "execution_count": 9,
   "metadata": {},
   "outputs": [
    {
     "data": {
      "text/plain": [
       "<matplotlib.contour.QuadContourSet at 0x7f618132fba8>"
      ]
     },
     "execution_count": 9,
     "metadata": {},
     "output_type": "execute_result"
    },
    {
     "data": {
      "image/png": "[encoded data removed]",
      "text/plain": [
       "<Figure size 432x288 with 1 Axes>"
      ]
     },
     "metadata": {
      "needs_background": "light"
     },
     "output_type": "display_data"
    }
   ],
   "source": [
    "plt.contourf(g)"
   ]
  },
  {
   "cell_type": "markdown",
   "metadata": {},
   "source": [
    "## Problem 2 "
   ]
  },
  {
   "cell_type": "markdown",
   "metadata": {},
   "source": [
    "## a) Write the equations for each plane with normal vector $~n$ and intersecting the point $r0$:\n",
    "\n",
    "n * (r-r0)\n",
    "\n",
    "\n",
    "n -> (na,nb)\n",
    "\n",
    "\n",
    "r ->(ra, rb)\n",
    "\n",
    "\n",
    "r0 -> (r0a, r0b)\n",
    "\n",
    "\n",
    "\n",
    "\n",
    "### (i)\n",
    "    - The equation would be : 5x+7y-12 = 0\n",
    "### (ii)\n",
    "    - The equation would be -5x-7y+12 = 0\n",
    "### (iii)\n",
    "    - The equation would be x+y+3 = 0\n",
    "### (iv)\n",
    "    - The equation would be -x-y-3 = 0\n",
    "### (v)\n",
    "    - The explaination on why we cannot find a plane from the following vector and point because the vector has more values than the point. \n",
    "### (vi)\n",
    "    - I noticed that the signs(-,+) are flipped between the equations.\n",
    "### (vii)"
   ]
  },
  {
   "cell_type": "code",
   "execution_count": 12,
   "metadata": {},
   "outputs": [
    {
     "data": {
      "text/plain": [
       "'\\nfig = plt.figure()\\nax = fig.add_subplot(111)\\n'"
      ]
     },
     "execution_count": 12,
     "metadata": {},
     "output_type": "execute_result"
    }
   ],
   "source": [
    "v1 = np.array([1,1])\n",
    "p1 = np.array([5,7])\n",
    "\n",
    "v2 = np.array([-1,-1])\n",
    "p2 = np.array([5,7])\n",
    "\n",
    "v3 = np.array([1,1,0])\n",
    "p3 = np.array([1,2,3])\n",
    "\n",
    "v4 = np.array([-1,-1,0])\n",
    "p4 = np.array([1,2,3])\n",
    "\n",
    "\"\"\"\n",
    "fig = plt.figure()\n",
    "ax = fig.add_subplot(111)\n",
    "\"\"\"\n"
   ]
  },
  {
   "cell_type": "code",
   "execution_count": 10,
   "metadata": {},
   "outputs": [
    {
     "data": {
      "image/png": "[encoded data removed]",
      "text/plain": [
       "<Figure size 432x288 with 1 Axes>"
      ]
     },
     "metadata": {
      "needs_background": "light"
     },
     "output_type": "display_data"
    },
    {
     "data": {
      "image/png": "[encoded data removed]",
      "text/plain": [
       "<Figure size 432x288 with 1 Axes>"
      ]
     },
     "metadata": {
      "needs_background": "light"
     },
     "output_type": "display_data"
    }
   ],
   "source": [
    "plt.plot(v1,p1)\n",
    "plt.show()\n",
    "\n",
    "plt.plot(v2,p2)\n",
    "plt.show()"
   ]
  },
  {
   "cell_type": "code",
   "execution_count": 13,
   "metadata": {},
   "outputs": [
    {
     "name": "stderr",
     "output_type": "stream",
     "text": [
      "/usr/local/anaconda3/lib/python3.7/site-packages/ipykernel_launcher.py:14: RuntimeWarning: divide by zero encountered in true_divide\n",
      "  \n",
      "/usr/local/anaconda3/lib/python3.7/site-packages/ipykernel_launcher.py:14: RuntimeWarning: invalid value encountered in true_divide\n",
      "  \n",
      "/usr/local/anaconda3/lib/python3.7/site-packages/ipykernel_launcher.py:16: UserWarning: Z contains NaN values. This may result in rendering artifacts.\n",
      "  app.launch_new_instance()\n",
      "/usr/local/anaconda3/lib/python3.7/site-packages/mpl_toolkits/mplot3d/axes3d.py:1751: RuntimeWarning: invalid value encountered in subtract\n",
      "  v1[poly_i, :] = ps[i1, :] - ps[i2, :]\n",
      "/usr/local/anaconda3/lib/python3.7/site-packages/mpl_toolkits/mplot3d/axes3d.py:1752: RuntimeWarning: invalid value encountered in subtract\n",
      "  v2[poly_i, :] = ps[i2, :] - ps[i3, :]\n",
      "/usr/local/anaconda3/lib/python3.7/site-packages/ipykernel_launcher.py:20: RuntimeWarning: divide by zero encountered in double_scalars\n",
      "/usr/local/anaconda3/lib/python3.7/site-packages/ipykernel_launcher.py:28: RuntimeWarning: divide by zero encountered in true_divide\n",
      "/usr/local/anaconda3/lib/python3.7/site-packages/ipykernel_launcher.py:28: RuntimeWarning: invalid value encountered in true_divide\n"
     ]
    },
    {
     "ename": "NameError",
     "evalue": "name 'figsize' is not defined",
     "output_type": "error",
     "traceback": [
      "\u001b[0;31m---------------------------------------------------------------------------\u001b[0m",
      "\u001b[0;31mNameError\u001b[0m                                 Traceback (most recent call last)",
      "\u001b[0;32m<ipython-input-13-0754a0ffec24>\u001b[0m in \u001b[0;36m<module>\u001b[0;34m\u001b[0m\n\u001b[1;32m     27\u001b[0m \u001b[0mxxx\u001b[0m\u001b[0;34m,\u001b[0m \u001b[0myyy\u001b[0m \u001b[0;34m=\u001b[0m \u001b[0mnp\u001b[0m\u001b[0;34m.\u001b[0m\u001b[0mmeshgrid\u001b[0m\u001b[0;34m(\u001b[0m\u001b[0mrange\u001b[0m\u001b[0;34m(\u001b[0m\u001b[0;36m10\u001b[0m\u001b[0;34m)\u001b[0m\u001b[0;34m,\u001b[0m \u001b[0mrange\u001b[0m\u001b[0;34m(\u001b[0m\u001b[0;36m10\u001b[0m\u001b[0;34m)\u001b[0m\u001b[0;34m)\u001b[0m\u001b[0;34m\u001b[0m\u001b[0;34m\u001b[0m\u001b[0m\n\u001b[1;32m     28\u001b[0m \u001b[0mzz\u001b[0m \u001b[0;34m=\u001b[0m \u001b[0;34m(\u001b[0m\u001b[0;34m-\u001b[0m\u001b[0mv4\u001b[0m\u001b[0;34m[\u001b[0m\u001b[0;36m0\u001b[0m\u001b[0;34m]\u001b[0m \u001b[0;34m*\u001b[0m \u001b[0mxxx\u001b[0m \u001b[0;34m-\u001b[0m \u001b[0mv4\u001b[0m\u001b[0;34m[\u001b[0m\u001b[0;36m1\u001b[0m\u001b[0;34m]\u001b[0m \u001b[0;34m*\u001b[0m \u001b[0myyy\u001b[0m \u001b[0;34m-\u001b[0m \u001b[0mddd\u001b[0m\u001b[0;34m)\u001b[0m \u001b[0;34m*\u001b[0m \u001b[0;36m1.\u001b[0m \u001b[0;34m/\u001b[0m\u001b[0mv4\u001b[0m\u001b[0;34m[\u001b[0m\u001b[0;36m2\u001b[0m\u001b[0;34m]\u001b[0m\u001b[0;34m\u001b[0m\u001b[0;34m\u001b[0m\u001b[0m\n\u001b[0;32m---> 29\u001b[0;31m \u001b[0mplot3d\u001b[0m \u001b[0;34m=\u001b[0m \u001b[0mplt\u001b[0m\u001b[0;34m.\u001b[0m\u001b[0mfigure\u001b[0m\u001b[0;34m(\u001b[0m\u001b[0mfigsize\u001b[0m\u001b[0;34m(\u001b[0m\u001b[0;36m10\u001b[0m\u001b[0;34m,\u001b[0m\u001b[0;36m10\u001b[0m\u001b[0;34m)\u001b[0m\u001b[0;34m)\u001b[0m\u001b[0;34m.\u001b[0m\u001b[0mgca\u001b[0m\u001b[0;34m(\u001b[0m\u001b[0mprojection\u001b[0m\u001b[0;34m=\u001b[0m\u001b[0;34m'3d'\u001b[0m\u001b[0;34m)\u001b[0m\u001b[0;34m\u001b[0m\u001b[0;34m\u001b[0m\u001b[0m\n\u001b[0m\u001b[1;32m     30\u001b[0m \u001b[0mplot3d\u001b[0m\u001b[0;34m.\u001b[0m\u001b[0mplot_surface\u001b[0m\u001b[0;34m(\u001b[0m\u001b[0mxxx\u001b[0m\u001b[0;34m,\u001b[0m\u001b[0myyy\u001b[0m\u001b[0;34m,\u001b[0m\u001b[0mzz\u001b[0m\u001b[0;34m,\u001b[0m \u001b[0malpha\u001b[0m\u001b[0;34m=\u001b[0m\u001b[0;36m0.7\u001b[0m\u001b[0;34m)\u001b[0m\u001b[0;34m\u001b[0m\u001b[0;34m\u001b[0m\u001b[0m\n\u001b[1;32m     31\u001b[0m \u001b[0mplot3d\u001b[0m\u001b[0;34m.\u001b[0m\u001b[0mplot\u001b[0m\u001b[0;34m(\u001b[0m\u001b[0;34m[\u001b[0m\u001b[0mp4\u001b[0m\u001b[0;34m[\u001b[0m\u001b[0;36m0\u001b[0m\u001b[0;34m]\u001b[0m\u001b[0;34m]\u001b[0m\u001b[0;34m,\u001b[0m \u001b[0;34m[\u001b[0m\u001b[0mp4\u001b[0m\u001b[0;34m[\u001b[0m\u001b[0;36m1\u001b[0m\u001b[0;34m]\u001b[0m\u001b[0;34m]\u001b[0m\u001b[0;34m,\u001b[0m \u001b[0;34m[\u001b[0m\u001b[0mp4\u001b[0m\u001b[0;34m[\u001b[0m\u001b[0;36m2\u001b[0m\u001b[0;34m]\u001b[0m\u001b[0;34m]\u001b[0m\u001b[0;34m,\u001b[0m \u001b[0mcolor\u001b[0m\u001b[0;34m=\u001b[0m\u001b[0;34m'yellow'\u001b[0m\u001b[0;34m,\u001b[0m \u001b[0mmarker\u001b[0m\u001b[0;34m=\u001b[0m\u001b[0;34m'o'\u001b[0m\u001b[0;34m,\u001b[0m \u001b[0mmarkersize\u001b[0m\u001b[0;34m=\u001b[0m\u001b[0;36m10\u001b[0m\u001b[0;34m,\u001b[0m \u001b[0malpha\u001b[0m\u001b[0;34m=\u001b[0m\u001b[0;36m0.8\u001b[0m\u001b[0;34m)\u001b[0m\u001b[0;34m\u001b[0m\u001b[0;34m\u001b[0m\u001b[0m\n",
      "\u001b[0;31mNameError\u001b[0m: name 'figsize' is not defined"
     ]
    },
    {
     "name": "stderr",
     "output_type": "stream",
     "text": [
      "/usr/local/anaconda3/lib/python3.7/site-packages/mpl_toolkits/mplot3d/proj3d.py:152: RuntimeWarning: invalid value encountered in true_divide\n",
      "  txs, tys, tzs = vecw[0]/w, vecw[1]/w, vecw[2]/w\n"
     ]
    },
    {
     "data": {
      "image/png": "[encoded data removed]",
      "text/plain": [
       "<Figure size 432x288 with 1 Axes>"
      ]
     },
     "metadata": {
      "needs_background": "light"
     },
     "output_type": "display_data"
    },
    {
     "data": {
      "image/png": "[encoded data removed]",
      "text/plain": [
       "<Figure size 720x720 with 1 Axes>"
      ]
     },
     "metadata": {
      "needs_background": "light"
     },
     "output_type": "display_data"
    }
   ],
   "source": [
    "\n",
    "\"\"\"\n",
    "point\n",
    "vector\n",
    "d = -point.dot(normal)\n",
    "xx, yy meshgrid (np.arange(-5,5) np.arange(-5,5))\n",
    "center_plane = np.array([xx[5,5], yy[5,5], z[5,5]])\n",
    "plt3d = plt.figure().gca(projection='3d')\n",
    "plt3d.quiver(centerplane each index for x y and z,)\n",
    "\"\"\"\n",
    "# tried to get the plan to show up but \n",
    "ax = plt.axes(projection='3d')\n",
    "dd = -p3.dot(v3)\n",
    "xx,yy = np.meshgrid(range(10), range(10))\n",
    "z = (-v3[0] * xx - v3[1] * yy - dd) * 1./v3[2]\n",
    "plot3d = plt.figure(figsize=(10,10)).gca(projection='3d')\n",
    "plot3d.plot_surface(xx,yy,z, alpha=0.7)\n",
    "plot3d.plot([p3[0]], [p3[1]], [p3[2]], color='yellow', marker='o', markersize=10, alpha=0.8)\n",
    "startX = np.mean(ax.get_xlim())\n",
    "startY = np.mean(ax.get_ylim())\n",
    "startZ = (-v3[0] * startX - v3[1] * startY - dd) * 1. /v3[2]\n",
    "startX = p3[0]\n",
    "startY = p3[1]\n",
    "startZ = p3[2]\n",
    "plot3d.quiver([startX], [startY], [startZ], [v3[0]], [v3[1]], [v3[2]], linewidths = (5,), edgecolor=\"red\")\n",
    "\n",
    "ddd = -p4.dot(v4)\n",
    "xxx, yyy = np.meshgrid(range(10), range(10))\n",
    "zz = (-v4[0] * xxx - v4[1] * yyy - ddd) * 1. /v4[2]\n",
    "plot3d = plt.figure(figsize(10,10)).gca(projection='3d')\n",
    "plot3d.plot_surface(xxx,yyy,zz, alpha=0.7)\n",
    "plot3d.plot([p4[0]], [p4[1]], [p4[2]], color='yellow', marker='o', markersize=10, alpha=0.8)\n",
    "startX = np.mean(plot3d.get_xlim())\n",
    "startY = np.mean(plot3d.get_ylim())\n",
    "startZ = (-v4[0] * startX - v4[1] * startY - ddd) * 1. /v4[2]\n",
    "startX = p4[0]\n",
    "startY = p4[1]\n",
    "startZ = p4[2]\n",
    "plot3d.quiver([startX], [startY], [startZ], [v4[0]], [v4[1]], [v4[2]] ,linewidths=(5,), edgecolor=\"red\")"
   ]
  },
  {
   "cell_type": "markdown",
   "metadata": {},
   "source": [
    "### 2b) Planes divide spaces in half. We can use the sign of a dot product operation to determine which side of the plane a point lies."
   ]
  },
  {
   "cell_type": "markdown",
   "metadata": {},
   "source": [
    "### i)"
   ]
  },
  {
   "cell_type": "code",
   "execution_count": 14,
   "metadata": {},
   "outputs": [],
   "source": [
    "nv = np.array([2,2])\n",
    "x = [2,3,4,4,5,6]\n",
    "y = [15,17,13,1,3,2]\n",
    "\n",
    "r1 = (np.dot(nv, np.array([5-x[0],5-y[0]])))\n",
    "r2 = (np.dot(nv, np.array([5-x[1],5-y[1]])))\n",
    "r3 = (np.dot(nv, np.array([5-x[2],5-y[2]])))\n",
    "r4 = (np.dot(nv, np.array([5-x[3],5-y[3]])))\n",
    "r5 = (np.dot(nv, np.array([5-x[4],5-y[4]])))   \n",
    "r6 = (np.dot(nv, np.array([5-x[5],5-y[5]])))   "
   ]
  },
  {
   "cell_type": "code",
   "execution_count": 15,
   "metadata": {},
   "outputs": [
    {
     "name": "stdout",
     "output_type": "stream",
     "text": [
      "Value for X:2, Y:15 :  -14\n",
      "Value for X:3, Y:17 :  -20\n",
      "Value for X:4, Y:13 :  -14\n",
      "Value for X:4, Y:1 :  10\n",
      "Value for X:5, Y:3 :  4\n",
      "Value for X:6, Y:2 :  4\n"
     ]
    }
   ],
   "source": [
    "#getting the values from the 2 vector dot product\n",
    "print(\"Value for X:2, Y:15 : \", r1)\n",
    "print(\"Value for X:3, Y:17 : \", r2)\n",
    "print(\"Value for X:4, Y:13 : \", r3)\n",
    "print(\"Value for X:4, Y:1 : \", r4)\n",
    "print(\"Value for X:5, Y:3 : \", r5)\n",
    "print(\"Value for X:6, Y:2 : \", r6)\n",
    "result_vector = [-14,-20,-14,10,4,4]"
   ]
  },
  {
   "cell_type": "markdown",
   "metadata": {},
   "source": [
    "### ii)"
   ]
  },
  {
   "cell_type": "code",
   "execution_count": 15,
   "metadata": {},
   "outputs": [
    {
     "data": {
      "text/plain": [
       "<matplotlib.collections.PathCollection at 0x7f618129dc18>"
      ]
     },
     "execution_count": 15,
     "metadata": {},
     "output_type": "execute_result"
    },
    {
     "data": {
      "image/png": "[encoded data removed]",
      "text/plain": [
       "<Figure size 432x288 with 1 Axes>"
      ]
     },
     "metadata": {
      "needs_background": "light"
     },
     "output_type": "display_data"
    }
   ],
   "source": [
    "#plotting the points with the values\n",
    "#plot the plane with these points\n",
    "plt.scatter(x,y,s=200, c=result_vector, cmap='gray')"
   ]
  },
  {
   "cell_type": "markdown",
   "metadata": {},
   "source": [
    "### iii) Do all of the points lying on the same side of the plane have the same sign?\n",
    "    - Yes because the points that are on the right side are positive(+) and the points on the left are negative(-)."
   ]
  },
  {
   "cell_type": "markdown",
   "metadata": {},
   "source": [
    "## Problem 3)"
   ]
  },
  {
   "cell_type": "markdown",
   "metadata": {},
   "source": [
    "## a) Load in the haberman.csv dataset as a feature matrix. The last column indicates the class (either 1 = the patient survived 5 years or longer or 2 = the patient died within 5 years) of each observation"
   ]
  },
  {
   "cell_type": "code",
   "execution_count": 16,
   "metadata": {},
   "outputs": [],
   "source": [
    "datapath = 'haberman.csv'"
   ]
  },
  {
   "cell_type": "code",
   "execution_count": 17,
   "metadata": {},
   "outputs": [
    {
     "data": {
      "text/plain": [
       "array([[30., 64.,  1.,  1.],\n",
       "       [30., 62.,  3.,  1.],\n",
       "       [30., 65.,  0.,  1.],\n",
       "       ...,\n",
       "       [77., 65.,  3.,  1.],\n",
       "       [78., 65.,  1.,  2.],\n",
       "       [83., 58.,  2.,  2.]])"
      ]
     },
     "execution_count": 17,
     "metadata": {},
     "output_type": "execute_result"
    }
   ],
   "source": [
    "data = np.loadtxt(datapath, delimiter=',' , usecols=(0,1,2,3))\n",
    "data"
   ]
  },
  {
   "cell_type": "markdown",
   "metadata": {},
   "source": [
    "## b) Randomly assign each observation (row) in the feature matrix to the training or test set."
   ]
  },
  {
   "cell_type": "code",
   "execution_count": 18,
   "metadata": {},
   "outputs": [],
   "source": [
    "arr_rand = np.random.rand(data.shape[0])\n",
    "split = arr_rand <= np.percentile(arr_rand, 70)\n",
    "train = data[split]\n",
    "test = data[~split]"
   ]
  },
  {
   "cell_type": "markdown",
   "metadata": {},
   "source": [
    "## c) How many observations of each class do you expect there to be in the training and testing sets? \n",
    "    - I kept there to be around more than half of the dataset to be in the training dataset and the other portion to be within the testing set.\n",
    "\n",
    "## Count the number of observations of each class in the entire data set and in both the training and testing sets. How do your counts for the training and tests compare with the counts for the entire data set?\n",
    "    - The training set have 152 class 1 and 62 class 2, observations according to the counts and the testing set have 73 class 1 and 19 class 2 observations according to the counts. Meanwhile, the counts for the whole data 225 class 1 and 81 class 2.\n",
    "   \n"
   ]
  },
  {
   "cell_type": "code",
   "execution_count": 19,
   "metadata": {},
   "outputs": [],
   "source": [
    "training_values, training_counts = np.unique(train[:,3:], return_counts=True)\n",
    "testing_values, testing_counts = np.unique(test[:,3:], return_counts=True)\n",
    "data_values, data_counts = np.unique(data[:,3:], return_counts=True)"
   ]
  },
  {
   "cell_type": "code",
   "execution_count": 20,
   "metadata": {},
   "outputs": [
    {
     "data": {
      "text/plain": [
       "array([161,  53])"
      ]
     },
     "execution_count": 20,
     "metadata": {},
     "output_type": "execute_result"
    }
   ],
   "source": [
    "training_counts"
   ]
  },
  {
   "cell_type": "code",
   "execution_count": 21,
   "metadata": {},
   "outputs": [
    {
     "data": {
      "text/plain": [
       "array([64, 28])"
      ]
     },
     "execution_count": 21,
     "metadata": {},
     "output_type": "execute_result"
    }
   ],
   "source": [
    "testing_counts"
   ]
  },
  {
   "cell_type": "code",
   "execution_count": 22,
   "metadata": {},
   "outputs": [
    {
     "data": {
      "text/plain": [
       "array([225,  81])"
      ]
     },
     "execution_count": 22,
     "metadata": {},
     "output_type": "execute_result"
    }
   ],
   "source": [
    "data_counts"
   ]
  },
  {
   "cell_type": "markdown",
   "metadata": {},
   "source": [
    "### d) Randomly assign the observations again. This time, stratify (divide) the observations by class first (Hint: Consider how you might use a mask.) Then, repeat the random assignment into training and testing sets for each class."
   ]
  },
  {
   "cell_type": "code",
   "execution_count": 23,
   "metadata": {},
   "outputs": [],
   "source": [
    "class_1 = (data[:,3] == 1)\n",
    "class_2 = (data[:,3] == 2)\n",
    "class_1_values = (data[class_1])\n",
    "class_2_values = (data[class_2])\n",
    "values_of_classes = np.concatenate([class_1_values, class_2_values], axis=0)"
   ]
  },
  {
   "cell_type": "markdown",
   "metadata": {},
   "source": [
    "### e) Count the number of observations for each class in both the training and testing sets. How do your counts compare with your expectation?\n",
    "    - Well with my expectation I expected for it to be split a little bit more between the two. But seems like for the most part the same values were showing up for each class or marginally different.\n"
   ]
  },
  {
   "cell_type": "code",
   "execution_count": 24,
   "metadata": {},
   "outputs": [],
   "source": [
    "arr_rand = np.random.rand(data.shape[0])\n",
    "split = arr_rand <= np.percentile(arr_rand, 70)\n",
    "train = values_of_classes[split]\n",
    "test = values_of_classes[~split]"
   ]
  },
  {
   "cell_type": "code",
   "execution_count": 25,
   "metadata": {},
   "outputs": [
    {
     "name": "stdout",
     "output_type": "stream",
     "text": [
      "[161  53] [64 28]\n"
     ]
    }
   ],
   "source": [
    "training_values, training_counts = np.unique(train[:,3:], return_counts=True)\n",
    "testing_values, testing_counts = np.unique(test[:,3:], return_counts=True)\n",
    "print(training_counts, testing_counts)"
   ]
  },
  {
   "cell_type": "markdown",
   "metadata": {},
   "source": [
    "### f) How could an uneven distribution of the observations impact the training and evaluation of a model? Explain why strati\f",
    "cation is important.\n",
    "\n",
    "    - Well to start, in a classification setting it is often chosen to ensure that the training and testing set have approximately the same percentage of samples of each target class, which in this case is the 1 and 2. So having a equal distribution of each will give a better chance on making accurate predictions on data that we have not seen yet, possbily bring better result with naive data. Stratsication is important because it will make sure that we split the dataset correctly to be able to do proper analysis and training on the dataset that we have."
   ]
  },
  {
   "cell_type": "markdown",
   "metadata": {},
   "source": [
    "## 4) Confusion Matrices:\n",
    "### a) ![Confusion Matrix](Drawing.png)\n",
    "\n",
    "### b)\n",
    "#### true-positive: 35 (Cancer-Cancer)\n",
    "#### true-negative: 14 (Cancer-benign)\n",
    "#### false-positive: 38 (bengin-cancer)\n",
    "#### false-negative: 60 (bengin-bengin)"
   ]
  },
  {
   "cell_type": "code",
   "execution_count": 26,
   "metadata": {},
   "outputs": [
    {
     "data": {
      "text/plain": [
       "<matplotlib.axes._subplots.AxesSubplot at 0x7f61813cd550>"
      ]
     },
     "execution_count": 26,
     "metadata": {},
     "output_type": "execute_result"
    },
    {
     "data": {
      "image/png": "[encoded data removed]",
      "text/plain": [
       "<Figure size 432x288 with 2 Axes>"
      ]
     },
     "metadata": {
      "needs_background": "light"
     },
     "output_type": "display_data"
    }
   ],
   "source": [
    "confusion_matrix = [[2,3],[1,2]]\n",
    "sns.heatmap(confusion_matrix, annot=True)"
   ]
  },
  {
   "cell_type": "code",
   "execution_count": 27,
   "metadata": {},
   "outputs": [
    {
     "name": "stdout",
     "output_type": "stream",
     "text": [
      "Accuracy:  0.6462585034013606\n",
      "Percision:  0.4794520547945205\n",
      "Recall:  0.7142857142857143\n"
     ]
    }
   ],
   "source": [
    "accuracy = 95/147\n",
    "percision = 35 / 73 \n",
    "recall = 35 / 49\n",
    "\n",
    "print(\"Accuracy: \", accuracy)\n",
    "print(\"Percision: \", percision)\n",
    "print(\"Recall: \", recall)"
   ]
  },
  {
   "cell_type": "markdown",
   "metadata": {},
   "source": [
    "## Problem 5)"
   ]
  },
  {
   "cell_type": "markdown",
   "metadata": {},
   "source": [
    "### a) "
   ]
  },
  {
   "cell_type": "code",
   "execution_count": 95,
   "metadata": {},
   "outputs": [],
   "source": [
    "datapath2 = \"ex1_results.csv\"\n",
    "data2 = np.loadtxt(datapath2, delimiter=',' , usecols=(0,1))"
   ]
  },
  {
   "cell_type": "markdown",
   "metadata": {},
   "source": [
    "### b) Creating 3 thresholds"
   ]
  },
  {
   "cell_type": "code",
   "execution_count": 96,
   "metadata": {},
   "outputs": [],
   "source": [
    "\"\"\"\n",
    "threshold = 0.5\n",
    "predictedLabel = np.zeros(data.shape[0])\n",
    "predictedLabel[data[:,0]>=threshold_1] = 1\n",
    "\"\"\"\n",
    "threshold1 = np.where(data2[:,0] < 0.25,0,1)\n",
    "threshold2 = np.where(data2[:,0] < 0.5,0,1)\n",
    "threshold3 = np.where(data2[:,0] < 0.75,0,1)"
   ]
  },
  {
   "cell_type": "code",
   "execution_count": 97,
   "metadata": {},
   "outputs": [
    {
     "data": {
      "text/plain": [
       "array([[ 2437,  4104],\n",
       "       [  468, 12991]])"
      ]
     },
     "execution_count": 97,
     "metadata": {},
     "output_type": "execute_result"
    }
   ],
   "source": [
    "confusion_matrix(data2[:,1], threshold1)"
   ]
  },
  {
   "cell_type": "code",
   "execution_count": 98,
   "metadata": {},
   "outputs": [
    {
     "data": {
      "text/plain": [
       "array([[ 3145,  3396],\n",
       "       [  667, 12792]])"
      ]
     },
     "execution_count": 98,
     "metadata": {},
     "output_type": "execute_result"
    }
   ],
   "source": [
    "confusion_matrix(data2[:,1], threshold2)"
   ]
  },
  {
   "cell_type": "code",
   "execution_count": 99,
   "metadata": {},
   "outputs": [
    {
     "data": {
      "text/plain": [
       "array([[ 3859,  2682],\n",
       "       [  931, 12528]])"
      ]
     },
     "execution_count": 99,
     "metadata": {},
     "output_type": "execute_result"
    }
   ],
   "source": [
    "confusion_matrix(data2[:,1], threshold3)"
   ]
  },
  {
   "cell_type": "markdown",
   "metadata": {},
   "source": [
    "### c) \n",
    "\n",
    "#### What do you notice about the two rates as the threshold is changed? Which thresholds give the highest and lowest true positive rates? \n",
    "    - To start, the higher the threshold the lower both the true positives and false positives became. The threshold that gave the highest true positive rate what the 0.25 threshold and the lowest was the 0.75.\n",
    "\n",
    "#### Which thresholds give the highest and lowest false positive rates?\n",
    "    - To start, the threshold that give the highest positive rate was the 0.25 threshold and the lowest false positive rate threshold was the 0.75 "
   ]
  },
  {
   "cell_type": "code",
   "execution_count": 100,
   "metadata": {},
   "outputs": [],
   "source": [
    "#running through the cells values could have changed from up above.\n",
    "tpr = 12991 / (12991+468)\n",
    "fpr = 4104 / (4104+2437)\n",
    "\n",
    "tpr2 = 12792 / (12792+667)\n",
    "fpr2 = 3396 / (3396+3145)\n",
    "\n",
    "tpr3 = 12528 / (12528+931)\n",
    "fpr3 = 2682 / (2682+3859)"
   ]
  },
  {
   "cell_type": "code",
   "execution_count": 101,
   "metadata": {},
   "outputs": [
    {
     "name": "stdout",
     "output_type": "stream",
     "text": [
      "True and False Positive Rate from threshold1\n",
      "True Positive Rate:  0.9652277286574039\n",
      "False Positive Rate:  0.6274269989298272\n",
      "\n",
      "\n",
      "True and False Positive Rate from threshold2\n",
      "True Positive Rate:  0.9504420833642916\n",
      "False Positive Rate:  0.519186668705091\n",
      "\n",
      "\n",
      "True and False Positive Rate from threshold3\n",
      "True Positive Rate:  0.930826955940263\n",
      "False Positive Rate:  0.41002904754624675\n"
     ]
    }
   ],
   "source": [
    "print(\"True and False Positive Rate from threshold1\")\n",
    "print(\"True Positive Rate: \", tpr)\n",
    "print(\"False Positive Rate: \", fpr)\n",
    "print(\"\\n\")\n",
    "print(\"True and False Positive Rate from threshold2\")\n",
    "print(\"True Positive Rate: \", tpr2)\n",
    "print(\"False Positive Rate: \", fpr2)\n",
    "print(\"\\n\")\n",
    "print(\"True and False Positive Rate from threshold3\")\n",
    "print(\"True Positive Rate: \", tpr3)\n",
    "print(\"False Positive Rate: \", fpr3)"
   ]
  },
  {
   "cell_type": "markdown",
   "metadata": {},
   "source": [
    "### e) Create a list of all unique scores. Sort the scores from highest to lowest. Use each score as a threshold and predict the true and false positive rates."
   ]
  },
  {
   "cell_type": "code",
   "execution_count": 102,
   "metadata": {},
   "outputs": [
    {
     "data": {
      "text/plain": [
       "16"
      ]
     },
     "execution_count": 102,
     "metadata": {},
     "output_type": "execute_result"
    }
   ],
   "source": [
    "score_list = [0.11123342, 0.223434545, 0.342334545, 0.4435453445, 0.54568798923, 0.68978945633452, 0.74534523436787890, 0.8435341904905, 0.91342345453690, 0.10456569083405, 0.2344536654667, 0.999993453452340, 0.0043534545, 0.000034534523445, 0.045354234, 0.013453453453545]\n",
    "score_list.sort()\n",
    "len(score_list)\n"
   ]
  },
  {
   "cell_type": "markdown",
   "metadata": {},
   "source": [
    "#### i) Use the threshold to predict the labels for each observation"
   ]
  },
  {
   "cell_type": "code",
   "execution_count": 103,
   "metadata": {},
   "outputs": [],
   "source": [
    "new_threshold1 = np.where(data2[:,0] < score_list[0],0,1)\n",
    "new_threshold2 = np.where(data2[:,0] < score_list[1],0,1)\n",
    "new_threshold3 = np.where(data2[:,0] < score_list[2],0,1)\n",
    "new_threshold4 = np.where(data2[:,0] < score_list[3],0,1)\n",
    "new_threshold5 = np.where(data2[:,0] < score_list[4],0,1)\n",
    "new_threshold6 = np.where(data2[:,0] < score_list[5],0,1)\n",
    "new_threshold7 = np.where(data2[:,0] < score_list[6],0,1)\n",
    "new_threshold8 = np.where(data2[:,0] < score_list[7],0,1)\n",
    "new_threshold9 = np.where(data2[:,0] < score_list[8],0,1)\n",
    "new_threshold10 = np.where(data2[:,0] < score_list[9],0,1)\n",
    "new_threshold11= np.where(data2[:,0] < score_list[10],0,1)\n",
    "new_threshold12= np.where(data2[:,0] < score_list[11],0,1)\n",
    "new_threshold13= np.where(data2[:,0] < score_list[12],0,1)\n",
    "new_threshold14= np.where(data2[:,0] < score_list[13],0,1)\n",
    "new_threshold15= np.where(data2[:,0] < score_list[14],0,1)\n",
    "new_threshold16= np.where(data2[:,0] < score_list[15],0,1)"
   ]
  },
  {
   "cell_type": "code",
   "execution_count": 104,
   "metadata": {},
   "outputs": [],
   "source": [
    "c1 = confusion_matrix(data2[:,1], new_threshold1)"
   ]
  },
  {
   "cell_type": "code",
   "execution_count": 105,
   "metadata": {},
   "outputs": [],
   "source": [
    "c2 = confusion_matrix(data2[:,1], new_threshold2)"
   ]
  },
  {
   "cell_type": "code",
   "execution_count": 106,
   "metadata": {},
   "outputs": [],
   "source": [
    "c3 = confusion_matrix(data2[:,1], new_threshold3)"
   ]
  },
  {
   "cell_type": "code",
   "execution_count": 107,
   "metadata": {},
   "outputs": [],
   "source": [
    "c4 = confusion_matrix(data2[:,1], new_threshold4)"
   ]
  },
  {
   "cell_type": "code",
   "execution_count": 108,
   "metadata": {},
   "outputs": [],
   "source": [
    "c5 = confusion_matrix(data2[:,1], new_threshold5)"
   ]
  },
  {
   "cell_type": "code",
   "execution_count": 109,
   "metadata": {},
   "outputs": [],
   "source": [
    "c6 = confusion_matrix(data2[:,1], new_threshold6)"
   ]
  },
  {
   "cell_type": "code",
   "execution_count": 110,
   "metadata": {},
   "outputs": [],
   "source": [
    "c7 = confusion_matrix(data2[:,1], new_threshold7)"
   ]
  },
  {
   "cell_type": "code",
   "execution_count": 111,
   "metadata": {},
   "outputs": [],
   "source": [
    "c8 = confusion_matrix(data2[:,1], new_threshold8)"
   ]
  },
  {
   "cell_type": "code",
   "execution_count": 112,
   "metadata": {},
   "outputs": [],
   "source": [
    "c9 = confusion_matrix(data2[:,1], new_threshold9)"
   ]
  },
  {
   "cell_type": "code",
   "execution_count": 113,
   "metadata": {},
   "outputs": [],
   "source": [
    "c10 = confusion_matrix(data2[:,1], new_threshold10)"
   ]
  },
  {
   "cell_type": "code",
   "execution_count": 114,
   "metadata": {},
   "outputs": [],
   "source": [
    "c11 = confusion_matrix(data2[:,1], new_threshold11)"
   ]
  },
  {
   "cell_type": "code",
   "execution_count": 115,
   "metadata": {},
   "outputs": [],
   "source": [
    "c12 = confusion_matrix(data2[:,1], new_threshold12)"
   ]
  },
  {
   "cell_type": "code",
   "execution_count": 116,
   "metadata": {},
   "outputs": [],
   "source": [
    "c13 = confusion_matrix(data2[:,1], new_threshold13)"
   ]
  },
  {
   "cell_type": "code",
   "execution_count": 117,
   "metadata": {},
   "outputs": [],
   "source": [
    "c14 = confusion_matrix(data2[:,1], new_threshold14)"
   ]
  },
  {
   "cell_type": "code",
   "execution_count": 118,
   "metadata": {},
   "outputs": [],
   "source": [
    "c15 = confusion_matrix(data2[:,1], new_threshold15)"
   ]
  },
  {
   "cell_type": "code",
   "execution_count": 119,
   "metadata": {},
   "outputs": [],
   "source": [
    "c16 = confusion_matrix(data2[:,1], new_threshold16)"
   ]
  },
  {
   "cell_type": "markdown",
   "metadata": {},
   "source": [
    "#### ii) Calculate the true and false positive rates"
   ]
  },
  {
   "cell_type": "code",
   "execution_count": 120,
   "metadata": {},
   "outputs": [],
   "source": [
    "\"\"\"\n",
    "fpr ,tpr, thresholds = metirc.aoc(data[:1], data[:0], pos_label=1)\n",
    "plt.scatter(fpr, tpr)\n",
    "\"\"\"\n",
    "\n",
    "#values from up above could have changed from running the cells\n",
    "new_tpr = c1[1,:][1] / (c1[1,:][0]+c1[1,:][1])\n",
    "new_fpr = c1[0,:][1] / (c1[0,:][0]+c1[0,:][1])\n",
    "\n",
    "new_tpr2 = c2[1,:][1] / (c2[1,:][0]+c2[1,:][1])\n",
    "new_fpr2 = c2[0,:][1] / (c2[0,:][0]+c2[0,:][1])\n",
    "\n",
    "new_tpr3 = c3[1,:][1] / (c3[1,:][0]+c3[1,:][1])\n",
    "new_fpr3 = c3[0,:][1] / (c3[0,:][0]+c3[0,:][1])\n",
    "\n",
    "new_tpr4 = c4[1,:][1] / (c4[1,:][0]+c4[1,:][1])\n",
    "new_fpr4 = c4[0,:][1] / (c4[0,:][0]+c4[0,:][1])\n",
    "\n",
    "new_tpr5 = c5[1,:][1] / (c5[1,:][0]+c5[1,:][1])\n",
    "new_fpr5 = c5[0,:][1] / (c5[0,:][0]+c5[0,:][1])\n",
    "\n",
    "new_tpr6 = c6[1,:][1] / (c6[1,:][0]+c6[1,:][1])\n",
    "new_fpr6 = c6[0,:][1] / (c6[0,:][0]+c6[0,:][1])\n",
    "\n",
    "new_tpr7 = c7[1,:][1] / (c7[1,:][0]+c7[1,:][1])\n",
    "new_fpr7 = c7[0,:][1] / (c7[0,:][0]+c7[0,:][1])\n",
    "\n",
    "new_tpr8 = c8[1,:][1] / (c8[1,:][0]+c8[1,:][1])\n",
    "new_fpr8 = c8[0,:][1] / (c8[0,:][0]+c8[0,:][1])\n",
    "\n",
    "new_tpr9 = c9[1,:][1] / (c9[1,:][0]+c9[1,:][1])\n",
    "new_fpr9 = c9[0,:][1] / (c9[0,:][0]+c9[0,:][1])\n",
    "\n",
    "new_tpr10 = c10[1,:][1] / (c10[1,:][0]+c10[1,:][1])\n",
    "new_fpr10 = c10[0,:][1] / (c10[0,:][0]+c10[0,:][1])\n",
    "\n",
    "new_tpr11 = c11[1,:][1] / (c11[1,:][0]+c11[1,:][1])\n",
    "new_fpr11 =c11[0,:][1] / (c11[0,:][0]+c11[0,:][1])\n",
    "\n",
    "new_tpr12 = c12[1,:][1] / (c12[1,:][0]+c12[1,:][1])\n",
    "new_fpr12 =c12[0,:][1] / (c12[0,:][0]+c12[0,:][1])\n",
    "\n",
    "new_tpr13 = c13[1,:][1] / (c13[1,:][0]+c13[1,:][1])\n",
    "new_fpr13 =c13[0,:][1] / (c13[0,:][0]+c13[0,:][1])\n",
    "\n",
    "new_tpr14 = c14[1,:][1] / (c14[1,:][0]+c14[1,:][1])\n",
    "new_fpr14 =c14[0,:][1] / (c14[0,:][0]+c14[0,:][1])\n",
    "\n",
    "new_tpr15 = c15[1,:][1] / (c15[1,:][0]+c15[1,:][1])\n",
    "new_fpr15 =c15[0,:][1] / (c15[0,:][0]+c15[0,:][1])\n",
    "\n",
    "new_tpr16 = c16[1,:][1] / (c16[1,:][0]+c16[1,:][1])\n",
    "new_fpr16 =c16[0,:][1] / (c16[0,:][0]+c16[0,:][1])"
   ]
  },
  {
   "cell_type": "code",
   "execution_count": 121,
   "metadata": {},
   "outputs": [
    {
     "name": "stdout",
     "output_type": "stream",
     "text": [
      "True and False Positive Rate from threshold1\n",
      "True Positive Rate:  1.0\n",
      "False Positive Rate:  1.0\n",
      "\n",
      "\n",
      "True and False Positive Rate from threshold2\n",
      "True Positive Rate:  0.9988855041236347\n",
      "False Positive Rate:  0.519186668705091\n",
      "\n",
      "\n",
      "True and False Positive Rate from threshold3\n",
      "True Positive Rate:  0.9947990192436288\n",
      "False Positive Rate:  0.9545940987616572\n",
      "\n",
      "\n",
      "True and False Positive Rate from threshold4\n",
      "True Positive Rate:  0.9843227580057954\n",
      "False Positive Rate:  0.8405442592875707\n",
      "\n",
      "\n",
      "True and False Positive Rate from threshold5\n",
      "True Positive Rate:  0.9769670852217847\n",
      "False Positive Rate:  0.7407124292921572\n",
      "\n",
      "\n",
      "True and False Positive Rate from threshold6\n",
      "True Positive Rate:  0.9765212868712386\n",
      "False Positive Rate:  0.7323039290628345\n",
      "\n",
      "\n",
      "True and False Positive Rate from threshold7\n",
      "True Positive Rate:  0.9668623226094063\n",
      "False Positive Rate:  0.641492126586149\n",
      "\n",
      "\n",
      "True and False Positive Rate from threshold8\n",
      "True Positive Rate:  0.9661936250835872\n",
      "False Positive Rate:  0.635376853692096\n",
      "\n",
      "\n",
      "True and False Positive Rate from threshold9\n",
      "True Positive Rate:  0.9604725462515789\n",
      "False Positive Rate:  0.5869133160067268\n",
      "\n",
      "\n",
      "True and False Positive Rate from threshold10\n",
      "True Positive Rate:  0.9540084701686604\n",
      "False Positive Rate:  0.5450236966824644\n",
      "\n",
      "\n",
      "True and False Positive Rate from threshold11\n",
      "True Positive Rate:  0.9467270971097407\n",
      "False Positive Rate:  0.499770677266473\n"
     ]
    }
   ],
   "source": [
    "print(\"True and False Positive Rate from threshold1\")\n",
    "print(\"True Positive Rate: \", new_tpr)\n",
    "print(\"False Positive Rate: \", new_fpr)\n",
    "print(\"\\n\")\n",
    "print(\"True and False Positive Rate from threshold2\")\n",
    "print(\"True Positive Rate: \", new_tpr2)\n",
    "print(\"False Positive Rate: \", fpr2)\n",
    "print(\"\\n\")\n",
    "print(\"True and False Positive Rate from threshold3\")\n",
    "print(\"True Positive Rate: \", new_tpr3)\n",
    "print(\"False Positive Rate: \", new_fpr3)\n",
    "print(\"\\n\")\n",
    "print(\"True and False Positive Rate from threshold4\")\n",
    "print(\"True Positive Rate: \", new_tpr4)\n",
    "print(\"False Positive Rate: \", new_fpr4)\n",
    "print(\"\\n\")\n",
    "print(\"True and False Positive Rate from threshold5\")\n",
    "print(\"True Positive Rate: \", new_tpr5)\n",
    "print(\"False Positive Rate: \", new_fpr5)\n",
    "print(\"\\n\")\n",
    "print(\"True and False Positive Rate from threshold6\")\n",
    "print(\"True Positive Rate: \", new_tpr6)\n",
    "print(\"False Positive Rate: \", new_fpr6)\n",
    "print(\"\\n\")\n",
    "print(\"True and False Positive Rate from threshold7\")\n",
    "print(\"True Positive Rate: \", new_tpr7)\n",
    "print(\"False Positive Rate: \", new_fpr7)\n",
    "print(\"\\n\")\n",
    "print(\"True and False Positive Rate from threshold8\")\n",
    "print(\"True Positive Rate: \", new_tpr8)\n",
    "print(\"False Positive Rate: \", new_fpr8)\n",
    "print(\"\\n\")\n",
    "print(\"True and False Positive Rate from threshold9\")\n",
    "print(\"True Positive Rate: \", new_tpr9)\n",
    "print(\"False Positive Rate: \", new_fpr9)\n",
    "print(\"\\n\")\n",
    "print(\"True and False Positive Rate from threshold10\")\n",
    "print(\"True Positive Rate: \", new_tpr10)\n",
    "print(\"False Positive Rate: \", new_fpr10)\n",
    "print(\"\\n\")\n",
    "print(\"True and False Positive Rate from threshold11\")\n",
    "print(\"True Positive Rate: \", new_tpr11)\n",
    "print(\"False Positive Rate: \", new_fpr11)"
   ]
  },
  {
   "cell_type": "markdown",
   "metadata": {},
   "source": [
    "#### f) Plot the true (horizontal) and false (vertical) positive rates for each threshold"
   ]
  },
  {
   "cell_type": "code",
   "execution_count": 122,
   "metadata": {},
   "outputs": [
    {
     "data": {
      "text/plain": [
       "[<matplotlib.lines.Line2D at 0x7f617b2df208>]"
      ]
     },
     "execution_count": 122,
     "metadata": {},
     "output_type": "execute_result"
    },
    {
     "data": {
      "image/png": "[encoded data removed]",
      "text/plain": [
       "<Figure size 432x288 with 1 Axes>"
      ]
     },
     "metadata": {
      "needs_background": "light"
     },
     "output_type": "display_data"
    }
   ],
   "source": [
    "tpr_values = [new_tpr, new_tpr2, new_tpr3, new_tpr4, new_tpr5, new_tpr6, new_tpr7, new_tpr8, new_tpr9, new_tpr10, new_tpr11, new_tpr12, new_tpr13, new_tpr14, new_tpr15, new_tpr16]\n",
    "fpr_values = [new_fpr, new_fpr2, new_fpr3, new_fpr4, new_fpr5, new_fpr6, new_fpr7, new_fpr8, new_fpr9, new_fpr10, new_fpr11, new_fpr12, new_fpr13, new_fpr14, new_fpr15, new_fpr16]\n",
    "plt.plot(tpr_values, fpr_values, color='darkorange')\n",
    "plt.plot([0,1], [0,1], color='navy', linestyle='--')"
   ]
  }
 ],
 "metadata": {
  "kernelspec": {
   "display_name": "Python 3",
   "language": "python",
   "name": "python3"
  },
  "language_info": {
   "codemirror_mode": {
    "name": "ipython",
    "version": 3
   },
   "file_extension": ".py",
   "mimetype": "text/x-python",
   "name": "python",
   "nbconvert_exporter": "python",
   "pygments_lexer": "ipython3",
   "version": "3.7.3"
  }
 },
 "nbformat": 4,
 "nbformat_minor": 5
}
